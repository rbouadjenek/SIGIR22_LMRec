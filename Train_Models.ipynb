{
 "cells": [
  {
   "cell_type": "code",
   "execution_count": null,
   "id": "ecf2c668",
   "metadata": {},
   "outputs": [],
   "source": [
    "# To be run on Google Colab!\n",
    "!mkdir -p utoronto/edu/ca/\n",
    "!wget --directory-prefix=utoronto/edu/ca/  https://raw.githubusercontent.com/rbouadjenek/SIGIR22_LMRec/main/utoronto/edu/ca/data.py   > /dev/null 2> /dev/null \n",
    "!wget --directory-prefix=utoronto/edu/ca/ https://raw.githubusercontent.com/rbouadjenek/SIGIR22_LMRec/main/utoronto/edu/ca/models.py  > /dev/null 2> /dev/null \n",
    "!wget --directory-prefix=utoronto/edu/ca/ https://raw.githubusercontent.com/rbouadjenek/SIGIR22_LMRec/main/utoronto/edu/ca/utils.py  > /dev/null 2> /dev/null \n",
    "!wget --directory-prefix=utoronto/edu/ca/ https://raw.githubusercontent.com/rbouadjenek/SIGIR22_LMRec/main/utoronto/edu/ca/__init__.py  > /dev/null 2> /dev/null \n",
    "!wget --directory-prefix=utoronto/edu/ https://raw.githubusercontent.com/rbouadjenek/SIGIR22_LMRec/main/utoronto/edu/ca/__init__.py  > /dev/null 2> /dev/null \n",
    "!wget --directory-prefix=utoronto/ https://raw.githubusercontent.com/rbouadjenek/SIGIR22_LMRec/main/utoronto/edu/ca/__init__.py  > /dev/null 2> /dev/null \n",
    "!wget --directory-prefix=./ https://raw.githubusercontent.com/rbouadjenek/SIGIR22_LMRec/main/names.txt  > /dev/null 2> /dev/null\n",
    "!pip install tokenizers transformers > /dev/null 2> /dev/null\n",
    "\n",
    "from google.colab import drive\n",
    "drive.mount('/content/drive')\n"
   ]
  },
  {
   "cell_type": "code",
   "execution_count": null,
   "id": "39a6fc05",
   "metadata": {},
   "outputs": [],
   "source": [
    "import tensorflow as tf\n",
    "from tensorflow import keras\n",
    "from utoronto.edu.ca.data import Dataset\n",
    "import utoronto.edu.ca.models as models\n",
    "import utoronto.edu.ca.utils as utils\n",
    "import matplotlib.pyplot as plt\n",
    "import pandas as pd\n",
    "\n",
    "%matplotlib inline\n",
    "%load_ext autoreload\n",
    "%autoreload 2\n",
    "%load_ext tensorboard\n"
   ]
  },
  {
   "cell_type": "markdown",
   "id": "6bddc858",
   "metadata": {},
   "source": [
    "# Collect the data"
   ]
  },
  {
   "cell_type": "code",
   "execution_count": null,
   "id": "9e4d1599",
   "metadata": {},
   "outputs": [],
   "source": [
    "dataset = Dataset('atlanta', masking=True)\n",
    "# dataset = Dataset('austin', masking=True)\n",
    "# dataset = Dataset('boston', masking=True)\n",
    "# dataset = Dataset('columbus', masking=True)\n",
    "# dataset = Dataset('orlando', masking=True)\n",
    "# dataset = Dataset('portland', masking=True)\n",
    "# dataset = Dataset('toronto', masking=True)\n",
    "\n",
    "early_stopping_callback = tf.keras.callbacks.EarlyStopping(monitor='val_accuracy', patience=3)\n"
   ]
  },
  {
   "cell_type": "markdown",
   "id": "d87adfef",
   "metadata": {},
   "source": [
    "# Create the model"
   ]
  },
  {
   "cell_type": "code",
   "execution_count": null,
   "id": "c0a826e3",
   "metadata": {},
   "outputs": [],
   "source": [
    "# Create the model\n",
    "model = models.get_model(dataset.max_len, dataset.num_labels, tpu=True)\n",
    "model.summary()\n",
    "#train model\n",
    "history = model.fit(dataset.X_train,\n",
    "                    dataset.y_train,\n",
    "                    validation_data=(dataset.X_eval, dataset.y_eval),\n",
    "                    epochs=15,\n",
    "                    batch_size=64,\n",
    "                    callbacks=[early_stopping_callback])\n",
    "utils.learning_plots(history)\n"
   ]
  },
  {
   "cell_type": "markdown",
   "id": "e806949c",
   "metadata": {},
   "source": [
    "# Save the model"
   ]
  },
  {
   "cell_type": "code",
   "execution_count": null,
   "id": "9cbda34f",
   "metadata": {},
   "outputs": [],
   "source": [
    "file_name = './saved_weights_' + dataset.dataset + '.h5'\n",
    "model.save_weights(file_name, overwrite=True)\n"
   ]
  },
  {
   "cell_type": "code",
   "execution_count": null,
   "id": "4e6282bb",
   "metadata": {},
   "outputs": [],
   "source": [
    "!cp $file_name /content/drive/MyDrive/\n"
   ]
  },
  {
   "cell_type": "markdown",
   "id": "00053e51",
   "metadata": {},
   "source": [
    "# Debug"
   ]
  },
  {
   "cell_type": "code",
   "execution_count": null,
   "id": "46d9f049",
   "metadata": {},
   "outputs": [],
   "source": []
  }
 ],
 "metadata": {
  "kernelspec": {
   "display_name": "Python 3 (ipykernel)",
   "language": "python",
   "name": "python3"
  },
  "language_info": {
   "codemirror_mode": {
    "name": "ipython",
    "version": 3
   },
   "file_extension": ".py",
   "mimetype": "text/x-python",
   "name": "python",
   "nbconvert_exporter": "python",
   "pygments_lexer": "ipython3",
   "version": "3.9.8"
  },
  "latex_envs": {
   "LaTeX_envs_menu_present": true,
   "autoclose": false,
   "autocomplete": true,
   "bibliofile": "biblio.bib",
   "cite_by": "apalike",
   "current_citInitial": 1,
   "eqLabelWithNumbers": true,
   "eqNumInitial": 1,
   "hotkeys": {
    "equation": "Ctrl-E",
    "itemize": "Ctrl-I"
   },
   "labels_anchors": false,
   "latex_user_defs": false,
   "report_style_numbering": false,
   "user_envs_cfg": false
  },
  "toc": {
   "base_numbering": 1,
   "nav_menu": {},
   "number_sections": true,
   "sideBar": true,
   "skip_h1_title": false,
   "title_cell": "Table of Contents",
   "title_sidebar": "Contents",
   "toc_cell": false,
   "toc_position": {},
   "toc_section_display": true,
   "toc_window_display": false
  }
 },
 "nbformat": 4,
 "nbformat_minor": 5
}