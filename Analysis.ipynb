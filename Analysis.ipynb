{
  "cells": [
    {
      "cell_type": "code",
      "source": [
        "# To be run on Google Colab!\n",
        "!mkdir -p utoronto/edu/ca/\n",
        "!wget --directory-prefix=utoronto/edu/ca/  https://raw.githubusercontent.com/rbouadjenek/SIGIR22_LMRec/main/utoronto/edu/ca/metrics.py   > /dev/null 2> /dev/null \n",
        "!wget --directory-prefix=utoronto/edu/ca/  https://raw.githubusercontent.com/rbouadjenek/SIGIR22_LMRec/main/utoronto/edu/ca/data.py   > /dev/null 2> /dev/null \n",
        "!wget --directory-prefix=utoronto/edu/ca/ https://raw.githubusercontent.com/rbouadjenek/SIGIR22_LMRec/main/utoronto/edu/ca/models.py  > /dev/null 2> /dev/null \n",
        "!wget --directory-prefix=utoronto/edu/ca/ https://raw.githubusercontent.com/rbouadjenek/SIGIR22_LMRec/main/utoronto/edu/ca/utils.py  > /dev/null 2> /dev/null \n",
        "!wget --directory-prefix=utoronto/edu/ca/ https://raw.githubusercontent.com/rbouadjenek/SIGIR22_LMRec/main/utoronto/edu/ca/__init__.py  > /dev/null 2> /dev/null \n",
        "!wget --directory-prefix=utoronto/edu/ https://raw.githubusercontent.com/rbouadjenek/SIGIR22_LMRec/main/utoronto/edu/ca/__init__.py  > /dev/null 2> /dev/null \n",
        "!wget --directory-prefix=utoronto/ https://raw.githubusercontent.com/rbouadjenek/SIGIR22_LMRec/main/utoronto/edu/ca/__init__.py  > /dev/null 2> /dev/null \n",
        "!wget --directory-prefix=./ https://raw.githubusercontent.com/rbouadjenek/SIGIR22_LMRec/main/names.txt  > /dev/null 2> /dev/null \n",
        "!pip install tokenizers transformers > /dev/null 2> /dev/null \n",
        "\n",
        "from google.colab import drive\n",
        "drive.mount('/content/drive')\n"
      ],
      "metadata": {
        "id": "XO0V84geVuMI"
      },
      "id": "XO0V84geVuMI",
      "execution_count": 1,
      "outputs": []
    },
    {
      "cell_type": "code",
      "execution_count": 10,
      "id": "dab65d7a",
      "metadata": {
        "id": "dab65d7a"
      },
      "outputs": [],
      "source": [
        "import tensorflow as tf\n",
        "from tensorflow import keras\n",
        "from utoronto.edu.ca.data import Dataset\n",
        "import utoronto.edu.ca.models as models\n",
        "import utoronto.edu.ca.utils as utils\n",
        "import utoronto.edu.ca.metrics as metrics\n",
        "import matplotlib.pyplot as plt\n",
        "import pandas as pd\n",
        "import numpy as np\n",
        "import seaborn as sns\n",
        "from tqdm import tqdm\n",
        "import pickle\n",
        "\n",
        "\n",
        "%matplotlib inline\n",
        "%load_ext autoreload\n",
        "%autoreload 2\n",
        "%load_ext tensorboard\n"
      ]
    },
    {
      "cell_type": "code",
      "execution_count": 21,
      "id": "fc784a87",
      "metadata": {
        "id": "fc784a87"
      },
      "outputs": [],
      "source": [
        "yelp_cities = ['atlanta',\n",
        "               'austin',\n",
        "               'boston',\n",
        "               'columbus',\n",
        "               'orlando',\n",
        "               'portland',\n",
        "               'toronto'\n",
        "]"
      ]
    },
    {
      "cell_type": "code",
      "execution_count": 17,
      "id": "f71ef256",
      "metadata": {
        "scrolled": true,
        "colab": {
          "base_uri": "https://localhost:8080/"
        },
        "id": "f71ef256",
        "outputId": "38a3908d-8ae6-4b2b-a80b-319f0ce0ebf2"
      },
      "outputs": [
        {
          "metadata": {
            "tags": null
          },
          "name": "stdout",
          "output_type": "stream",
          "text": [
            "Downloading data from http://206.12.93.90:8080/yelp_data/Austin_reviews.tar.gz\n",
            "267681792/267679931 [==============================] - 1s 0us/step\n",
            "267689984/267679931 [==============================] - 1s 0us/step\n",
            "Data in:  /root/.keras/datasets/Austin_reviews.csv\n"
          ]
        },
        {
          "metadata": {
            "tags": null
          },
          "name": "stderr",
          "output_type": "stream",
          "text": [
            "/usr/local/lib/python3.7/dist-packages/IPython/core/interactiveshell.py:2822: DtypeWarning: Columns (10) have mixed types.Specify dtype option on import or set low_memory=False.\n",
            "  if self.run_code(code, result):\n",
            "100%|██████████| 786564/786564 [00:00<00:00, 1111042.51it/s]\n",
            "100%|██████████| 786564/786564 [06:51<00:00, 1909.65it/s]\n",
            "Some layers from the model checkpoint at bert-base-uncased were not used when initializing TFBertModel: ['mlm___cls', 'nsp___cls']\n",
            "- This IS expected if you are initializing TFBertModel from the checkpoint of a model trained on another task or with another architecture (e.g. initializing a BertForSequenceClassification model from a BertForPreTraining model).\n",
            "- This IS NOT expected if you are initializing TFBertModel from the checkpoint of a model that you expect to be exactly identical (initializing a BertForSequenceClassification model from a BertForSequenceClassification model).\n",
            "All the layers of TFBertModel were initialized from the model checkpoint at bert-base-uncased.\n",
            "If your task is similar to the task the model of the checkpoint was trained on, you can already use TFBertModel for predictions without further training.\n"
          ]
        },
        {
          "metadata": {
            "tags": null
          },
          "name": "stdout",
          "output_type": "stream",
          "text": [
            "Downloading data from http://206.12.93.90:8080/yelp_data/models/saved_weights_austin.h5\n",
            "451493888/451493484 [==============================] - 2s 0us/step\n",
            "451502080/451493484 [==============================] - 2s 0us/step\n",
            "579/579 [==============================] - 1132s 2s/step\n",
            "Data in:  /root/.keras/datasets/Austin_reviews.csv\n"
          ]
        },
        {
          "metadata": {
            "tags": null
          },
          "name": "stderr",
          "output_type": "stream",
          "text": [
            "/usr/local/lib/python3.7/dist-packages/IPython/core/interactiveshell.py:2822: DtypeWarning: Columns (10) have mixed types.Specify dtype option on import or set low_memory=False.\n",
            "  if self.run_code(code, result):\n",
            "100%|██████████| 786564/786564 [00:00<00:00, 1076918.28it/s]\n",
            "100%|██████████| 786564/786564 [34:55<00:00, 375.43it/s]\n"
          ]
        },
        {
          "metadata": {
            "tags": null
          },
          "name": "stdout",
          "output_type": "stream",
          "text": [
            "579/579 [==============================] - 1130s 2s/step\n",
            "Downloading data from http://206.12.93.90:8080/yelp_data/Boston_reviews.tar.gz\n",
            "180797440/180790154 [==============================] - 1s 0us/step\n",
            "180805632/180790154 [==============================] - 1s 0us/step\n",
            "Data in:  /root/.keras/datasets/Boston_reviews.csv\n"
          ]
        },
        {
          "metadata": {
            "tags": null
          },
          "name": "stderr",
          "output_type": "stream",
          "text": [
            "100%|██████████| 521596/521596 [00:00<00:00, 1124649.44it/s]\n",
            "100%|██████████| 521596/521596 [04:09<00:00, 2087.62it/s]\n",
            "Some layers from the model checkpoint at bert-base-uncased were not used when initializing TFBertModel: ['mlm___cls', 'nsp___cls']\n",
            "- This IS expected if you are initializing TFBertModel from the checkpoint of a model trained on another task or with another architecture (e.g. initializing a BertForSequenceClassification model from a BertForPreTraining model).\n",
            "- This IS NOT expected if you are initializing TFBertModel from the checkpoint of a model that you expect to be exactly identical (initializing a BertForSequenceClassification model from a BertForSequenceClassification model).\n",
            "All the layers of TFBertModel were initialized from the model checkpoint at bert-base-uncased.\n",
            "If your task is similar to the task the model of the checkpoint was trained on, you can already use TFBertModel for predictions without further training.\n"
          ]
        },
        {
          "metadata": {
            "tags": null
          },
          "name": "stdout",
          "output_type": "stream",
          "text": [
            "Downloading data from http://206.12.93.90:8080/yelp_data/models/saved_weights_boston.h5\n",
            "445964288/445962584 [==============================] - 2s 0us/step\n",
            "445972480/445962584 [==============================] - 2s 0us/step\n",
            "361/361 [==============================] - 908s 3s/step\n",
            "Data in:  /root/.keras/datasets/Boston_reviews.csv\n"
          ]
        },
        {
          "metadata": {
            "tags": null
          },
          "name": "stderr",
          "output_type": "stream",
          "text": [
            "100%|██████████| 521596/521596 [00:00<00:00, 1200679.77it/s]\n",
            "100%|██████████| 521596/521596 [21:27<00:00, 405.07it/s]\n"
          ]
        },
        {
          "metadata": {
            "tags": null
          },
          "name": "stdout",
          "output_type": "stream",
          "text": [
            "361/361 [==============================] - 905s 3s/step\n",
            "Downloading data from http://206.12.93.90:8080/yelp_data/Columbus_reviews.tar.gz\n",
            "66478080/66470604 [==============================] - 0s 0us/step\n",
            "66486272/66470604 [==============================] - 0s 0us/step\n",
            "Data in:  /root/.keras/datasets/Columbus_reviews.csv\n"
          ]
        },
        {
          "metadata": {
            "tags": null
          },
          "name": "stderr",
          "output_type": "stream",
          "text": [
            "100%|██████████| 198099/198099 [00:00<00:00, 1102092.57it/s]\n",
            "100%|██████████| 198099/198099 [01:27<00:00, 2271.01it/s]\n",
            "Some layers from the model checkpoint at bert-base-uncased were not used when initializing TFBertModel: ['mlm___cls', 'nsp___cls']\n",
            "- This IS expected if you are initializing TFBertModel from the checkpoint of a model trained on another task or with another architecture (e.g. initializing a BertForSequenceClassification model from a BertForPreTraining model).\n",
            "- This IS NOT expected if you are initializing TFBertModel from the checkpoint of a model that you expect to be exactly identical (initializing a BertForSequenceClassification model from a BertForSequenceClassification model).\n",
            "All the layers of TFBertModel were initialized from the model checkpoint at bert-base-uncased.\n",
            "If your task is similar to the task the model of the checkpoint was trained on, you can already use TFBertModel for predictions without further training.\n"
          ]
        },
        {
          "metadata": {
            "tags": null
          },
          "name": "stdout",
          "output_type": "stream",
          "text": [
            "Downloading data from http://206.12.93.90:8080/yelp_data/models/saved_weights_columbus.h5\n",
            "445612032/445609984 [==============================] - 3s 0us/step\n",
            "445620224/445609984 [==============================] - 3s 0us/step\n",
            "135/135 [==============================] - 265s 2s/step\n",
            "Data in:  /root/.keras/datasets/Columbus_reviews.csv\n"
          ]
        },
        {
          "metadata": {
            "tags": null
          },
          "name": "stderr",
          "output_type": "stream",
          "text": [
            "100%|██████████| 198099/198099 [00:00<00:00, 1115132.46it/s]\n",
            "100%|██████████| 198099/198099 [07:53<00:00, 417.99it/s]\n"
          ]
        },
        {
          "metadata": {
            "tags": null
          },
          "name": "stdout",
          "output_type": "stream",
          "text": [
            "135/135 [==============================] - 262s 2s/step\n",
            "Downloading data from http://206.12.93.90:8080/yelp_data/Orlando_reviews.tar.gz\n",
            "143818752/143817024 [==============================] - 11s 0us/step\n",
            "143826944/143817024 [==============================] - 11s 0us/step\n",
            "Data in:  /root/.keras/datasets/Orlando_reviews.csv\n"
          ]
        },
        {
          "metadata": {
            "tags": null
          },
          "name": "stderr",
          "output_type": "stream",
          "text": [
            "100%|██████████| 440949/440949 [00:00<00:00, 1163508.88it/s]\n",
            "100%|██████████| 440949/440949 [03:27<00:00, 2129.39it/s]\n",
            "Some layers from the model checkpoint at bert-base-uncased were not used when initializing TFBertModel: ['mlm___cls', 'nsp___cls']\n",
            "- This IS expected if you are initializing TFBertModel from the checkpoint of a model trained on another task or with another architecture (e.g. initializing a BertForSequenceClassification model from a BertForPreTraining model).\n",
            "- This IS NOT expected if you are initializing TFBertModel from the checkpoint of a model that you expect to be exactly identical (initializing a BertForSequenceClassification model from a BertForSequenceClassification model).\n",
            "All the layers of TFBertModel were initialized from the model checkpoint at bert-base-uncased.\n",
            "If your task is similar to the task the model of the checkpoint was trained on, you can already use TFBertModel for predictions without further training.\n"
          ]
        },
        {
          "metadata": {
            "tags": null
          },
          "name": "stdout",
          "output_type": "stream",
          "text": [
            "Downloading data from http://206.12.93.90:8080/yelp_data/models/saved_weights_orlando.h5\n",
            "447561728/447561584 [==============================] - 3s 0us/step\n",
            "447569920/447561584 [==============================] - 3s 0us/step\n",
            "308/308 [==============================] - 605s 2s/step\n",
            "Data in:  /root/.keras/datasets/Orlando_reviews.csv\n"
          ]
        },
        {
          "metadata": {
            "tags": null
          },
          "name": "stderr",
          "output_type": "stream",
          "text": [
            "100%|██████████| 440949/440949 [00:00<00:00, 1132354.92it/s]\n",
            "100%|██████████| 440949/440949 [17:38<00:00, 416.65it/s]\n"
          ]
        },
        {
          "metadata": {
            "tags": null
          },
          "name": "stdout",
          "output_type": "stream",
          "text": [
            "308/308 [==============================] - 602s 2s/step\n",
            "Downloading data from http://206.12.93.90:8080/yelp_data/Portland_reviews.tar.gz\n",
            "241278976/241277594 [==============================] - 20s 0us/step\n",
            "241287168/241277594 [==============================] - 20s 0us/step\n",
            "Data in:  /root/.keras/datasets/Portland_reviews.csv\n"
          ]
        },
        {
          "metadata": {
            "tags": null
          },
          "name": "stderr",
          "output_type": "stream",
          "text": [
            "/usr/local/lib/python3.7/dist-packages/IPython/core/interactiveshell.py:2822: DtypeWarning: Columns (10) have mixed types.Specify dtype option on import or set low_memory=False.\n",
            "  if self.run_code(code, result):\n",
            "100%|██████████| 736725/736725 [00:00<00:00, 1156548.38it/s]\n",
            "100%|██████████| 736725/736725 [06:17<00:00, 1952.28it/s]\n",
            "Some layers from the model checkpoint at bert-base-uncased were not used when initializing TFBertModel: ['mlm___cls', 'nsp___cls']\n",
            "- This IS expected if you are initializing TFBertModel from the checkpoint of a model trained on another task or with another architecture (e.g. initializing a BertForSequenceClassification model from a BertForPreTraining model).\n",
            "- This IS NOT expected if you are initializing TFBertModel from the checkpoint of a model that you expect to be exactly identical (initializing a BertForSequenceClassification model from a BertForSequenceClassification model).\n",
            "All the layers of TFBertModel were initialized from the model checkpoint at bert-base-uncased.\n",
            "If your task is similar to the task the model of the checkpoint was trained on, you can already use TFBertModel for predictions without further training.\n"
          ]
        },
        {
          "metadata": {
            "tags": null
          },
          "name": "stdout",
          "output_type": "stream",
          "text": [
            "Downloading data from http://206.12.93.90:8080/yelp_data/models/saved_weights_portland.h5\n",
            "453050368/453047384 [==============================] - 2s 0us/step\n",
            "453058560/453047384 [==============================] - 2s 0us/step\n",
            "539/539 [==============================] - 1056s 2s/step\n",
            "Data in:  /root/.keras/datasets/Portland_reviews.csv\n"
          ]
        },
        {
          "output_type": "stream",
          "name": "stderr",
          "text": [
            "/usr/local/lib/python3.7/dist-packages/IPython/core/interactiveshell.py:2822: DtypeWarning: Columns (10) have mixed types.Specify dtype option on import or set low_memory=False.\n",
            "  if self.run_code(code, result):\n",
            "100%|██████████| 736725/736725 [00:00<00:00, 1144089.14it/s]\n",
            "100%|██████████| 736725/736725 [30:17<00:00, 405.44it/s]\n"
          ]
        },
        {
          "output_type": "stream",
          "name": "stdout",
          "text": [
            "539/539 [==============================] - 1053s 2s/step\n",
            "Downloading data from http://206.12.93.90:8080/yelp_data/Toronto_reviews.tar.gz\n",
            "126746624/126743106 [==============================] - 1s 0us/step\n",
            "126754816/126743106 [==============================] - 1s 0us/step\n",
            "Data in:  /root/.keras/datasets/Toronto_reviews.csv\n"
          ]
        },
        {
          "output_type": "stream",
          "name": "stderr",
          "text": [
            "100%|██████████| 402927/402927 [00:00<00:00, 1169114.54it/s]\n",
            "100%|██████████| 402927/402927 [02:12<00:00, 3045.77it/s]\n",
            "Some layers from the model checkpoint at bert-base-uncased were not used when initializing TFBertModel: ['mlm___cls', 'nsp___cls']\n",
            "- This IS expected if you are initializing TFBertModel from the checkpoint of a model trained on another task or with another architecture (e.g. initializing a BertForSequenceClassification model from a BertForPreTraining model).\n",
            "- This IS NOT expected if you are initializing TFBertModel from the checkpoint of a model that you expect to be exactly identical (initializing a BertForSequenceClassification model from a BertForSequenceClassification model).\n",
            "All the layers of TFBertModel were initialized from the model checkpoint at bert-base-uncased.\n",
            "If your task is similar to the task the model of the checkpoint was trained on, you can already use TFBertModel for predictions without further training.\n"
          ]
        },
        {
          "output_type": "stream",
          "name": "stdout",
          "text": [
            "Downloading data from http://206.12.93.90:8080/yelp_data/models/saved_weights_toronto.h5\n",
            "445956096/445950284 [==============================] - 4s 0us/step\n",
            "445964288/445950284 [==============================] - 4s 0us/step\n",
            "180/180 [==============================] - 354s 2s/step\n",
            "Data in:  /root/.keras/datasets/Toronto_reviews.csv\n"
          ]
        },
        {
          "output_type": "stream",
          "name": "stderr",
          "text": [
            "100%|██████████| 402927/402927 [00:00<00:00, 1165359.37it/s]\n",
            "100%|██████████| 402927/402927 [10:40<00:00, 628.94it/s]\n"
          ]
        },
        {
          "output_type": "stream",
          "name": "stdout",
          "text": [
            "180/180 [==============================] - 351s 2s/step\n"
          ]
        }
      ],
      "source": [
        "predictions = {}\n",
        "ground_truth = {}\n",
        "predictions_neut = {}\n",
        "ground_truth_neut = {}\n",
        "for city in yelp_cities: \n",
        "    # Load data\n",
        "    dataset = Dataset(city)\n",
        "    ground_truth[city] = dataset.y_test  \n",
        "    # Create the model\n",
        "    model = models.get_model(dataset.max_len, dataset.num_labels, tpu=False)\n",
        "    data_url = 'http://206.12.93.90:8080/yelp_data/models/saved_weights_' + dataset.dataset + '.h5'\n",
        "    file_name = keras.utils.get_file('saved_weights_' + dataset.dataset + '.h5', data_url, untar=False)  \n",
        "    model.load_weights(file_name)\n",
        "    # Make predictions\n",
        "    preds = model.predict(dataset.X_test, verbose=1, batch_size=128)\n",
        "    predictions[city] = preds\n",
        "    # Load data neut\n",
        "    dataset = Dataset(city,  masking=True)\n",
        "    ground_truth_neut[city] = dataset.y_test\n",
        "    # Make predictions neut\n",
        "    preds_neut = model.predict(dataset.X_test, verbose=1, batch_size=128)\n",
        "    predictions_neut[city] = preds_neut\n"
      ]
    },
    {
      "cell_type": "code",
      "source": [
        "with open('predictions.pickle', 'wb') as file:\n",
        "        pickle.dump(predictions, file)\n",
        "with open('ground_truth.pickle', 'wb') as file:\n",
        "        pickle.dump(ground_truth, file)\n",
        "with open('predictions_neut.pickle', 'wb') as file:\n",
        "        pickle.dump(predictions_neut, file)\n",
        "with open('ground_truth_neut.pickle', 'wb') as file:\n",
        "        pickle.dump(ground_truth_neut, file)\n",
        "\n",
        "!cp *.pickle /content/drive/MyDrive/\n"
      ],
      "metadata": {
        "id": "y_K76ijqVTNp"
      },
      "id": "y_K76ijqVTNp",
      "execution_count": 20,
      "outputs": []
    },
    {
      "cell_type": "code",
      "source": [
        "predictions['atlanta']\n"
      ],
      "metadata": {
        "colab": {
          "base_uri": "https://localhost:8080/"
        },
        "id": "Tzm_PtBTdPjq",
        "outputId": "f94a0f63-9301-497e-a21a-d3c477f2b385"
      },
      "id": "Tzm_PtBTdPjq",
      "execution_count": 5,
      "outputs": [
        {
          "output_type": "execute_result",
          "data": {
            "text/plain": [
              "array([[5.9479077e-22, 4.7069462e-20, 2.4877530e-17, ..., 3.8914765e-28,\n",
              "        2.6035906e-20, 6.4240682e-20],\n",
              "       [6.8441130e-07, 2.3232914e-14, 2.2651814e-11, ..., 6.0575564e-12,\n",
              "        6.2078584e-12, 9.8254981e-17],\n",
              "       [6.2049033e-08, 7.9177689e-06, 2.3464512e-13, ..., 9.3565726e-13,\n",
              "        1.6253398e-05, 4.9269362e-14],\n",
              "       ...,\n",
              "       [3.7796491e-07, 2.9507650e-08, 1.4615715e-07, ..., 3.7907856e-05,\n",
              "        1.2556321e-04, 3.5534000e-12],\n",
              "       [9.4715208e-11, 1.2910046e-04, 3.5378919e-11, ..., 5.6694917e-16,\n",
              "        3.9969669e-03, 5.9130514e-09],\n",
              "       [3.1825755e-05, 7.0632652e-08, 3.3503959e-05, ..., 8.4297395e-11,\n",
              "        2.2890481e-09, 1.8684090e-09]], dtype=float32)"
            ]
          },
          "metadata": {},
          "execution_count": 5
        }
      ]
    },
    {
      "cell_type": "code",
      "source": [
        "metrics.get_performance(ground_truth['atlanta'], predictions['atlanta'])\n"
      ],
      "metadata": {
        "colab": {
          "base_uri": "https://localhost:8080/"
        },
        "id": "K5AlpTob4NJ_",
        "outputId": "2670478b-c8aa-47f1-cddf-5e513b661da4"
      },
      "id": "K5AlpTob4NJ_",
      "execution_count": 7,
      "outputs": [
        {
          "output_type": "stream",
          "name": "stderr",
          "text": [
            "/usr/local/lib/python3.7/dist-packages/sklearn/metrics/_classification.py:1318: UndefinedMetricWarning: Precision is ill-defined and being set to 0.0 in labels with no predicted samples. Use `zero_division` parameter to control this behavior.\n",
            "  _warn_prf(average, modifier, msg_start, len(result))\n"
          ]
        },
        {
          "output_type": "execute_result",
          "data": {
            "text/plain": [
              "{'Accuracy': (0.4797019719151479, 0.004231360871274154),\n",
              " 'F1-Score': 0.47619035909971813,\n",
              " 'HR@10': (0.74043919928294, 0.0037130643653710896),\n",
              " 'HR@20': (0.7981587989244099, 0.0033995214641891697),\n",
              " 'HR@5': (0.6754182850313714, 0.0039656707679350655),\n",
              " 'MRR': (0.5712481772627368, 0.003661571530744045),\n",
              " 'Precision': 0.4963836895960144,\n",
              " 'Recall': 0.4797019719151479}"
            ]
          },
          "metadata": {},
          "execution_count": 7
        }
      ]
    },
    {
      "cell_type": "code",
      "execution_count": 85,
      "id": "4a98a358",
      "metadata": {
        "colab": {
          "base_uri": "https://localhost:8080/",
          "height": 697
        },
        "id": "4a98a358",
        "outputId": "bb204dd0-f7a0-4fa5-839a-e5dce38ab9f3"
      },
      "outputs": [
        {
          "output_type": "stream",
          "name": "stderr",
          "text": [
            "/usr/local/lib/python3.7/dist-packages/sklearn/metrics/_classification.py:1318: UndefinedMetricWarning: Precision is ill-defined and being set to 0.0 in labels with no predicted samples. Use `zero_division` parameter to control this behavior.\n",
            "  _warn_prf(average, modifier, msg_start, len(result))\n",
            "/usr/local/lib/python3.7/dist-packages/sklearn/metrics/_classification.py:1318: UndefinedMetricWarning: Precision is ill-defined and being set to 0.0 in labels with no predicted samples. Use `zero_division` parameter to control this behavior.\n",
            "  _warn_prf(average, modifier, msg_start, len(result))\n",
            "/usr/local/lib/python3.7/dist-packages/sklearn/metrics/_classification.py:1318: UndefinedMetricWarning: Recall is ill-defined and being set to 0.0 in labels with no true samples. Use `zero_division` parameter to control this behavior.\n",
            "  _warn_prf(average, modifier, msg_start, len(result))\n",
            "/usr/local/lib/python3.7/dist-packages/sklearn/metrics/_classification.py:1318: UndefinedMetricWarning: Precision is ill-defined and being set to 0.0 in labels with no predicted samples. Use `zero_division` parameter to control this behavior.\n",
            "  _warn_prf(average, modifier, msg_start, len(result))\n",
            "/usr/local/lib/python3.7/dist-packages/sklearn/metrics/_classification.py:1318: UndefinedMetricWarning: Precision is ill-defined and being set to 0.0 in labels with no predicted samples. Use `zero_division` parameter to control this behavior.\n",
            "  _warn_prf(average, modifier, msg_start, len(result))\n",
            "/usr/local/lib/python3.7/dist-packages/sklearn/metrics/_classification.py:1318: UndefinedMetricWarning: Precision is ill-defined and being set to 0.0 in labels with no predicted samples. Use `zero_division` parameter to control this behavior.\n",
            "  _warn_prf(average, modifier, msg_start, len(result))\n",
            "/usr/local/lib/python3.7/dist-packages/sklearn/metrics/_classification.py:1318: UndefinedMetricWarning: Recall is ill-defined and being set to 0.0 in labels with no true samples. Use `zero_division` parameter to control this behavior.\n",
            "  _warn_prf(average, modifier, msg_start, len(result))\n",
            "/usr/local/lib/python3.7/dist-packages/sklearn/metrics/_classification.py:1318: UndefinedMetricWarning: Precision is ill-defined and being set to 0.0 in labels with no predicted samples. Use `zero_division` parameter to control this behavior.\n",
            "  _warn_prf(average, modifier, msg_start, len(result))\n",
            "/usr/local/lib/python3.7/dist-packages/sklearn/metrics/_classification.py:1318: UndefinedMetricWarning: Recall is ill-defined and being set to 0.0 in labels with no true samples. Use `zero_division` parameter to control this behavior.\n",
            "  _warn_prf(average, modifier, msg_start, len(result))\n",
            "/usr/local/lib/python3.7/dist-packages/sklearn/metrics/_classification.py:1318: UndefinedMetricWarning: Precision is ill-defined and being set to 0.0 in labels with no predicted samples. Use `zero_division` parameter to control this behavior.\n",
            "  _warn_prf(average, modifier, msg_start, len(result))\n"
          ]
        },
        {
          "output_type": "execute_result",
          "data": {
            "text/html": [
              "\n",
              "  <div id=\"df-9148dc89-3613-4218-aa13-f71fe043f4b2\">\n",
              "    <div class=\"colab-df-container\">\n",
              "      <div>\n",
              "<style scoped>\n",
              "    .dataframe tbody tr th:only-of-type {\n",
              "        vertical-align: middle;\n",
              "    }\n",
              "\n",
              "    .dataframe tbody tr th {\n",
              "        vertical-align: top;\n",
              "    }\n",
              "\n",
              "    .dataframe thead th {\n",
              "        text-align: right;\n",
              "    }\n",
              "</style>\n",
              "<table border=\"1\" class=\"dataframe\">\n",
              "  <thead>\n",
              "    <tr style=\"text-align: right;\">\n",
              "      <th></th>\n",
              "      <th>City</th>\n",
              "      <th>Precision</th>\n",
              "      <th>Recall</th>\n",
              "      <th>F1-Score</th>\n",
              "      <th>Accuracy</th>\n",
              "      <th>Accuracy_err</th>\n",
              "      <th>MRR</th>\n",
              "      <th>MRR_err</th>\n",
              "      <th>HR@5</th>\n",
              "      <th>HR@5_err</th>\n",
              "      <th>HR@10</th>\n",
              "      <th>HR@10_err</th>\n",
              "      <th>HR@20</th>\n",
              "      <th>HR@20_err</th>\n",
              "    </tr>\n",
              "  </thead>\n",
              "  <tbody>\n",
              "    <tr>\n",
              "      <th>0</th>\n",
              "      <td>atlanta</td>\n",
              "      <td>0.496384</td>\n",
              "      <td>0.479702</td>\n",
              "      <td>0.476190</td>\n",
              "      <td>0.479702</td>\n",
              "      <td>0.004231</td>\n",
              "      <td>0.571248</td>\n",
              "      <td>0.003662</td>\n",
              "      <td>0.675418</td>\n",
              "      <td>0.003966</td>\n",
              "      <td>0.740439</td>\n",
              "      <td>0.003713</td>\n",
              "      <td>0.798159</td>\n",
              "      <td>0.003400</td>\n",
              "    </tr>\n",
              "    <tr>\n",
              "      <th>1</th>\n",
              "      <td>austin</td>\n",
              "      <td>0.480759</td>\n",
              "      <td>0.467401</td>\n",
              "      <td>0.457266</td>\n",
              "      <td>0.467401</td>\n",
              "      <td>0.003595</td>\n",
              "      <td>0.565556</td>\n",
              "      <td>0.003088</td>\n",
              "      <td>0.677794</td>\n",
              "      <td>0.003367</td>\n",
              "      <td>0.746723</td>\n",
              "      <td>0.003134</td>\n",
              "      <td>0.806771</td>\n",
              "      <td>0.002845</td>\n",
              "    </tr>\n",
              "    <tr>\n",
              "      <th>2</th>\n",
              "      <td>boston</td>\n",
              "      <td>0.546226</td>\n",
              "      <td>0.531794</td>\n",
              "      <td>0.528683</td>\n",
              "      <td>0.531794</td>\n",
              "      <td>0.004550</td>\n",
              "      <td>0.618438</td>\n",
              "      <td>0.003880</td>\n",
              "      <td>0.717167</td>\n",
              "      <td>0.004107</td>\n",
              "      <td>0.777703</td>\n",
              "      <td>0.003791</td>\n",
              "      <td>0.833045</td>\n",
              "      <td>0.003401</td>\n",
              "    </tr>\n",
              "    <tr>\n",
              "      <th>3</th>\n",
              "      <td>columbus</td>\n",
              "      <td>0.498933</td>\n",
              "      <td>0.467548</td>\n",
              "      <td>0.467278</td>\n",
              "      <td>0.467548</td>\n",
              "      <td>0.007461</td>\n",
              "      <td>0.560493</td>\n",
              "      <td>0.006475</td>\n",
              "      <td>0.665347</td>\n",
              "      <td>0.007056</td>\n",
              "      <td>0.730077</td>\n",
              "      <td>0.006638</td>\n",
              "      <td>0.789219</td>\n",
              "      <td>0.006099</td>\n",
              "    </tr>\n",
              "    <tr>\n",
              "      <th>4</th>\n",
              "      <td>orlando</td>\n",
              "      <td>0.493924</td>\n",
              "      <td>0.476533</td>\n",
              "      <td>0.474693</td>\n",
              "      <td>0.476533</td>\n",
              "      <td>0.004932</td>\n",
              "      <td>0.567957</td>\n",
              "      <td>0.004269</td>\n",
              "      <td>0.672877</td>\n",
              "      <td>0.004633</td>\n",
              "      <td>0.741414</td>\n",
              "      <td>0.004324</td>\n",
              "      <td>0.800736</td>\n",
              "      <td>0.003945</td>\n",
              "    </tr>\n",
              "    <tr>\n",
              "      <th>5</th>\n",
              "      <td>portland</td>\n",
              "      <td>0.480539</td>\n",
              "      <td>0.466199</td>\n",
              "      <td>0.458855</td>\n",
              "      <td>0.466199</td>\n",
              "      <td>0.003724</td>\n",
              "      <td>0.557747</td>\n",
              "      <td>0.003239</td>\n",
              "      <td>0.660580</td>\n",
              "      <td>0.003535</td>\n",
              "      <td>0.727443</td>\n",
              "      <td>0.003324</td>\n",
              "      <td>0.788287</td>\n",
              "      <td>0.003049</td>\n",
              "    </tr>\n",
              "    <tr>\n",
              "      <th>6</th>\n",
              "      <td>toronto</td>\n",
              "      <td>0.534719</td>\n",
              "      <td>0.505286</td>\n",
              "      <td>0.506323</td>\n",
              "      <td>0.505286</td>\n",
              "      <td>0.006464</td>\n",
              "      <td>0.603946</td>\n",
              "      <td>0.005441</td>\n",
              "      <td>0.718991</td>\n",
              "      <td>0.005811</td>\n",
              "      <td>0.787644</td>\n",
              "      <td>0.005287</td>\n",
              "      <td>0.845203</td>\n",
              "      <td>0.004676</td>\n",
              "    </tr>\n",
              "  </tbody>\n",
              "</table>\n",
              "</div>\n",
              "      <button class=\"colab-df-convert\" onclick=\"convertToInteractive('df-9148dc89-3613-4218-aa13-f71fe043f4b2')\"\n",
              "              title=\"Convert this dataframe to an interactive table.\"\n",
              "              style=\"display:none;\">\n",
              "        \n",
              "  <svg xmlns=\"http://www.w3.org/2000/svg\" height=\"24px\"viewBox=\"0 0 24 24\"\n",
              "       width=\"24px\">\n",
              "    <path d=\"M0 0h24v24H0V0z\" fill=\"none\"/>\n",
              "    <path d=\"M18.56 5.44l.94 2.06.94-2.06 2.06-.94-2.06-.94-.94-2.06-.94 2.06-2.06.94zm-11 1L8.5 8.5l.94-2.06 2.06-.94-2.06-.94L8.5 2.5l-.94 2.06-2.06.94zm10 10l.94 2.06.94-2.06 2.06-.94-2.06-.94-.94-2.06-.94 2.06-2.06.94z\"/><path d=\"M17.41 7.96l-1.37-1.37c-.4-.4-.92-.59-1.43-.59-.52 0-1.04.2-1.43.59L10.3 9.45l-7.72 7.72c-.78.78-.78 2.05 0 2.83L4 21.41c.39.39.9.59 1.41.59.51 0 1.02-.2 1.41-.59l7.78-7.78 2.81-2.81c.8-.78.8-2.07 0-2.86zM5.41 20L4 18.59l7.72-7.72 1.47 1.35L5.41 20z\"/>\n",
              "  </svg>\n",
              "      </button>\n",
              "      \n",
              "  <style>\n",
              "    .colab-df-container {\n",
              "      display:flex;\n",
              "      flex-wrap:wrap;\n",
              "      gap: 12px;\n",
              "    }\n",
              "\n",
              "    .colab-df-convert {\n",
              "      background-color: #E8F0FE;\n",
              "      border: none;\n",
              "      border-radius: 50%;\n",
              "      cursor: pointer;\n",
              "      display: none;\n",
              "      fill: #1967D2;\n",
              "      height: 32px;\n",
              "      padding: 0 0 0 0;\n",
              "      width: 32px;\n",
              "    }\n",
              "\n",
              "    .colab-df-convert:hover {\n",
              "      background-color: #E2EBFA;\n",
              "      box-shadow: 0px 1px 2px rgba(60, 64, 67, 0.3), 0px 1px 3px 1px rgba(60, 64, 67, 0.15);\n",
              "      fill: #174EA6;\n",
              "    }\n",
              "\n",
              "    [theme=dark] .colab-df-convert {\n",
              "      background-color: #3B4455;\n",
              "      fill: #D2E3FC;\n",
              "    }\n",
              "\n",
              "    [theme=dark] .colab-df-convert:hover {\n",
              "      background-color: #434B5C;\n",
              "      box-shadow: 0px 1px 3px 1px rgba(0, 0, 0, 0.15);\n",
              "      filter: drop-shadow(0px 1px 2px rgba(0, 0, 0, 0.3));\n",
              "      fill: #FFFFFF;\n",
              "    }\n",
              "  </style>\n",
              "\n",
              "      <script>\n",
              "        const buttonEl =\n",
              "          document.querySelector('#df-9148dc89-3613-4218-aa13-f71fe043f4b2 button.colab-df-convert');\n",
              "        buttonEl.style.display =\n",
              "          google.colab.kernel.accessAllowed ? 'block' : 'none';\n",
              "\n",
              "        async function convertToInteractive(key) {\n",
              "          const element = document.querySelector('#df-9148dc89-3613-4218-aa13-f71fe043f4b2');\n",
              "          const dataTable =\n",
              "            await google.colab.kernel.invokeFunction('convertToInteractive',\n",
              "                                                     [key], {});\n",
              "          if (!dataTable) return;\n",
              "\n",
              "          const docLinkHtml = 'Like what you see? Visit the ' +\n",
              "            '<a target=\"_blank\" href=https://colab.research.google.com/notebooks/data_table.ipynb>data table notebook</a>'\n",
              "            + ' to learn more about interactive tables.';\n",
              "          element.innerHTML = '';\n",
              "          dataTable['output_type'] = 'display_data';\n",
              "          await google.colab.output.renderOutput(dataTable, element);\n",
              "          const docLink = document.createElement('div');\n",
              "          docLink.innerHTML = docLinkHtml;\n",
              "          element.appendChild(docLink);\n",
              "        }\n",
              "      </script>\n",
              "    </div>\n",
              "  </div>\n",
              "  "
            ],
            "text/plain": [
              "       City  Precision    Recall  ...  HR@10_err     HR@20  HR@20_err\n",
              "0   atlanta   0.496384  0.479702  ...   0.003713  0.798159   0.003400\n",
              "1    austin   0.480759  0.467401  ...   0.003134  0.806771   0.002845\n",
              "2    boston   0.546226  0.531794  ...   0.003791  0.833045   0.003401\n",
              "3  columbus   0.498933  0.467548  ...   0.006638  0.789219   0.006099\n",
              "4   orlando   0.493924  0.476533  ...   0.004324  0.800736   0.003945\n",
              "5  portland   0.480539  0.466199  ...   0.003324  0.788287   0.003049\n",
              "6   toronto   0.534719  0.505286  ...   0.005287  0.845203   0.004676\n",
              "\n",
              "[7 rows x 14 columns]"
            ]
          },
          "metadata": {},
          "execution_count": 85
        }
      ],
      "source": [
        "data = pd.DataFrame(columns=['City','Precision', 'Recall', 'F1-Score', \n",
        "                             'Accuracy', 'Accuracy_err', 'MRR', 'MRR_err', \n",
        "                             'HR@5', 'HR@5_err', 'HR@10', 'HR@10_err', \n",
        "                             'HR@20', 'HR@20_err'])\n",
        "for city in predictions.keys():\n",
        "    y_true = ground_truth[city]\n",
        "    y_pred = predictions[city]\n",
        "    performance = metrics.get_performance(y_true, y_pred)\n",
        "    data = data.append(pd.DataFrame([[city,\n",
        "                                      performance['Precision'],\n",
        "                                      performance['Recall'],\n",
        "                                      performance['F1-Score'],\n",
        "                                      performance['Accuracy'][0], performance['Accuracy'][1],\n",
        "                                      performance['MRR'][0], performance['MRR'][1],\n",
        "                                      performance['HR@5'][0], performance['HR@5'][1],\n",
        "                                      performance['HR@10'][0], performance['HR@10'][1],\n",
        "                                      performance['HR@20'][0], performance['HR@20'][1]]],\n",
        "                                    columns=['City','Precision', 'Recall', 'F1-Score', \n",
        "                                             'Accuracy', 'Accuracy_err', 'MRR', 'MRR_err', \n",
        "                                             'HR@5', 'HR@5_err', 'HR@10', 'HR@10_err', \n",
        "                                             'HR@20', 'HR@20_err']),ignore_index=True)\n",
        "    \n",
        "data\n"
      ]
    },
    {
      "cell_type": "code",
      "source": [
        "data_neut = pd.DataFrame(columns=['City','Precision', 'Recall', 'F1-Score', \n",
        "                             'Accuracy', 'Accuracy_err', 'MRR', 'MRR_err', \n",
        "                             'HR@5', 'HR@5_err', 'HR@10', 'HR@10_err', \n",
        "                             'HR@20', 'HR@20_err'])\n",
        "for city in predictions.keys():\n",
        "    y_true = ground_truth_neut[city]\n",
        "    y_pred = predictions_neut[city]\n",
        "    performance = metrics.get_performance(y_true, y_pred)\n",
        "    data_neut = data_neut.append(pd.DataFrame([[city,\n",
        "                                                performance['Precision'],\n",
        "                                                performance['Recall'],\n",
        "                                                performance['F1-Score'],\n",
        "                                                performance['Accuracy'][0], performance['Accuracy'][1],\n",
        "                                                performance['MRR'][0], performance['MRR'][1],\n",
        "                                                performance['HR@5'][0], performance['HR@5'][1],\n",
        "                                                performance['HR@10'][0], performance['HR@10'][1],\n",
        "                                                performance['HR@20'][0], performance['HR@20'][1]]],\n",
        "                                                columns=['City','Precision', 'Recall', 'F1-Score', \n",
        "                                                        'Accuracy', 'Accuracy_err', 'MRR', 'MRR_err', \n",
        "                                                        'HR@5', 'HR@5_err', 'HR@10', 'HR@10_err', \n",
        "                                                        'HR@20', 'HR@20_err']),ignore_index=True)\n",
        "    \n",
        "data_neut\n"
      ],
      "metadata": {
        "colab": {
          "base_uri": "https://localhost:8080/",
          "height": 350
        },
        "id": "_BL87EKxpdlV",
        "outputId": "2e5e5daa-9254-479a-c6a2-ed5190b1907b"
      },
      "id": "_BL87EKxpdlV",
      "execution_count": 34,
      "outputs": [
        {
          "output_type": "execute_result",
          "data": {
            "text/html": [
              "\n",
              "  <div id=\"df-8055d105-03a6-461f-875a-a3c9db2e687a\">\n",
              "    <div class=\"colab-df-container\">\n",
              "      <div>\n",
              "<style scoped>\n",
              "    .dataframe tbody tr th:only-of-type {\n",
              "        vertical-align: middle;\n",
              "    }\n",
              "\n",
              "    .dataframe tbody tr th {\n",
              "        vertical-align: top;\n",
              "    }\n",
              "\n",
              "    .dataframe thead th {\n",
              "        text-align: right;\n",
              "    }\n",
              "</style>\n",
              "<table border=\"1\" class=\"dataframe\">\n",
              "  <thead>\n",
              "    <tr style=\"text-align: right;\">\n",
              "      <th></th>\n",
              "      <th>City</th>\n",
              "      <th>Precision</th>\n",
              "      <th>Recall</th>\n",
              "      <th>F1-Score</th>\n",
              "      <th>Accuracy</th>\n",
              "      <th>Accuracy_err</th>\n",
              "      <th>MRR</th>\n",
              "      <th>MRR_err</th>\n",
              "      <th>HR@5</th>\n",
              "      <th>HR@5_err</th>\n",
              "      <th>HR@10</th>\n",
              "      <th>HR@10_err</th>\n",
              "      <th>HR@20</th>\n",
              "      <th>HR@20_err</th>\n",
              "    </tr>\n",
              "  </thead>\n",
              "  <tbody>\n",
              "    <tr>\n",
              "      <th>0</th>\n",
              "      <td>atlanta</td>\n",
              "      <td>0.470297</td>\n",
              "      <td>0.295059</td>\n",
              "      <td>0.321076</td>\n",
              "      <td>0.295059</td>\n",
              "      <td>0.003863</td>\n",
              "      <td>0.391295</td>\n",
              "      <td>0.003539</td>\n",
              "      <td>0.493968</td>\n",
              "      <td>0.004235</td>\n",
              "      <td>0.577588</td>\n",
              "      <td>0.004184</td>\n",
              "      <td>0.659191</td>\n",
              "      <td>0.004014</td>\n",
              "    </tr>\n",
              "    <tr>\n",
              "      <th>1</th>\n",
              "      <td>austin</td>\n",
              "      <td>0.426949</td>\n",
              "      <td>0.264090</td>\n",
              "      <td>0.285344</td>\n",
              "      <td>0.264090</td>\n",
              "      <td>0.003177</td>\n",
              "      <td>0.360838</td>\n",
              "      <td>0.002939</td>\n",
              "      <td>0.462373</td>\n",
              "      <td>0.003593</td>\n",
              "      <td>0.547979</td>\n",
              "      <td>0.003586</td>\n",
              "      <td>0.633802</td>\n",
              "      <td>0.003471</td>\n",
              "    </tr>\n",
              "    <tr>\n",
              "      <th>2</th>\n",
              "      <td>boston</td>\n",
              "      <td>0.511878</td>\n",
              "      <td>0.394360</td>\n",
              "      <td>0.405867</td>\n",
              "      <td>0.394360</td>\n",
              "      <td>0.004456</td>\n",
              "      <td>0.495463</td>\n",
              "      <td>0.003919</td>\n",
              "      <td>0.608584</td>\n",
              "      <td>0.004450</td>\n",
              "      <td>0.686889</td>\n",
              "      <td>0.004229</td>\n",
              "      <td>0.759956</td>\n",
              "      <td>0.003895</td>\n",
              "    </tr>\n",
              "    <tr>\n",
              "      <th>3</th>\n",
              "      <td>columbus</td>\n",
              "      <td>0.452774</td>\n",
              "      <td>0.351883</td>\n",
              "      <td>0.365453</td>\n",
              "      <td>0.351883</td>\n",
              "      <td>0.007141</td>\n",
              "      <td>0.450806</td>\n",
              "      <td>0.006403</td>\n",
              "      <td>0.558123</td>\n",
              "      <td>0.007426</td>\n",
              "      <td>0.636766</td>\n",
              "      <td>0.007192</td>\n",
              "      <td>0.714244</td>\n",
              "      <td>0.006756</td>\n",
              "    </tr>\n",
              "    <tr>\n",
              "      <th>4</th>\n",
              "      <td>orlando</td>\n",
              "      <td>0.472313</td>\n",
              "      <td>0.336083</td>\n",
              "      <td>0.359069</td>\n",
              "      <td>0.336083</td>\n",
              "      <td>0.004665</td>\n",
              "      <td>0.431881</td>\n",
              "      <td>0.004216</td>\n",
              "      <td>0.536997</td>\n",
              "      <td>0.004924</td>\n",
              "      <td>0.619343</td>\n",
              "      <td>0.004795</td>\n",
              "      <td>0.697017</td>\n",
              "      <td>0.004538</td>\n",
              "    </tr>\n",
              "    <tr>\n",
              "      <th>5</th>\n",
              "      <td>portland</td>\n",
              "      <td>0.436883</td>\n",
              "      <td>0.298809</td>\n",
              "      <td>0.316375</td>\n",
              "      <td>0.298809</td>\n",
              "      <td>0.003417</td>\n",
              "      <td>0.392613</td>\n",
              "      <td>0.003137</td>\n",
              "      <td>0.492248</td>\n",
              "      <td>0.003732</td>\n",
              "      <td>0.572657</td>\n",
              "      <td>0.003693</td>\n",
              "      <td>0.651326</td>\n",
              "      <td>0.003557</td>\n",
              "    </tr>\n",
              "    <tr>\n",
              "      <th>6</th>\n",
              "      <td>toronto</td>\n",
              "      <td>0.500222</td>\n",
              "      <td>0.435806</td>\n",
              "      <td>0.440115</td>\n",
              "      <td>0.435806</td>\n",
              "      <td>0.006411</td>\n",
              "      <td>0.541078</td>\n",
              "      <td>0.005503</td>\n",
              "      <td>0.662258</td>\n",
              "      <td>0.006114</td>\n",
              "      <td>0.741049</td>\n",
              "      <td>0.005663</td>\n",
              "      <td>0.809615</td>\n",
              "      <td>0.005076</td>\n",
              "    </tr>\n",
              "  </tbody>\n",
              "</table>\n",
              "</div>\n",
              "      <button class=\"colab-df-convert\" onclick=\"convertToInteractive('df-8055d105-03a6-461f-875a-a3c9db2e687a')\"\n",
              "              title=\"Convert this dataframe to an interactive table.\"\n",
              "              style=\"display:none;\">\n",
              "        \n",
              "  <svg xmlns=\"http://www.w3.org/2000/svg\" height=\"24px\"viewBox=\"0 0 24 24\"\n",
              "       width=\"24px\">\n",
              "    <path d=\"M0 0h24v24H0V0z\" fill=\"none\"/>\n",
              "    <path d=\"M18.56 5.44l.94 2.06.94-2.06 2.06-.94-2.06-.94-.94-2.06-.94 2.06-2.06.94zm-11 1L8.5 8.5l.94-2.06 2.06-.94-2.06-.94L8.5 2.5l-.94 2.06-2.06.94zm10 10l.94 2.06.94-2.06 2.06-.94-2.06-.94-.94-2.06-.94 2.06-2.06.94z\"/><path d=\"M17.41 7.96l-1.37-1.37c-.4-.4-.92-.59-1.43-.59-.52 0-1.04.2-1.43.59L10.3 9.45l-7.72 7.72c-.78.78-.78 2.05 0 2.83L4 21.41c.39.39.9.59 1.41.59.51 0 1.02-.2 1.41-.59l7.78-7.78 2.81-2.81c.8-.78.8-2.07 0-2.86zM5.41 20L4 18.59l7.72-7.72 1.47 1.35L5.41 20z\"/>\n",
              "  </svg>\n",
              "      </button>\n",
              "      \n",
              "  <style>\n",
              "    .colab-df-container {\n",
              "      display:flex;\n",
              "      flex-wrap:wrap;\n",
              "      gap: 12px;\n",
              "    }\n",
              "\n",
              "    .colab-df-convert {\n",
              "      background-color: #E8F0FE;\n",
              "      border: none;\n",
              "      border-radius: 50%;\n",
              "      cursor: pointer;\n",
              "      display: none;\n",
              "      fill: #1967D2;\n",
              "      height: 32px;\n",
              "      padding: 0 0 0 0;\n",
              "      width: 32px;\n",
              "    }\n",
              "\n",
              "    .colab-df-convert:hover {\n",
              "      background-color: #E2EBFA;\n",
              "      box-shadow: 0px 1px 2px rgba(60, 64, 67, 0.3), 0px 1px 3px 1px rgba(60, 64, 67, 0.15);\n",
              "      fill: #174EA6;\n",
              "    }\n",
              "\n",
              "    [theme=dark] .colab-df-convert {\n",
              "      background-color: #3B4455;\n",
              "      fill: #D2E3FC;\n",
              "    }\n",
              "\n",
              "    [theme=dark] .colab-df-convert:hover {\n",
              "      background-color: #434B5C;\n",
              "      box-shadow: 0px 1px 3px 1px rgba(0, 0, 0, 0.15);\n",
              "      filter: drop-shadow(0px 1px 2px rgba(0, 0, 0, 0.3));\n",
              "      fill: #FFFFFF;\n",
              "    }\n",
              "  </style>\n",
              "\n",
              "      <script>\n",
              "        const buttonEl =\n",
              "          document.querySelector('#df-8055d105-03a6-461f-875a-a3c9db2e687a button.colab-df-convert');\n",
              "        buttonEl.style.display =\n",
              "          google.colab.kernel.accessAllowed ? 'block' : 'none';\n",
              "\n",
              "        async function convertToInteractive(key) {\n",
              "          const element = document.querySelector('#df-8055d105-03a6-461f-875a-a3c9db2e687a');\n",
              "          const dataTable =\n",
              "            await google.colab.kernel.invokeFunction('convertToInteractive',\n",
              "                                                     [key], {});\n",
              "          if (!dataTable) return;\n",
              "\n",
              "          const docLinkHtml = 'Like what you see? Visit the ' +\n",
              "            '<a target=\"_blank\" href=https://colab.research.google.com/notebooks/data_table.ipynb>data table notebook</a>'\n",
              "            + ' to learn more about interactive tables.';\n",
              "          element.innerHTML = '';\n",
              "          dataTable['output_type'] = 'display_data';\n",
              "          await google.colab.output.renderOutput(dataTable, element);\n",
              "          const docLink = document.createElement('div');\n",
              "          docLink.innerHTML = docLinkHtml;\n",
              "          element.appendChild(docLink);\n",
              "        }\n",
              "      </script>\n",
              "    </div>\n",
              "  </div>\n",
              "  "
            ],
            "text/plain": [
              "       City  Precision    Recall  ...  HR@10_err     HR@20  HR@20_err\n",
              "0   atlanta   0.470297  0.295059  ...   0.004184  0.659191   0.004014\n",
              "1    austin   0.426949  0.264090  ...   0.003586  0.633802   0.003471\n",
              "2    boston   0.511878  0.394360  ...   0.004229  0.759956   0.003895\n",
              "3  columbus   0.452774  0.351883  ...   0.007192  0.714244   0.006756\n",
              "4   orlando   0.472313  0.336083  ...   0.004795  0.697017   0.004538\n",
              "5  portland   0.436883  0.298809  ...   0.003693  0.651326   0.003557\n",
              "6   toronto   0.500222  0.435806  ...   0.005663  0.809615   0.005076\n",
              "\n",
              "[7 rows x 14 columns]"
            ]
          },
          "metadata": {},
          "execution_count": 34
        }
      ]
    },
    {
      "cell_type": "code",
      "source": [
        "np.array(range(len(data['City'])))\n"
      ],
      "metadata": {
        "colab": {
          "base_uri": "https://localhost:8080/"
        },
        "id": "i3a-9HVZsfZl",
        "outputId": "79b5c932-3fd5-49e4-c4ba-74a0baf3945d"
      },
      "id": "i3a-9HVZsfZl",
      "execution_count": 40,
      "outputs": [
        {
          "output_type": "execute_result",
          "data": {
            "text/plain": [
              "array([0, 1, 2, 3, 4, 5, 6])"
            ]
          },
          "metadata": {},
          "execution_count": 40
        }
      ]
    },
    {
      "cell_type": "code",
      "execution_count": 78,
      "id": "d5295d39",
      "metadata": {
        "colab": {
          "base_uri": "https://localhost:8080/",
          "height": 304
        },
        "id": "d5295d39",
        "outputId": "0fa81e04-c0b9-4d7c-f10f-bb8226450a41"
      },
      "outputs": [
        {
          "output_type": "stream",
          "name": "stderr",
          "text": [
            "The PostScript backend does not support transparency; partially transparent artists will be rendered opaque.\n",
            "The PostScript backend does not support transparency; partially transparent artists will be rendered opaque.\n"
          ]
        },
        {
          "output_type": "display_data",
          "data": {
            "image/png": "[encoded data removed]",
            "text/plain": [
              "<Figure size 432x288 with 1 Axes>"
            ]
          },
          "metadata": {
            "needs_background": "light"
          }
        }
      ],
      "source": [
        "plt.figure(figsize=(6,4))\n",
        "x = np.array(range(len(data['City'])))\n",
        "y = np.array(data['MRR'])\n",
        "yerr = np.array(data['MRR_err'])\n",
        "plt.errorbar(x, y, yerr=yerr, label='Original')\n",
        "\n",
        "y = np.array(data_neut['MRR'])\n",
        "yerr = np.array(data_neut['MRR_err'])\n",
        "plt.errorbar(x, y, yerr=yerr, label='Neut')\n",
        "plt.ylabel(\"Mean Reciprocal Rank\")\n",
        "plt.legend(loc='lower right')\n",
        "plt.tick_params(labelsize=14)\n",
        "plt.gca().legend().set_title('')\n",
        "params = {'legend.fontsize': 'large',\n",
        "          'axes.labelsize': 14,\n",
        "          'axes.titlesize': 14,\n",
        "          'xtick.labelsize': 14,\n",
        "          'ytick.labelsize': 14,\n",
        "          'axes.grid': False,\n",
        "          'axes.titlepad': 25}\n",
        "plt.rcParams.update(params)\n",
        "plt.xticks(x, np.array([x[:4].upper() for x in data['City']]))\n",
        "plt.savefig('mrr.eps', bbox_inches = 'tight')\n",
        "plt.show()\n"
      ]
    },
    {
      "cell_type": "code",
      "source": [
        "plt.figure(figsize=(6,4))\n",
        "x = np.array(range(len(data['City'])))\n",
        "y = np.array(data['Accuracy'])\n",
        "yerr = np.array(data['Accuracy_err'])\n",
        "plt.errorbar(x, y, yerr=yerr, label='Original')\n",
        "\n",
        "y = np.array(data_neut['Accuracy'])\n",
        "yerr = np.array(data_neut['Accuracy_err'])\n",
        "plt.errorbar(x, y, yerr=yerr, label='Neut')\n",
        "plt.ylabel(\"Accuracy\")\n",
        "plt.legend(loc='lower right')\n",
        "plt.tick_params(labelsize=14)\n",
        "plt.gca().legend().set_title('')\n",
        "params = {'legend.fontsize': 'large',\n",
        "          'axes.labelsize': 14,\n",
        "          'axes.titlesize': 14,\n",
        "          'xtick.labelsize': 14,\n",
        "          'ytick.labelsize': 14,\n",
        "          'axes.grid': False,\n",
        "          'axes.titlepad': 25}\n",
        "plt.rcParams.update(params)\n",
        "plt.xticks(x, np.array([x[:4].upper() for x in data['City']]))\n",
        "plt.savefig('accuracy.eps', bbox_inches = 'tight')\n",
        "plt.show()\n"
      ],
      "metadata": {
        "colab": {
          "base_uri": "https://localhost:8080/",
          "height": 310
        },
        "id": "jBtWaePQwTvZ",
        "outputId": "49c3dea7-2984-46de-9538-fd605ec422bc"
      },
      "id": "jBtWaePQwTvZ",
      "execution_count": 75,
      "outputs": [
        {
          "output_type": "stream",
          "name": "stderr",
          "text": [
            "The PostScript backend does not support transparency; partially transparent artists will be rendered opaque.\n",
            "The PostScript backend does not support transparency; partially transparent artists will be rendered opaque.\n"
          ]
        },
        {
          "output_type": "display_data",
          "data": {
            "image/png": "[encoded data removed]",
            "text/plain": [
              "<Figure size 432x288 with 1 Axes>"
            ]
          },
          "metadata": {
            "needs_background": "light"
          }
        }
      ]
    },
    {
      "cell_type": "code",
      "source": [
        "plt.figure(figsize=(6,4))\n",
        "x = np.array(range(len(data['City'])))\n",
        "y = np.array(data['HR@5'])\n",
        "yerr = np.array(data['HR@5_err'])\n",
        "plt.errorbar(x, y, yerr=yerr, label='Original')\n",
        "\n",
        "y = np.array(data_neut['HR@5'])\n",
        "yerr = np.array(data_neut['HR@5_err'])\n",
        "plt.errorbar(x, y, yerr=yerr, label='Neut')\n",
        "plt.ylabel(\"HR@5\")\n",
        "plt.legend(loc='lower right')\n",
        "plt.tick_params(labelsize=14)\n",
        "plt.gca().legend().set_title('')\n",
        "params = {'legend.fontsize': 'large',\n",
        "          'axes.labelsize': 14,\n",
        "          'axes.titlesize': 14,\n",
        "          'xtick.labelsize': 14,\n",
        "          'ytick.labelsize': 14,\n",
        "          'axes.grid': False,\n",
        "          'axes.titlepad': 25}\n",
        "plt.rcParams.update(params)\n",
        "plt.xticks(x, np.array([x[:4].upper() for x in data['City']]))\n",
        "plt.savefig('HR5.eps', bbox_inches = 'tight')\n",
        "plt.show()\n"
      ],
      "metadata": {
        "colab": {
          "base_uri": "https://localhost:8080/",
          "height": 304
        },
        "id": "dMOSnhMSv66d",
        "outputId": "71abc108-01d2-4e82-958f-ef4fb0971659"
      },
      "id": "dMOSnhMSv66d",
      "execution_count": 76,
      "outputs": [
        {
          "output_type": "stream",
          "name": "stderr",
          "text": [
            "The PostScript backend does not support transparency; partially transparent artists will be rendered opaque.\n",
            "The PostScript backend does not support transparency; partially transparent artists will be rendered opaque.\n"
          ]
        },
        {
          "output_type": "display_data",
          "data": {
            "image/png": "[encoded data removed]",
            "text/plain": [
              "<Figure size 432x288 with 1 Axes>"
            ]
          },
          "metadata": {
            "needs_background": "light"
          }
        }
      ]
    },
    {
      "cell_type": "code",
      "source": [
        "plt.figure(figsize=(6,4))\n",
        "x = np.array(range(len(data['City'])))\n",
        "y = np.array(data['HR@10'])\n",
        "yerr = np.array(data['HR@10_err'])\n",
        "plt.errorbar(x, y, yerr=yerr, label='Original')\n",
        "\n",
        "y = np.array(data_neut['HR@10'])\n",
        "yerr = np.array(data_neut['HR@10_err'])\n",
        "plt.errorbar(x, y, yerr=yerr, label='Neut')\n",
        "plt.ylabel(\"HR@10\")\n",
        "plt.legend(loc='lower right')\n",
        "plt.tick_params(labelsize=14)\n",
        "plt.gca().legend().set_title('')\n",
        "params = {'legend.fontsize': 'large',\n",
        "          'axes.labelsize': 14,\n",
        "          'axes.titlesize': 14,\n",
        "          'xtick.labelsize': 14,\n",
        "          'ytick.labelsize': 14,\n",
        "          'axes.grid': False,\n",
        "          'axes.titlepad': 25}\n",
        "plt.rcParams.update(params)\n",
        "plt.xticks(x, np.array([x[:4].upper() for x in data['City']]))\n",
        "plt.savefig('HR10.eps', bbox_inches = 'tight')\n",
        "plt.show()\n"
      ],
      "metadata": {
        "colab": {
          "base_uri": "https://localhost:8080/",
          "height": 306
        },
        "id": "5TWRRAl_wst0",
        "outputId": "2564f43c-c1bc-4c1d-df8e-c137fca5ecab"
      },
      "id": "5TWRRAl_wst0",
      "execution_count": 77,
      "outputs": [
        {
          "output_type": "stream",
          "name": "stderr",
          "text": [
            "The PostScript backend does not support transparency; partially transparent artists will be rendered opaque.\n",
            "The PostScript backend does not support transparency; partially transparent artists will be rendered opaque.\n"
          ]
        },
        {
          "output_type": "display_data",
          "data": {
            "image/png": "[encoded data removed]",
            "text/plain": [
              "<Figure size 432x288 with 1 Axes>"
            ]
          },
          "metadata": {
            "needs_background": "light"
          }
        }
      ]
    },
    {
      "cell_type": "code",
      "source": [
        "plt.figure(figsize=(6,4))\n",
        "x = np.array(range(len(data['City'])))\n",
        "y = np.array(data['HR@20'])\n",
        "yerr = np.array(data['HR@20_err'])\n",
        "plt.errorbar(x, y, yerr=yerr, label='Original')\n",
        "\n",
        "y = np.array(data_neut['HR@20'])\n",
        "yerr = np.array(data_neut['HR@20_err'])\n",
        "plt.errorbar(x, y, yerr=yerr, label='Neut')\n",
        "plt.ylabel(\"HR@20\")\n",
        "plt.legend(loc='lower right')\n",
        "plt.tick_params(labelsize=14)\n",
        "plt.gca().legend().set_title('')\n",
        "params = {'legend.fontsize': 'large',\n",
        "          'axes.labelsize': 14,\n",
        "          'axes.titlesize': 14,\n",
        "          'xtick.labelsize': 14,\n",
        "          'ytick.labelsize': 14,\n",
        "          'axes.grid': False,\n",
        "          'axes.titlepad': 25}\n",
        "plt.rcParams.update(params)\n",
        "plt.xticks(x, np.array([x[:4].upper() for x in data['City']]))\n",
        "plt.savefig('HR20.eps', bbox_inches = 'tight')\n",
        "plt.show()\n"
      ],
      "metadata": {
        "colab": {
          "base_uri": "https://localhost:8080/",
          "height": 304
        },
        "id": "4bDCJlikwxJc",
        "outputId": "4ef6bf8d-4404-494d-91db-fe59fb5ce4ea"
      },
      "id": "4bDCJlikwxJc",
      "execution_count": 79,
      "outputs": [
        {
          "output_type": "stream",
          "name": "stderr",
          "text": [
            "The PostScript backend does not support transparency; partially transparent artists will be rendered opaque.\n",
            "The PostScript backend does not support transparency; partially transparent artists will be rendered opaque.\n"
          ]
        },
        {
          "output_type": "display_data",
          "data": {
            "image/png": "[encoded data removed]",
            "text/plain": [
              "<Figure size 432x288 with 1 Axes>"
            ]
          },
          "metadata": {
            "needs_background": "light"
          }
        }
      ]
    },
    {
      "cell_type": "code",
      "source": [
        "fig = plt.figure(figsize=(6,3))\n",
        "ax = fig.add_subplot(111)\n",
        "\n",
        "## necessary variables\n",
        "width = 0.35                      # the width of the bars\n",
        "\n",
        "## the bars\n",
        "x = np.array(range(len(data['City'])))\n",
        "y = np.array(data['MRR'])\n",
        "yerr = np.array(data['MRR_err'])\n",
        "rects1 = ax.bar(x, y, width,\n",
        "                yerr=yerr,\n",
        "                error_kw=dict(elinewidth=2,ecolor='black'))\n",
        "\n",
        "y = np.array(data_neut['MRR'])\n",
        "yerr = np.array(data_neut['MRR_err'])\n",
        "rects2 = ax.bar(x+width, y, width,\n",
        "                    yerr=yerr,\n",
        "                    error_kw=dict(elinewidth=2,ecolor='black'))\n",
        "\n",
        "# axes and labels\n",
        "ax.set_ylim(0.3,0.7)\n",
        "ax.set_ylabel('MRR')\n",
        "plt.xticks(x+0.15, np.array([x.capitalize() for x in data['City']]), rotation=45)\n",
        "\n",
        "## add a legend\n",
        "ax.legend( (rects1[0], rects2[0]), ('Original', 'Neut') )\n",
        "plt.savefig('mrr_histo.eps', bbox_inches = 'tight')\n",
        "\n",
        "plt.show()"
      ],
      "metadata": {
        "id": "ueo7lgl6H32o",
        "outputId": "bcbff283-03b9-46f0-e8b7-f6fd7e43c5cb",
        "colab": {
          "base_uri": "https://localhost:8080/",
          "height": 301
        }
      },
      "id": "ueo7lgl6H32o",
      "execution_count": 127,
      "outputs": [
        {
          "output_type": "stream",
          "name": "stderr",
          "text": [
            "The PostScript backend does not support transparency; partially transparent artists will be rendered opaque.\n",
            "The PostScript backend does not support transparency; partially transparent artists will be rendered opaque.\n"
          ]
        },
        {
          "output_type": "display_data",
          "data": {
            "image/png": "[encoded data removed]",
            "text/plain": [
              "<Figure size 432x216 with 1 Axes>"
            ]
          },
          "metadata": {
            "needs_background": "light"
          }
        }
      ]
    },
    {
      "cell_type": "code",
      "source": [
        "fig = plt.figure(figsize=(6,3))\n",
        "ax = fig.add_subplot(111)\n",
        "\n",
        "## necessary variables\n",
        "width = 0.35                      # the width of the bars\n",
        "\n",
        "## the bars\n",
        "x = np.array(range(len(data['City'])))\n",
        "y = np.array(data['Accuracy'])\n",
        "yerr = np.array(data['Accuracy_err'])\n",
        "rects1 = ax.bar(x, y, width,\n",
        "                yerr=yerr,\n",
        "                error_kw=dict(elinewidth=2,ecolor='black'))\n",
        "\n",
        "y = np.array(data_neut['Accuracy'])\n",
        "yerr = np.array(data_neut['Accuracy_err'])\n",
        "rects2 = ax.bar(x+width, y, width,\n",
        "                    yerr=yerr,\n",
        "                    error_kw=dict(elinewidth=2,ecolor='black'))\n",
        "\n",
        "# axes and labels\n",
        "ax.set_ylim(0.2,0.6)\n",
        "ax.set_ylabel('Accuracy')\n",
        "plt.xticks(x+0.15, np.array([x.capitalize() for x in data['City']]), rotation=45)\n",
        "\n",
        "## add a legend\n",
        "ax.legend( (rects1[0], rects2[0]), ('Original', 'Neut') )\n",
        "plt.savefig('accuracy_histo.eps', bbox_inches = 'tight')\n",
        "\n",
        "plt.show()"
      ],
      "metadata": {
        "id": "jQkR-fLWH4AA",
        "outputId": "5ea8c0b1-441d-4e71-8652-4d3f92cbe8eb",
        "colab": {
          "base_uri": "https://localhost:8080/",
          "height": 301
        }
      },
      "id": "jQkR-fLWH4AA",
      "execution_count": 128,
      "outputs": [
        {
          "output_type": "stream",
          "name": "stderr",
          "text": [
            "The PostScript backend does not support transparency; partially transparent artists will be rendered opaque.\n",
            "The PostScript backend does not support transparency; partially transparent artists will be rendered opaque.\n"
          ]
        },
        {
          "output_type": "display_data",
          "data": {
            "image/png": "[encoded data removed]",
            "text/plain": [
              "<Figure size 432x216 with 1 Axes>"
            ]
          },
          "metadata": {
            "needs_background": "light"
          }
        }
      ]
    },
    {
      "cell_type": "code",
      "source": [
        "fig = plt.figure(figsize=(6,3))\n",
        "ax = fig.add_subplot(111)\n",
        "\n",
        "## necessary variables\n",
        "width = 0.35                      # the width of the bars\n",
        "\n",
        "## the bars\n",
        "x = np.array(range(len(data['City'])))\n",
        "y = np.array(data['HR@5'])\n",
        "yerr = np.array(data['HR@5_err'])\n",
        "rects1 = ax.bar(x, y, width,\n",
        "                yerr=yerr,\n",
        "                error_kw=dict(elinewidth=2,ecolor='black'))\n",
        "\n",
        "y = np.array(data_neut['HR@5'])\n",
        "yerr = np.array(data_neut['HR@5_err'])\n",
        "rects2 = ax.bar(x+width, y, width,\n",
        "                    yerr=yerr,\n",
        "                    error_kw=dict(elinewidth=2,ecolor='black'))\n",
        "\n",
        "# axes and labels\n",
        "ax.set_ylim(0.4,0.9)\n",
        "ax.set_ylabel('HR@5')\n",
        "plt.xticks(x+0.15, np.array([x.capitalize() for x in data['City']]), rotation=45)\n",
        "\n",
        "\n",
        "## add a legend\n",
        "ax.legend( (rects1[0], rects2[0]), ('Original', 'Neut') )\n",
        "plt.savefig('HR5_histo.eps', bbox_inches = 'tight')\n",
        "\n",
        "plt.show()"
      ],
      "metadata": {
        "id": "XKtwdILMH4GO",
        "outputId": "9d5e5355-ea9b-49d9-8827-0ad25b288ef7",
        "colab": {
          "base_uri": "https://localhost:8080/",
          "height": 301
        }
      },
      "id": "XKtwdILMH4GO",
      "execution_count": 132,
      "outputs": [
        {
          "output_type": "stream",
          "name": "stderr",
          "text": [
            "The PostScript backend does not support transparency; partially transparent artists will be rendered opaque.\n",
            "The PostScript backend does not support transparency; partially transparent artists will be rendered opaque.\n"
          ]
        },
        {
          "output_type": "display_data",
          "data": {
            "image/png": "[encoded data removed]",
            "text/plain": [
              "<Figure size 432x216 with 1 Axes>"
            ]
          },
          "metadata": {
            "needs_background": "light"
          }
        }
      ]
    },
    {
      "cell_type": "code",
      "source": [
        "fig = plt.figure(figsize=(6,3))\n",
        "ax = fig.add_subplot(111)\n",
        "\n",
        "## necessary variables\n",
        "width = 0.35                      # the width of the bars\n",
        "\n",
        "## the bars\n",
        "x = np.array(range(len(data['City'])))\n",
        "y = np.array(data['HR@10'])\n",
        "yerr = np.array(data['HR@10_err'])\n",
        "rects1 = ax.bar(x, y, width,\n",
        "                yerr=yerr,\n",
        "                error_kw=dict(elinewidth=2,ecolor='black'))\n",
        "\n",
        "y = np.array(data_neut['HR@10'])\n",
        "yerr = np.array(data_neut['HR@10_err'])\n",
        "rects2 = ax.bar(x+width, y, width,\n",
        "                    yerr=yerr,\n",
        "                    error_kw=dict(elinewidth=2,ecolor='black'))\n",
        "\n",
        "# axes and labels\n",
        "ax.set_ylim(0.5,0.9)\n",
        "ax.set_ylabel('HR@10')\n",
        "plt.xticks(x+0.15, np.array([x.capitalize() for x in data['City']]), rotation=45)\n",
        "\n",
        "## add a legend\n",
        "ax.legend( (rects1[0], rects2[0]), ('Original', 'Neut') )\n",
        "plt.savefig('HR10_histo.eps', bbox_inches = 'tight')\n",
        "\n",
        "plt.show()"
      ],
      "metadata": {
        "id": "LtCPK4WRH4Ls",
        "outputId": "1e208c83-010a-46f4-89f0-eccefd2c162b",
        "colab": {
          "base_uri": "https://localhost:8080/",
          "height": 301
        }
      },
      "id": "LtCPK4WRH4Ls",
      "execution_count": 130,
      "outputs": [
        {
          "output_type": "stream",
          "name": "stderr",
          "text": [
            "The PostScript backend does not support transparency; partially transparent artists will be rendered opaque.\n",
            "The PostScript backend does not support transparency; partially transparent artists will be rendered opaque.\n"
          ]
        },
        {
          "output_type": "display_data",
          "data": {
            "image/png": "[encoded data removed]",
            "text/plain": [
              "<Figure size 432x216 with 1 Axes>"
            ]
          },
          "metadata": {
            "needs_background": "light"
          }
        }
      ]
    },
    {
      "cell_type": "code",
      "source": [
        "fig = plt.figure(figsize=(6,3))\n",
        "ax = fig.add_subplot(111)\n",
        "\n",
        "## necessary variables\n",
        "width = 0.35                      # the width of the bars\n",
        "\n",
        "## the bars\n",
        "x = np.array(range(len(data['City'])))\n",
        "y = np.array(data['HR@20'])\n",
        "yerr = np.array(data['HR@20_err'])\n",
        "rects1 = ax.bar(x, y, width,\n",
        "                yerr=yerr,\n",
        "                error_kw=dict(elinewidth=2,ecolor='black'))\n",
        "\n",
        "y = np.array(data_neut['HR@20'])\n",
        "yerr = np.array(data_neut['HR@20_err'])\n",
        "rects2 = ax.bar(x+width, y, width,\n",
        "                    yerr=yerr,\n",
        "                    error_kw=dict(elinewidth=2,ecolor='black'))\n",
        "\n",
        "# axes and labels\n",
        "ax.set_ylim(0.6,0.9)\n",
        "ax.set_ylabel('HR@20')\n",
        "plt.xticks(x+0.15, np.array([x.capitalize() for x in data['City']]), rotation=45)\n",
        "\n",
        "## add a legend\n",
        "ax.legend( (rects1[0], rects2[0]), ('Original', 'Neut') )\n",
        "plt.savefig('HR20_histo.eps', bbox_inches = 'tight')\n",
        "\n",
        "plt.show()"
      ],
      "metadata": {
        "id": "RVRuQCS0AZDC",
        "outputId": "6d835bb6-26bd-45be-d853-30bc7d1feaf9",
        "colab": {
          "base_uri": "https://localhost:8080/",
          "height": 301
        }
      },
      "id": "RVRuQCS0AZDC",
      "execution_count": 131,
      "outputs": [
        {
          "output_type": "stream",
          "name": "stderr",
          "text": [
            "The PostScript backend does not support transparency; partially transparent artists will be rendered opaque.\n",
            "The PostScript backend does not support transparency; partially transparent artists will be rendered opaque.\n"
          ]
        },
        {
          "output_type": "display_data",
          "data": {
            "image/png": "[encoded data removed]",
            "text/plain": [
              "<Figure size 432x216 with 1 Axes>"
            ]
          },
          "metadata": {
            "needs_background": "light"
          }
        }
      ]
    },
    {
      "cell_type": "code",
      "source": [
        ""
      ],
      "metadata": {
        "id": "yxozZZ8dBHp6"
      },
      "id": "yxozZZ8dBHp6",
      "execution_count": null,
      "outputs": []
    }
  ],
  "metadata": {
    "kernelspec": {
      "display_name": "Python 3",
      "language": "python",
      "name": "python3"
    },
    "language_info": {
      "codemirror_mode": {
        "name": "ipython",
        "version": 3
      },
      "file_extension": ".py",
      "mimetype": "text/x-python",
      "name": "python",
      "nbconvert_exporter": "python",
      "pygments_lexer": "ipython3",
      "version": "3.8.10"
    },
    "colab": {
      "name": "Analysis.ipynb",
      "provenance": [],
      "machine_shape": "hm"
    },
    "accelerator": "GPU"
  },
  "nbformat": 4,
  "nbformat_minor": 5
}