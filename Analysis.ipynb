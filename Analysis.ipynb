{
  "cells": [
    {
      "cell_type": "code",
      "source": [
        "# To be run on Google Colab!\n",
        "!mkdir -p utoronto/edu/ca/\n",
        "!wget --directory-prefix=utoronto/edu/ca/  https://raw.githubusercontent.com/rbouadjenek/SIGIR22_LMRec/main/utoronto/edu/ca/metrics.py   > /dev/null 2> /dev/null \n",
        "!wget --directory-prefix=utoronto/edu/ca/  https://raw.githubusercontent.com/rbouadjenek/SIGIR22_LMRec/main/utoronto/edu/ca/data.py   > /dev/null 2> /dev/null \n",
        "!wget --directory-prefix=utoronto/edu/ca/ https://raw.githubusercontent.com/rbouadjenek/SIGIR22_LMRec/main/utoronto/edu/ca/models.py  > /dev/null 2> /dev/null \n",
        "!wget --directory-prefix=utoronto/edu/ca/ https://raw.githubusercontent.com/rbouadjenek/SIGIR22_LMRec/main/utoronto/edu/ca/utils.py  > /dev/null 2> /dev/null \n",
        "!wget --directory-prefix=utoronto/edu/ca/ https://raw.githubusercontent.com/rbouadjenek/SIGIR22_LMRec/main/utoronto/edu/ca/__init__.py  > /dev/null 2> /dev/null \n",
        "!wget --directory-prefix=utoronto/edu/ https://raw.githubusercontent.com/rbouadjenek/SIGIR22_LMRec/main/utoronto/edu/ca/__init__.py  > /dev/null 2> /dev/null \n",
        "!wget --directory-prefix=utoronto/ https://raw.githubusercontent.com/rbouadjenek/SIGIR22_LMRec/main/utoronto/edu/ca/__init__.py  > /dev/null 2> /dev/null \n",
        "!wget --directory-prefix=./ https://raw.githubusercontent.com/rbouadjenek/SIGIR22_LMRec/main/names.txt  > /dev/null 2> /dev/null \n",
        "!pip install tokenizers transformers > /dev/null 2> /dev/null \n",
        "\n",
        "from google.colab import drive\n",
        "drive.mount('/content/drive')\n"
      ],
      "metadata": {
        "id": "XO0V84geVuMI",
        "outputId": "a55bf165-1851-4f27-ee94-360deb16a9b7",
        "colab": {
          "base_uri": "https://localhost:8080/"
        }
      },
      "id": "XO0V84geVuMI",
      "execution_count": 1,
      "outputs": [
        {
          "output_type": "stream",
          "name": "stdout",
          "text": [
            "Mounted at /content/drive\n"
          ]
        }
      ]
    },
    {
      "cell_type": "code",
      "execution_count": 2,
      "id": "dab65d7a",
      "metadata": {
        "id": "dab65d7a",
        "outputId": "5163b348-1b8e-42aa-9bca-569d43c4f96d",
        "colab": {
          "base_uri": "https://localhost:8080/"
        }
      },
      "outputs": [
        {
          "output_type": "stream",
          "name": "stdout",
          "text": [
            "[nltk_data] Downloading package stopwords to /root/nltk_data...\n",
            "[nltk_data]   Unzipping corpora/stopwords.zip.\n",
            "[nltk_data] Downloading package punkt to /root/nltk_data...\n",
            "[nltk_data]   Unzipping tokenizers/punkt.zip.\n"
          ]
        }
      ],
      "source": [
        "import tensorflow as tf\n",
        "from tensorflow import keras\n",
        "from utoronto.edu.ca.data import Dataset\n",
        "import utoronto.edu.ca.models as models\n",
        "import utoronto.edu.ca.utils as utils\n",
        "import utoronto.edu.ca.metrics as metrics\n",
        "import matplotlib.pyplot as plt\n",
        "import pandas as pd\n",
        "import numpy as np\n",
        "import seaborn as sns\n",
        "from tqdm import tqdm\n",
        "import pickle\n",
        "\n",
        "\n",
        "%matplotlib inline\n",
        "%load_ext autoreload\n",
        "%autoreload 2\n",
        "%load_ext tensorboard\n"
      ]
    },
    {
      "cell_type": "code",
      "execution_count": 7,
      "id": "fc784a87",
      "metadata": {
        "id": "fc784a87"
      },
      "outputs": [],
      "source": [
        "yelp_cities = ['atlanta',\n",
        "               'austin',\n",
        "               'boston',\n",
        "               'columbus',\n",
        "               'orlando',\n",
        "               'portland',\n",
        "               'toronto'\n",
        "]"
      ]
    },
    {
      "cell_type": "code",
      "execution_count": 8,
      "id": "f71ef256",
      "metadata": {
        "scrolled": true,
        "colab": {
          "base_uri": "https://localhost:8080/"
        },
        "id": "f71ef256",
        "outputId": "11a4aa7f-d1cb-4f1e-f788-be18f5807c5c"
      },
      "outputs": [
        {
          "output_type": "stream",
          "name": "stdout",
          "text": [
            "Downloading data from http://206.12.93.90:8080/yelp_data/Austin_reviews.tar.gz\n",
            "267681792/267679931 [==============================] - 8s 0us/step\n",
            "267689984/267679931 [==============================] - 8s 0us/step\n",
            "Data in:  /root/.keras/datasets/Austin_reviews.csv\n"
          ]
        },
        {
          "output_type": "stream",
          "name": "stderr",
          "text": [
            "/usr/local/lib/python3.7/dist-packages/IPython/core/interactiveshell.py:2822: DtypeWarning: Columns (10) have mixed types.Specify dtype option on import or set low_memory=False.\n",
            "  if self.run_code(code, result):\n",
            "100%|██████████| 786564/786564 [00:00<00:00, 1146912.26it/s]\n",
            "100%|██████████| 786564/786564 [34:59<00:00, 374.61it/s]\n",
            "Some layers from the model checkpoint at bert-base-uncased were not used when initializing TFBertModel: ['mlm___cls', 'nsp___cls']\n",
            "- This IS expected if you are initializing TFBertModel from the checkpoint of a model trained on another task or with another architecture (e.g. initializing a BertForSequenceClassification model from a BertForPreTraining model).\n",
            "- This IS NOT expected if you are initializing TFBertModel from the checkpoint of a model that you expect to be exactly identical (initializing a BertForSequenceClassification model from a BertForSequenceClassification model).\n",
            "All the layers of TFBertModel were initialized from the model checkpoint at bert-base-uncased.\n",
            "If your task is similar to the task the model of the checkpoint was trained on, you can already use TFBertModel for predictions without further training.\n"
          ]
        },
        {
          "output_type": "stream",
          "name": "stdout",
          "text": [
            "Downloading data from http://206.12.93.90:8080/yelp_data/models/saved_weights_austin.h5\n",
            "451493888/451493484 [==============================] - 13s 0us/step\n",
            "451502080/451493484 [==============================] - 13s 0us/step\n",
            "579/579 [==============================] - 1129s 2s/step\n",
            "Downloading data from http://206.12.93.90:8080/yelp_data/Boston_reviews.tar.gz\n",
            "180797440/180790154 [==============================] - 5s 0us/step\n",
            "180805632/180790154 [==============================] - 5s 0us/step\n",
            "Data in:  /root/.keras/datasets/Boston_reviews.csv\n"
          ]
        },
        {
          "output_type": "stream",
          "name": "stderr",
          "text": [
            "100%|██████████| 521596/521596 [00:00<00:00, 1093015.73it/s]\n",
            "100%|██████████| 521596/521596 [23:58<00:00, 362.56it/s]\n",
            "Some layers from the model checkpoint at bert-base-uncased were not used when initializing TFBertModel: ['mlm___cls', 'nsp___cls']\n",
            "- This IS expected if you are initializing TFBertModel from the checkpoint of a model trained on another task or with another architecture (e.g. initializing a BertForSequenceClassification model from a BertForPreTraining model).\n",
            "- This IS NOT expected if you are initializing TFBertModel from the checkpoint of a model that you expect to be exactly identical (initializing a BertForSequenceClassification model from a BertForSequenceClassification model).\n",
            "All the layers of TFBertModel were initialized from the model checkpoint at bert-base-uncased.\n",
            "If your task is similar to the task the model of the checkpoint was trained on, you can already use TFBertModel for predictions without further training.\n"
          ]
        },
        {
          "output_type": "stream",
          "name": "stdout",
          "text": [
            "Downloading data from http://206.12.93.90:8080/yelp_data/models/saved_weights_boston.h5\n",
            "445964288/445962584 [==============================] - 13s 0us/step\n",
            "445972480/445962584 [==============================] - 13s 0us/step\n",
            "361/361 [==============================] - 906s 3s/step\n",
            "Downloading data from http://206.12.93.90:8080/yelp_data/Columbus_reviews.tar.gz\n",
            "66478080/66470604 [==============================] - 2s 0us/step\n",
            "66486272/66470604 [==============================] - 2s 0us/step\n",
            "Data in:  /root/.keras/datasets/Columbus_reviews.csv\n"
          ]
        },
        {
          "output_type": "stream",
          "name": "stderr",
          "text": [
            "100%|██████████| 198099/198099 [00:00<00:00, 1146173.36it/s]\n",
            "100%|██████████| 198099/198099 [07:40<00:00, 430.04it/s]\n",
            "Some layers from the model checkpoint at bert-base-uncased were not used when initializing TFBertModel: ['mlm___cls', 'nsp___cls']\n",
            "- This IS expected if you are initializing TFBertModel from the checkpoint of a model trained on another task or with another architecture (e.g. initializing a BertForSequenceClassification model from a BertForPreTraining model).\n",
            "- This IS NOT expected if you are initializing TFBertModel from the checkpoint of a model that you expect to be exactly identical (initializing a BertForSequenceClassification model from a BertForSequenceClassification model).\n",
            "All the layers of TFBertModel were initialized from the model checkpoint at bert-base-uncased.\n",
            "If your task is similar to the task the model of the checkpoint was trained on, you can already use TFBertModel for predictions without further training.\n"
          ]
        },
        {
          "output_type": "stream",
          "name": "stdout",
          "text": [
            "Downloading data from http://206.12.93.90:8080/yelp_data/models/saved_weights_columbus.h5\n",
            "445612032/445609984 [==============================] - 12s 0us/step\n",
            "445620224/445609984 [==============================] - 12s 0us/step\n",
            "135/135 [==============================] - 264s 2s/step\n",
            "Downloading data from http://206.12.93.90:8080/yelp_data/Orlando_reviews.tar.gz\n",
            "143818752/143817024 [==============================] - 4s 0us/step\n",
            "143826944/143817024 [==============================] - 4s 0us/step\n",
            "Data in:  /root/.keras/datasets/Orlando_reviews.csv\n"
          ]
        },
        {
          "output_type": "stream",
          "name": "stderr",
          "text": [
            "100%|██████████| 440949/440949 [00:00<00:00, 1165201.45it/s]\n",
            "100%|██████████| 440949/440949 [17:25<00:00, 421.84it/s]\n",
            "Some layers from the model checkpoint at bert-base-uncased were not used when initializing TFBertModel: ['mlm___cls', 'nsp___cls']\n",
            "- This IS expected if you are initializing TFBertModel from the checkpoint of a model trained on another task or with another architecture (e.g. initializing a BertForSequenceClassification model from a BertForPreTraining model).\n",
            "- This IS NOT expected if you are initializing TFBertModel from the checkpoint of a model that you expect to be exactly identical (initializing a BertForSequenceClassification model from a BertForSequenceClassification model).\n",
            "All the layers of TFBertModel were initialized from the model checkpoint at bert-base-uncased.\n",
            "If your task is similar to the task the model of the checkpoint was trained on, you can already use TFBertModel for predictions without further training.\n"
          ]
        },
        {
          "output_type": "stream",
          "name": "stdout",
          "text": [
            "Downloading data from http://206.12.93.90:8080/yelp_data/models/saved_weights_orlando.h5\n",
            "447561728/447561584 [==============================] - 12s 0us/step\n",
            "447569920/447561584 [==============================] - 12s 0us/step\n",
            "308/308 [==============================] - 602s 2s/step\n",
            "Downloading data from http://206.12.93.90:8080/yelp_data/Portland_reviews.tar.gz\n",
            "241278976/241277594 [==============================] - 7s 0us/step\n",
            "241287168/241277594 [==============================] - 7s 0us/step\n",
            "Data in:  /root/.keras/datasets/Portland_reviews.csv\n"
          ]
        },
        {
          "output_type": "stream",
          "name": "stderr",
          "text": [
            "/usr/local/lib/python3.7/dist-packages/IPython/core/interactiveshell.py:2822: DtypeWarning: Columns (10) have mixed types.Specify dtype option on import or set low_memory=False.\n",
            "  if self.run_code(code, result):\n",
            "100%|██████████| 736725/736725 [00:00<00:00, 1159582.11it/s]\n",
            "100%|██████████| 736725/736725 [32:12<00:00, 381.32it/s]\n",
            "Some layers from the model checkpoint at bert-base-uncased were not used when initializing TFBertModel: ['mlm___cls', 'nsp___cls']\n",
            "- This IS expected if you are initializing TFBertModel from the checkpoint of a model trained on another task or with another architecture (e.g. initializing a BertForSequenceClassification model from a BertForPreTraining model).\n",
            "- This IS NOT expected if you are initializing TFBertModel from the checkpoint of a model that you expect to be exactly identical (initializing a BertForSequenceClassification model from a BertForSequenceClassification model).\n",
            "All the layers of TFBertModel were initialized from the model checkpoint at bert-base-uncased.\n",
            "If your task is similar to the task the model of the checkpoint was trained on, you can already use TFBertModel for predictions without further training.\n"
          ]
        },
        {
          "output_type": "stream",
          "name": "stdout",
          "text": [
            "Downloading data from http://206.12.93.90:8080/yelp_data/models/saved_weights_portland.h5\n",
            "453050368/453047384 [==============================] - 13s 0us/step\n",
            "453058560/453047384 [==============================] - 13s 0us/step\n",
            "539/539 [==============================] - 1052s 2s/step\n",
            "Downloading data from http://206.12.93.90:8080/yelp_data/Toronto_reviews.tar.gz\n",
            "126746624/126743106 [==============================] - 4s 0us/step\n",
            "126754816/126743106 [==============================] - 4s 0us/step\n",
            "Data in:  /root/.keras/datasets/Toronto_reviews.csv\n"
          ]
        },
        {
          "output_type": "stream",
          "name": "stderr",
          "text": [
            "100%|██████████| 402927/402927 [00:00<00:00, 1095378.62it/s]\n",
            "100%|██████████| 402927/402927 [10:42<00:00, 626.65it/s]\n",
            "Some layers from the model checkpoint at bert-base-uncased were not used when initializing TFBertModel: ['mlm___cls', 'nsp___cls']\n",
            "- This IS expected if you are initializing TFBertModel from the checkpoint of a model trained on another task or with another architecture (e.g. initializing a BertForSequenceClassification model from a BertForPreTraining model).\n",
            "- This IS NOT expected if you are initializing TFBertModel from the checkpoint of a model that you expect to be exactly identical (initializing a BertForSequenceClassification model from a BertForSequenceClassification model).\n",
            "All the layers of TFBertModel were initialized from the model checkpoint at bert-base-uncased.\n",
            "If your task is similar to the task the model of the checkpoint was trained on, you can already use TFBertModel for predictions without further training.\n"
          ]
        },
        {
          "output_type": "stream",
          "name": "stdout",
          "text": [
            "Downloading data from http://206.12.93.90:8080/yelp_data/models/saved_weights_toronto.h5\n",
            "445956096/445950284 [==============================] - 12s 0us/step\n",
            "445964288/445950284 [==============================] - 12s 0us/step\n",
            "180/180 [==============================] - 353s 2s/step\n"
          ]
        }
      ],
      "source": [
        "# predictions = {}\n",
        "# ground_truth = {}\n",
        "# predictions_neut = {}\n",
        "# ground_truth_neut = {}\n",
        "# ground_truth_neut_testset = {}\n",
        "# predictions_neut_testset = {}\n",
        "for city in yelp_cities: \n",
        "    # # # Load data\n",
        "    # dataset = Dataset(city)\n",
        "    # ground_truth[city] = dataset.y_test  \n",
        "    # # Create the model\n",
        "    # model = models.get_model(dataset.max_len, dataset.num_labels, tpu=False)\n",
        "    # data_url = 'http://206.12.93.90:8080/yelp_data/models/saved_weights_' + dataset.dataset + '.h5'\n",
        "    # file_name = keras.utils.get_file('saved_weights_' + dataset.dataset + '.h5', data_url, untar=False)  \n",
        "    # model.load_weights(file_name)\n",
        "    # # Make predictions\n",
        "    # preds = model.predict(dataset.X_test, verbose=1, batch_size=128)\n",
        "    # predictions[city] = preds\n",
        "    # # Load data neut\n",
        "    dataset = Dataset(city,  masking=True)\n",
        "    # ground_truth_neut[city] = dataset.y_test\n",
        "    # # Create the model\n",
        "    # model = models.get_model(dataset.max_len, dataset.num_labels, tpu=False)\n",
        "    # data_url = 'http://206.12.93.90:8080/yelp_data/models/saved_weights_' + dataset.dataset + '_neut.h5'\n",
        "    # file_name = keras.utils.get_file('saved_weights_' + dataset.dataset + '_neut.h5', data_url, untar=False)  \n",
        "    # model.load_weights(file_name)\n",
        "    # # Make predictions neut\n",
        "    # preds_neut = model.predict(dataset.X_test, verbose=1, batch_size=128)\n",
        "    # predictions_neut[city] = preds_neut\n",
        "\n",
        "    # Load data neut\n",
        "    ground_truth_neut_testset[city] = dataset.y_test\n",
        "    # Create the model\n",
        "    model = models.get_model(dataset.max_len, dataset.num_labels, tpu=False)\n",
        "    data_url = 'http://206.12.93.90:8080/yelp_data/models/saved_weights_' + dataset.dataset + '.h5'\n",
        "    file_name = keras.utils.get_file('saved_weights_' + dataset.dataset + '.h5', data_url, untar=False)  \n",
        "    model.load_weights(file_name)\n",
        "    # Make predictions neut\n",
        "    preds_neut_testset = model.predict(dataset.X_test, verbose=1, batch_size=128)\n",
        "    predictions_neut_testset[city] = preds_neut_testset\n",
        "\n",
        "\n",
        "\n"
      ]
    },
    {
      "cell_type": "code",
      "source": [
        "# with open('predictions.pickle', 'wb') as file:\n",
        "#         pickle.dump(predictions, file)\n",
        "# with open('ground_truth.pickle', 'wb') as file:\n",
        "#         pickle.dump(ground_truth, file)\n",
        "# with open('predictions_neut.pickle', 'wb') as file:\n",
        "#         pickle.dump(predictions_neut, file)\n",
        "# with open('ground_truth_neut.pickle', 'wb') as file:\n",
        "#         pickle.dump(ground_truth_neut, file)\n",
        "with open('predictions_neut_testset.pickle', 'wb') as file:\n",
        "        pickle.dump(predictions_neut_testset, file)\n",
        "with open('ground_truth_neut_testset.pickle', 'wb') as file:\n",
        "        pickle.dump(ground_truth_neut_testset, file)\n",
        "\n",
        "!cp *.pickle /content/drive/MyDrive/\n"
      ],
      "metadata": {
        "id": "y_K76ijqVTNp"
      },
      "id": "y_K76ijqVTNp",
      "execution_count": 9,
      "outputs": []
    },
    {
      "cell_type": "code",
      "source": [
        "!cp /content/drive/MyDrive/ground_truth.pickle .\n",
        "!cp /content/drive/MyDrive/predictions.pickle .\n",
        "!cp /content/drive/MyDrive/ground_truth_neut.pickle .\n",
        "!cp /content/drive/MyDrive/predictions_neut.pickle .\n",
        "# !cp /content/drive/MyDrive/ground_truth_neut_testset.pickle .\n",
        "# !cp /content/drive/MyDrive/predictions_neut_testset.pickle .\n"
      ],
      "metadata": {
        "id": "Tzm_PtBTdPjq"
      },
      "id": "Tzm_PtBTdPjq",
      "execution_count": 11,
      "outputs": []
    },
    {
      "cell_type": "code",
      "source": [
        "with open('ground_truth.pickle', 'rb') as file:\n",
        "    ground_truth = pickle.load(file)\n",
        "with open('predictions.pickle', 'rb') as file:\n",
        "    predictions = pickle.load(file)\n",
        "with open('ground_truth_neut.pickle', 'rb') as file:\n",
        "    ground_truth_neut = pickle.load(file)\n",
        "with open('predictions_neut.pickle', 'rb') as file:\n",
        "    predictions_neut = pickle.load(file)\n",
        "    \n"
      ],
      "metadata": {
        "id": "Ly-ZmQ5SbGO6"
      },
      "id": "Ly-ZmQ5SbGO6",
      "execution_count": 12,
      "outputs": []
    },
    {
      "cell_type": "code",
      "execution_count": 13,
      "id": "4a98a358",
      "metadata": {
        "colab": {
          "base_uri": "https://localhost:8080/",
          "height": 697
        },
        "id": "4a98a358",
        "outputId": "ded18f3d-b4cc-4f59-bcdc-9e4ac4c955ef"
      },
      "outputs": [
        {
          "output_type": "stream",
          "name": "stderr",
          "text": [
            "/usr/local/lib/python3.7/dist-packages/sklearn/metrics/_classification.py:1318: UndefinedMetricWarning: Precision is ill-defined and being set to 0.0 in labels with no predicted samples. Use `zero_division` parameter to control this behavior.\n",
            "  _warn_prf(average, modifier, msg_start, len(result))\n",
            "/usr/local/lib/python3.7/dist-packages/sklearn/metrics/_classification.py:1318: UndefinedMetricWarning: Precision is ill-defined and being set to 0.0 in labels with no predicted samples. Use `zero_division` parameter to control this behavior.\n",
            "  _warn_prf(average, modifier, msg_start, len(result))\n",
            "/usr/local/lib/python3.7/dist-packages/sklearn/metrics/_classification.py:1318: UndefinedMetricWarning: Recall is ill-defined and being set to 0.0 in labels with no true samples. Use `zero_division` parameter to control this behavior.\n",
            "  _warn_prf(average, modifier, msg_start, len(result))\n",
            "/usr/local/lib/python3.7/dist-packages/sklearn/metrics/_classification.py:1318: UndefinedMetricWarning: Precision is ill-defined and being set to 0.0 in labels with no predicted samples. Use `zero_division` parameter to control this behavior.\n",
            "  _warn_prf(average, modifier, msg_start, len(result))\n",
            "/usr/local/lib/python3.7/dist-packages/sklearn/metrics/_classification.py:1318: UndefinedMetricWarning: Precision is ill-defined and being set to 0.0 in labels with no predicted samples. Use `zero_division` parameter to control this behavior.\n",
            "  _warn_prf(average, modifier, msg_start, len(result))\n",
            "/usr/local/lib/python3.7/dist-packages/sklearn/metrics/_classification.py:1318: UndefinedMetricWarning: Precision is ill-defined and being set to 0.0 in labels with no predicted samples. Use `zero_division` parameter to control this behavior.\n",
            "  _warn_prf(average, modifier, msg_start, len(result))\n",
            "/usr/local/lib/python3.7/dist-packages/sklearn/metrics/_classification.py:1318: UndefinedMetricWarning: Recall is ill-defined and being set to 0.0 in labels with no true samples. Use `zero_division` parameter to control this behavior.\n",
            "  _warn_prf(average, modifier, msg_start, len(result))\n",
            "/usr/local/lib/python3.7/dist-packages/sklearn/metrics/_classification.py:1318: UndefinedMetricWarning: Precision is ill-defined and being set to 0.0 in labels with no predicted samples. Use `zero_division` parameter to control this behavior.\n",
            "  _warn_prf(average, modifier, msg_start, len(result))\n",
            "/usr/local/lib/python3.7/dist-packages/sklearn/metrics/_classification.py:1318: UndefinedMetricWarning: Recall is ill-defined and being set to 0.0 in labels with no true samples. Use `zero_division` parameter to control this behavior.\n",
            "  _warn_prf(average, modifier, msg_start, len(result))\n",
            "/usr/local/lib/python3.7/dist-packages/sklearn/metrics/_classification.py:1318: UndefinedMetricWarning: Precision is ill-defined and being set to 0.0 in labels with no predicted samples. Use `zero_division` parameter to control this behavior.\n",
            "  _warn_prf(average, modifier, msg_start, len(result))\n"
          ]
        },
        {
          "output_type": "execute_result",
          "data": {
            "text/html": [
              "\n",
              "  <div id=\"df-77031e8f-cbf9-4a95-ac98-bb630efd470e\">\n",
              "    <div class=\"colab-df-container\">\n",
              "      <div>\n",
              "<style scoped>\n",
              "    .dataframe tbody tr th:only-of-type {\n",
              "        vertical-align: middle;\n",
              "    }\n",
              "\n",
              "    .dataframe tbody tr th {\n",
              "        vertical-align: top;\n",
              "    }\n",
              "\n",
              "    .dataframe thead th {\n",
              "        text-align: right;\n",
              "    }\n",
              "</style>\n",
              "<table border=\"1\" class=\"dataframe\">\n",
              "  <thead>\n",
              "    <tr style=\"text-align: right;\">\n",
              "      <th></th>\n",
              "      <th>City</th>\n",
              "      <th>Precision</th>\n",
              "      <th>Recall</th>\n",
              "      <th>F1-Score</th>\n",
              "      <th>Accuracy</th>\n",
              "      <th>Accuracy_err</th>\n",
              "      <th>MRR</th>\n",
              "      <th>MRR_err</th>\n",
              "      <th>HR@5</th>\n",
              "      <th>HR@5_err</th>\n",
              "      <th>HR@10</th>\n",
              "      <th>HR@10_err</th>\n",
              "      <th>HR@20</th>\n",
              "      <th>HR@20_err</th>\n",
              "    </tr>\n",
              "  </thead>\n",
              "  <tbody>\n",
              "    <tr>\n",
              "      <th>0</th>\n",
              "      <td>atlanta</td>\n",
              "      <td>0.496384</td>\n",
              "      <td>0.479702</td>\n",
              "      <td>0.476190</td>\n",
              "      <td>0.479702</td>\n",
              "      <td>0.003551</td>\n",
              "      <td>0.571248</td>\n",
              "      <td>0.003073</td>\n",
              "      <td>0.675418</td>\n",
              "      <td>0.003328</td>\n",
              "      <td>0.740439</td>\n",
              "      <td>0.003116</td>\n",
              "      <td>0.798159</td>\n",
              "      <td>0.002853</td>\n",
              "    </tr>\n",
              "    <tr>\n",
              "      <th>1</th>\n",
              "      <td>austin</td>\n",
              "      <td>0.480759</td>\n",
              "      <td>0.467401</td>\n",
              "      <td>0.457266</td>\n",
              "      <td>0.467401</td>\n",
              "      <td>0.003017</td>\n",
              "      <td>0.565556</td>\n",
              "      <td>0.002592</td>\n",
              "      <td>0.677794</td>\n",
              "      <td>0.002826</td>\n",
              "      <td>0.746723</td>\n",
              "      <td>0.002630</td>\n",
              "      <td>0.806771</td>\n",
              "      <td>0.002388</td>\n",
              "    </tr>\n",
              "    <tr>\n",
              "      <th>2</th>\n",
              "      <td>boston</td>\n",
              "      <td>0.546226</td>\n",
              "      <td>0.531794</td>\n",
              "      <td>0.528683</td>\n",
              "      <td>0.531794</td>\n",
              "      <td>0.003819</td>\n",
              "      <td>0.618438</td>\n",
              "      <td>0.003256</td>\n",
              "      <td>0.717167</td>\n",
              "      <td>0.003447</td>\n",
              "      <td>0.777703</td>\n",
              "      <td>0.003182</td>\n",
              "      <td>0.833045</td>\n",
              "      <td>0.002854</td>\n",
              "    </tr>\n",
              "    <tr>\n",
              "      <th>3</th>\n",
              "      <td>columbus</td>\n",
              "      <td>0.498933</td>\n",
              "      <td>0.467548</td>\n",
              "      <td>0.467278</td>\n",
              "      <td>0.467548</td>\n",
              "      <td>0.006262</td>\n",
              "      <td>0.560493</td>\n",
              "      <td>0.005435</td>\n",
              "      <td>0.665347</td>\n",
              "      <td>0.005922</td>\n",
              "      <td>0.730077</td>\n",
              "      <td>0.005571</td>\n",
              "      <td>0.789219</td>\n",
              "      <td>0.005119</td>\n",
              "    </tr>\n",
              "    <tr>\n",
              "      <th>4</th>\n",
              "      <td>orlando</td>\n",
              "      <td>0.493924</td>\n",
              "      <td>0.476533</td>\n",
              "      <td>0.474693</td>\n",
              "      <td>0.476533</td>\n",
              "      <td>0.004139</td>\n",
              "      <td>0.567957</td>\n",
              "      <td>0.003583</td>\n",
              "      <td>0.672877</td>\n",
              "      <td>0.003888</td>\n",
              "      <td>0.741414</td>\n",
              "      <td>0.003629</td>\n",
              "      <td>0.800736</td>\n",
              "      <td>0.003311</td>\n",
              "    </tr>\n",
              "    <tr>\n",
              "      <th>5</th>\n",
              "      <td>portland</td>\n",
              "      <td>0.480539</td>\n",
              "      <td>0.466199</td>\n",
              "      <td>0.458855</td>\n",
              "      <td>0.466199</td>\n",
              "      <td>0.003125</td>\n",
              "      <td>0.557747</td>\n",
              "      <td>0.002719</td>\n",
              "      <td>0.660580</td>\n",
              "      <td>0.002966</td>\n",
              "      <td>0.727443</td>\n",
              "      <td>0.002790</td>\n",
              "      <td>0.788287</td>\n",
              "      <td>0.002559</td>\n",
              "    </tr>\n",
              "    <tr>\n",
              "      <th>6</th>\n",
              "      <td>toronto</td>\n",
              "      <td>0.534719</td>\n",
              "      <td>0.505286</td>\n",
              "      <td>0.506323</td>\n",
              "      <td>0.505286</td>\n",
              "      <td>0.005425</td>\n",
              "      <td>0.603946</td>\n",
              "      <td>0.004566</td>\n",
              "      <td>0.718991</td>\n",
              "      <td>0.004877</td>\n",
              "      <td>0.787644</td>\n",
              "      <td>0.004438</td>\n",
              "      <td>0.845203</td>\n",
              "      <td>0.003925</td>\n",
              "    </tr>\n",
              "  </tbody>\n",
              "</table>\n",
              "</div>\n",
              "      <button class=\"colab-df-convert\" onclick=\"convertToInteractive('df-77031e8f-cbf9-4a95-ac98-bb630efd470e')\"\n",
              "              title=\"Convert this dataframe to an interactive table.\"\n",
              "              style=\"display:none;\">\n",
              "        \n",
              "  <svg xmlns=\"http://www.w3.org/2000/svg\" height=\"24px\"viewBox=\"0 0 24 24\"\n",
              "       width=\"24px\">\n",
              "    <path d=\"M0 0h24v24H0V0z\" fill=\"none\"/>\n",
              "    <path d=\"M18.56 5.44l.94 2.06.94-2.06 2.06-.94-2.06-.94-.94-2.06-.94 2.06-2.06.94zm-11 1L8.5 8.5l.94-2.06 2.06-.94-2.06-.94L8.5 2.5l-.94 2.06-2.06.94zm10 10l.94 2.06.94-2.06 2.06-.94-2.06-.94-.94-2.06-.94 2.06-2.06.94z\"/><path d=\"M17.41 7.96l-1.37-1.37c-.4-.4-.92-.59-1.43-.59-.52 0-1.04.2-1.43.59L10.3 9.45l-7.72 7.72c-.78.78-.78 2.05 0 2.83L4 21.41c.39.39.9.59 1.41.59.51 0 1.02-.2 1.41-.59l7.78-7.78 2.81-2.81c.8-.78.8-2.07 0-2.86zM5.41 20L4 18.59l7.72-7.72 1.47 1.35L5.41 20z\"/>\n",
              "  </svg>\n",
              "      </button>\n",
              "      \n",
              "  <style>\n",
              "    .colab-df-container {\n",
              "      display:flex;\n",
              "      flex-wrap:wrap;\n",
              "      gap: 12px;\n",
              "    }\n",
              "\n",
              "    .colab-df-convert {\n",
              "      background-color: #E8F0FE;\n",
              "      border: none;\n",
              "      border-radius: 50%;\n",
              "      cursor: pointer;\n",
              "      display: none;\n",
              "      fill: #1967D2;\n",
              "      height: 32px;\n",
              "      padding: 0 0 0 0;\n",
              "      width: 32px;\n",
              "    }\n",
              "\n",
              "    .colab-df-convert:hover {\n",
              "      background-color: #E2EBFA;\n",
              "      box-shadow: 0px 1px 2px rgba(60, 64, 67, 0.3), 0px 1px 3px 1px rgba(60, 64, 67, 0.15);\n",
              "      fill: #174EA6;\n",
              "    }\n",
              "\n",
              "    [theme=dark] .colab-df-convert {\n",
              "      background-color: #3B4455;\n",
              "      fill: #D2E3FC;\n",
              "    }\n",
              "\n",
              "    [theme=dark] .colab-df-convert:hover {\n",
              "      background-color: #434B5C;\n",
              "      box-shadow: 0px 1px 3px 1px rgba(0, 0, 0, 0.15);\n",
              "      filter: drop-shadow(0px 1px 2px rgba(0, 0, 0, 0.3));\n",
              "      fill: #FFFFFF;\n",
              "    }\n",
              "  </style>\n",
              "\n",
              "      <script>\n",
              "        const buttonEl =\n",
              "          document.querySelector('#df-77031e8f-cbf9-4a95-ac98-bb630efd470e button.colab-df-convert');\n",
              "        buttonEl.style.display =\n",
              "          google.colab.kernel.accessAllowed ? 'block' : 'none';\n",
              "\n",
              "        async function convertToInteractive(key) {\n",
              "          const element = document.querySelector('#df-77031e8f-cbf9-4a95-ac98-bb630efd470e');\n",
              "          const dataTable =\n",
              "            await google.colab.kernel.invokeFunction('convertToInteractive',\n",
              "                                                     [key], {});\n",
              "          if (!dataTable) return;\n",
              "\n",
              "          const docLinkHtml = 'Like what you see? Visit the ' +\n",
              "            '<a target=\"_blank\" href=https://colab.research.google.com/notebooks/data_table.ipynb>data table notebook</a>'\n",
              "            + ' to learn more about interactive tables.';\n",
              "          element.innerHTML = '';\n",
              "          dataTable['output_type'] = 'display_data';\n",
              "          await google.colab.output.renderOutput(dataTable, element);\n",
              "          const docLink = document.createElement('div');\n",
              "          docLink.innerHTML = docLinkHtml;\n",
              "          element.appendChild(docLink);\n",
              "        }\n",
              "      </script>\n",
              "    </div>\n",
              "  </div>\n",
              "  "
            ],
            "text/plain": [
              "       City  Precision    Recall  ...  HR@10_err     HR@20  HR@20_err\n",
              "0   atlanta   0.496384  0.479702  ...   0.003116  0.798159   0.002853\n",
              "1    austin   0.480759  0.467401  ...   0.002630  0.806771   0.002388\n",
              "2    boston   0.546226  0.531794  ...   0.003182  0.833045   0.002854\n",
              "3  columbus   0.498933  0.467548  ...   0.005571  0.789219   0.005119\n",
              "4   orlando   0.493924  0.476533  ...   0.003629  0.800736   0.003311\n",
              "5  portland   0.480539  0.466199  ...   0.002790  0.788287   0.002559\n",
              "6   toronto   0.534719  0.505286  ...   0.004438  0.845203   0.003925\n",
              "\n",
              "[7 rows x 14 columns]"
            ]
          },
          "metadata": {},
          "execution_count": 13
        }
      ],
      "source": [
        "data = pd.DataFrame(columns=['City','Precision', 'Recall', 'F1-Score', \n",
        "                             'Accuracy', 'Accuracy_err', 'MRR', 'MRR_err', \n",
        "                             'HR@5', 'HR@5_err', 'HR@10', 'HR@10_err', \n",
        "                             'HR@20', 'HR@20_err'])\n",
        "for city in predictions.keys():\n",
        "    y_true = ground_truth[city]\n",
        "    y_pred = predictions[city]\n",
        "    performance = metrics.get_performance(y_true, y_pred)\n",
        "    data = data.append(pd.DataFrame([[city,\n",
        "                                      performance['Precision'],\n",
        "                                      performance['Recall'],\n",
        "                                      performance['F1-Score'],\n",
        "                                      performance['Accuracy'][0], performance['Accuracy'][1],\n",
        "                                      performance['MRR'][0], performance['MRR'][1],\n",
        "                                      performance['HR@5'][0], performance['HR@5'][1],\n",
        "                                      performance['HR@10'][0], performance['HR@10'][1],\n",
        "                                      performance['HR@20'][0], performance['HR@20'][1]]],\n",
        "                                    columns=['City','Precision', 'Recall', 'F1-Score', \n",
        "                                             'Accuracy', 'Accuracy_err', 'MRR', 'MRR_err', \n",
        "                                             'HR@5', 'HR@5_err', 'HR@10', 'HR@10_err', \n",
        "                                             'HR@20', 'HR@20_err']),ignore_index=True)\n",
        "    \n",
        "data\n"
      ]
    },
    {
      "cell_type": "code",
      "source": [
        "data_neut = pd.DataFrame(columns=['City','Precision', 'Recall', 'F1-Score', \n",
        "                             'Accuracy', 'Accuracy_err', 'MRR', 'MRR_err', \n",
        "                             'HR@5', 'HR@5_err', 'HR@10', 'HR@10_err', \n",
        "                             'HR@20', 'HR@20_err'])\n",
        "for city in predictions_neut.keys():\n",
        "    y_true = ground_truth_neut[city]\n",
        "    y_pred = predictions_neut[city]\n",
        "    performance = metrics.get_performance(y_true, y_pred)\n",
        "    data_neut = data_neut.append(pd.DataFrame([[city,\n",
        "                                                performance['Precision'],\n",
        "                                                performance['Recall'],\n",
        "                                                performance['F1-Score'],\n",
        "                                                performance['Accuracy'][0], performance['Accuracy'][1],\n",
        "                                                performance['MRR'][0], performance['MRR'][1],\n",
        "                                                performance['HR@5'][0], performance['HR@5'][1],\n",
        "                                                performance['HR@10'][0], performance['HR@10'][1],\n",
        "                                                performance['HR@20'][0], performance['HR@20'][1]]],\n",
        "                                                columns=['City','Precision', 'Recall', 'F1-Score', \n",
        "                                                        'Accuracy', 'Accuracy_err', 'MRR', 'MRR_err', \n",
        "                                                        'HR@5', 'HR@5_err', 'HR@10', 'HR@10_err', \n",
        "                                                        'HR@20', 'HR@20_err']),ignore_index=True)\n",
        "    \n",
        "data_neut\n"
      ],
      "metadata": {
        "colab": {
          "base_uri": "https://localhost:8080/",
          "height": 663
        },
        "id": "_BL87EKxpdlV",
        "outputId": "8f9d36c6-4b08-40a2-d7d6-c11efaf19230"
      },
      "id": "_BL87EKxpdlV",
      "execution_count": 14,
      "outputs": [
        {
          "output_type": "stream",
          "name": "stderr",
          "text": [
            "/usr/local/lib/python3.7/dist-packages/sklearn/metrics/_classification.py:1318: UndefinedMetricWarning: Precision is ill-defined and being set to 0.0 in labels with no predicted samples. Use `zero_division` parameter to control this behavior.\n",
            "  _warn_prf(average, modifier, msg_start, len(result))\n",
            "/usr/local/lib/python3.7/dist-packages/sklearn/metrics/_classification.py:1318: UndefinedMetricWarning: Precision is ill-defined and being set to 0.0 in labels with no predicted samples. Use `zero_division` parameter to control this behavior.\n",
            "  _warn_prf(average, modifier, msg_start, len(result))\n",
            "/usr/local/lib/python3.7/dist-packages/sklearn/metrics/_classification.py:1318: UndefinedMetricWarning: Recall is ill-defined and being set to 0.0 in labels with no true samples. Use `zero_division` parameter to control this behavior.\n",
            "  _warn_prf(average, modifier, msg_start, len(result))\n",
            "/usr/local/lib/python3.7/dist-packages/sklearn/metrics/_classification.py:1318: UndefinedMetricWarning: Precision is ill-defined and being set to 0.0 in labels with no predicted samples. Use `zero_division` parameter to control this behavior.\n",
            "  _warn_prf(average, modifier, msg_start, len(result))\n",
            "/usr/local/lib/python3.7/dist-packages/sklearn/metrics/_classification.py:1318: UndefinedMetricWarning: Precision is ill-defined and being set to 0.0 in labels with no predicted samples. Use `zero_division` parameter to control this behavior.\n",
            "  _warn_prf(average, modifier, msg_start, len(result))\n",
            "/usr/local/lib/python3.7/dist-packages/sklearn/metrics/_classification.py:1318: UndefinedMetricWarning: Precision is ill-defined and being set to 0.0 in labels with no predicted samples. Use `zero_division` parameter to control this behavior.\n",
            "  _warn_prf(average, modifier, msg_start, len(result))\n",
            "/usr/local/lib/python3.7/dist-packages/sklearn/metrics/_classification.py:1318: UndefinedMetricWarning: Recall is ill-defined and being set to 0.0 in labels with no true samples. Use `zero_division` parameter to control this behavior.\n",
            "  _warn_prf(average, modifier, msg_start, len(result))\n",
            "/usr/local/lib/python3.7/dist-packages/sklearn/metrics/_classification.py:1318: UndefinedMetricWarning: Precision is ill-defined and being set to 0.0 in labels with no predicted samples. Use `zero_division` parameter to control this behavior.\n",
            "  _warn_prf(average, modifier, msg_start, len(result))\n",
            "/usr/local/lib/python3.7/dist-packages/sklearn/metrics/_classification.py:1318: UndefinedMetricWarning: Recall is ill-defined and being set to 0.0 in labels with no true samples. Use `zero_division` parameter to control this behavior.\n",
            "  _warn_prf(average, modifier, msg_start, len(result))\n"
          ]
        },
        {
          "output_type": "execute_result",
          "data": {
            "text/html": [
              "\n",
              "  <div id=\"df-1e3a2fda-dbb4-492e-aaa9-0e16e663b397\">\n",
              "    <div class=\"colab-df-container\">\n",
              "      <div>\n",
              "<style scoped>\n",
              "    .dataframe tbody tr th:only-of-type {\n",
              "        vertical-align: middle;\n",
              "    }\n",
              "\n",
              "    .dataframe tbody tr th {\n",
              "        vertical-align: top;\n",
              "    }\n",
              "\n",
              "    .dataframe thead th {\n",
              "        text-align: right;\n",
              "    }\n",
              "</style>\n",
              "<table border=\"1\" class=\"dataframe\">\n",
              "  <thead>\n",
              "    <tr style=\"text-align: right;\">\n",
              "      <th></th>\n",
              "      <th>City</th>\n",
              "      <th>Precision</th>\n",
              "      <th>Recall</th>\n",
              "      <th>F1-Score</th>\n",
              "      <th>Accuracy</th>\n",
              "      <th>Accuracy_err</th>\n",
              "      <th>MRR</th>\n",
              "      <th>MRR_err</th>\n",
              "      <th>HR@5</th>\n",
              "      <th>HR@5_err</th>\n",
              "      <th>HR@10</th>\n",
              "      <th>HR@10_err</th>\n",
              "      <th>HR@20</th>\n",
              "      <th>HR@20_err</th>\n",
              "    </tr>\n",
              "  </thead>\n",
              "  <tbody>\n",
              "    <tr>\n",
              "      <th>0</th>\n",
              "      <td>atlanta</td>\n",
              "      <td>0.465403</td>\n",
              "      <td>0.454978</td>\n",
              "      <td>0.449657</td>\n",
              "      <td>0.454978</td>\n",
              "      <td>0.003540</td>\n",
              "      <td>0.546281</td>\n",
              "      <td>0.003096</td>\n",
              "      <td>0.648827</td>\n",
              "      <td>0.003393</td>\n",
              "      <td>0.715566</td>\n",
              "      <td>0.003207</td>\n",
              "      <td>0.776442</td>\n",
              "      <td>0.002962</td>\n",
              "    </tr>\n",
              "    <tr>\n",
              "      <th>1</th>\n",
              "      <td>austin</td>\n",
              "      <td>0.456637</td>\n",
              "      <td>0.440668</td>\n",
              "      <td>0.436415</td>\n",
              "      <td>0.440654</td>\n",
              "      <td>0.003002</td>\n",
              "      <td>0.540062</td>\n",
              "      <td>0.002602</td>\n",
              "      <td>0.653332</td>\n",
              "      <td>0.002878</td>\n",
              "      <td>0.726098</td>\n",
              "      <td>0.002697</td>\n",
              "      <td>0.789607</td>\n",
              "      <td>0.002465</td>\n",
              "    </tr>\n",
              "    <tr>\n",
              "      <th>2</th>\n",
              "      <td>boston</td>\n",
              "      <td>0.525683</td>\n",
              "      <td>0.505151</td>\n",
              "      <td>0.503664</td>\n",
              "      <td>0.505151</td>\n",
              "      <td>0.003826</td>\n",
              "      <td>0.595992</td>\n",
              "      <td>0.003274</td>\n",
              "      <td>0.700502</td>\n",
              "      <td>0.003505</td>\n",
              "      <td>0.764414</td>\n",
              "      <td>0.003248</td>\n",
              "      <td>0.822245</td>\n",
              "      <td>0.002926</td>\n",
              "    </tr>\n",
              "    <tr>\n",
              "      <th>3</th>\n",
              "      <td>columbus</td>\n",
              "      <td>0.458456</td>\n",
              "      <td>0.439432</td>\n",
              "      <td>0.435303</td>\n",
              "      <td>0.439432</td>\n",
              "      <td>0.006229</td>\n",
              "      <td>0.537259</td>\n",
              "      <td>0.005417</td>\n",
              "      <td>0.649630</td>\n",
              "      <td>0.005988</td>\n",
              "      <td>0.718959</td>\n",
              "      <td>0.005642</td>\n",
              "      <td>0.783107</td>\n",
              "      <td>0.005172</td>\n",
              "    </tr>\n",
              "    <tr>\n",
              "      <th>4</th>\n",
              "      <td>orlando</td>\n",
              "      <td>0.470094</td>\n",
              "      <td>0.453002</td>\n",
              "      <td>0.451081</td>\n",
              "      <td>0.453002</td>\n",
              "      <td>0.004126</td>\n",
              "      <td>0.548947</td>\n",
              "      <td>0.003578</td>\n",
              "      <td>0.658967</td>\n",
              "      <td>0.003929</td>\n",
              "      <td>0.729890</td>\n",
              "      <td>0.003680</td>\n",
              "      <td>0.792233</td>\n",
              "      <td>0.003362</td>\n",
              "    </tr>\n",
              "    <tr>\n",
              "      <th>5</th>\n",
              "      <td>portland</td>\n",
              "      <td>0.451928</td>\n",
              "      <td>0.439149</td>\n",
              "      <td>0.432518</td>\n",
              "      <td>0.439149</td>\n",
              "      <td>0.003109</td>\n",
              "      <td>0.531511</td>\n",
              "      <td>0.002728</td>\n",
              "      <td>0.634052</td>\n",
              "      <td>0.003018</td>\n",
              "      <td>0.705252</td>\n",
              "      <td>0.002856</td>\n",
              "      <td>0.771230</td>\n",
              "      <td>0.002631</td>\n",
              "    </tr>\n",
              "    <tr>\n",
              "      <th>6</th>\n",
              "      <td>toronto</td>\n",
              "      <td>0.513133</td>\n",
              "      <td>0.488492</td>\n",
              "      <td>0.486309</td>\n",
              "      <td>0.488492</td>\n",
              "      <td>0.005424</td>\n",
              "      <td>0.589210</td>\n",
              "      <td>0.004583</td>\n",
              "      <td>0.709724</td>\n",
              "      <td>0.004925</td>\n",
              "      <td>0.779726</td>\n",
              "      <td>0.004497</td>\n",
              "      <td>0.836285</td>\n",
              "      <td>0.004015</td>\n",
              "    </tr>\n",
              "  </tbody>\n",
              "</table>\n",
              "</div>\n",
              "      <button class=\"colab-df-convert\" onclick=\"convertToInteractive('df-1e3a2fda-dbb4-492e-aaa9-0e16e663b397')\"\n",
              "              title=\"Convert this dataframe to an interactive table.\"\n",
              "              style=\"display:none;\">\n",
              "        \n",
              "  <svg xmlns=\"http://www.w3.org/2000/svg\" height=\"24px\"viewBox=\"0 0 24 24\"\n",
              "       width=\"24px\">\n",
              "    <path d=\"M0 0h24v24H0V0z\" fill=\"none\"/>\n",
              "    <path d=\"M18.56 5.44l.94 2.06.94-2.06 2.06-.94-2.06-.94-.94-2.06-.94 2.06-2.06.94zm-11 1L8.5 8.5l.94-2.06 2.06-.94-2.06-.94L8.5 2.5l-.94 2.06-2.06.94zm10 10l.94 2.06.94-2.06 2.06-.94-2.06-.94-.94-2.06-.94 2.06-2.06.94z\"/><path d=\"M17.41 7.96l-1.37-1.37c-.4-.4-.92-.59-1.43-.59-.52 0-1.04.2-1.43.59L10.3 9.45l-7.72 7.72c-.78.78-.78 2.05 0 2.83L4 21.41c.39.39.9.59 1.41.59.51 0 1.02-.2 1.41-.59l7.78-7.78 2.81-2.81c.8-.78.8-2.07 0-2.86zM5.41 20L4 18.59l7.72-7.72 1.47 1.35L5.41 20z\"/>\n",
              "  </svg>\n",
              "      </button>\n",
              "      \n",
              "  <style>\n",
              "    .colab-df-container {\n",
              "      display:flex;\n",
              "      flex-wrap:wrap;\n",
              "      gap: 12px;\n",
              "    }\n",
              "\n",
              "    .colab-df-convert {\n",
              "      background-color: #E8F0FE;\n",
              "      border: none;\n",
              "      border-radius: 50%;\n",
              "      cursor: pointer;\n",
              "      display: none;\n",
              "      fill: #1967D2;\n",
              "      height: 32px;\n",
              "      padding: 0 0 0 0;\n",
              "      width: 32px;\n",
              "    }\n",
              "\n",
              "    .colab-df-convert:hover {\n",
              "      background-color: #E2EBFA;\n",
              "      box-shadow: 0px 1px 2px rgba(60, 64, 67, 0.3), 0px 1px 3px 1px rgba(60, 64, 67, 0.15);\n",
              "      fill: #174EA6;\n",
              "    }\n",
              "\n",
              "    [theme=dark] .colab-df-convert {\n",
              "      background-color: #3B4455;\n",
              "      fill: #D2E3FC;\n",
              "    }\n",
              "\n",
              "    [theme=dark] .colab-df-convert:hover {\n",
              "      background-color: #434B5C;\n",
              "      box-shadow: 0px 1px 3px 1px rgba(0, 0, 0, 0.15);\n",
              "      filter: drop-shadow(0px 1px 2px rgba(0, 0, 0, 0.3));\n",
              "      fill: #FFFFFF;\n",
              "    }\n",
              "  </style>\n",
              "\n",
              "      <script>\n",
              "        const buttonEl =\n",
              "          document.querySelector('#df-1e3a2fda-dbb4-492e-aaa9-0e16e663b397 button.colab-df-convert');\n",
              "        buttonEl.style.display =\n",
              "          google.colab.kernel.accessAllowed ? 'block' : 'none';\n",
              "\n",
              "        async function convertToInteractive(key) {\n",
              "          const element = document.querySelector('#df-1e3a2fda-dbb4-492e-aaa9-0e16e663b397');\n",
              "          const dataTable =\n",
              "            await google.colab.kernel.invokeFunction('convertToInteractive',\n",
              "                                                     [key], {});\n",
              "          if (!dataTable) return;\n",
              "\n",
              "          const docLinkHtml = 'Like what you see? Visit the ' +\n",
              "            '<a target=\"_blank\" href=https://colab.research.google.com/notebooks/data_table.ipynb>data table notebook</a>'\n",
              "            + ' to learn more about interactive tables.';\n",
              "          element.innerHTML = '';\n",
              "          dataTable['output_type'] = 'display_data';\n",
              "          await google.colab.output.renderOutput(dataTable, element);\n",
              "          const docLink = document.createElement('div');\n",
              "          docLink.innerHTML = docLinkHtml;\n",
              "          element.appendChild(docLink);\n",
              "        }\n",
              "      </script>\n",
              "    </div>\n",
              "  </div>\n",
              "  "
            ],
            "text/plain": [
              "       City  Precision    Recall  ...  HR@10_err     HR@20  HR@20_err\n",
              "0   atlanta   0.465403  0.454978  ...   0.003207  0.776442   0.002962\n",
              "1    austin   0.456637  0.440668  ...   0.002697  0.789607   0.002465\n",
              "2    boston   0.525683  0.505151  ...   0.003248  0.822245   0.002926\n",
              "3  columbus   0.458456  0.439432  ...   0.005642  0.783107   0.005172\n",
              "4   orlando   0.470094  0.453002  ...   0.003680  0.792233   0.003362\n",
              "5  portland   0.451928  0.439149  ...   0.002856  0.771230   0.002631\n",
              "6   toronto   0.513133  0.488492  ...   0.004497  0.836285   0.004015\n",
              "\n",
              "[7 rows x 14 columns]"
            ]
          },
          "metadata": {},
          "execution_count": 14
        }
      ]
    },
    {
      "cell_type": "code",
      "source": [
        "data_neut_testset = pd.DataFrame(columns=['City','Precision', 'Recall', 'F1-Score', \n",
        "                             'Accuracy', 'Accuracy_err', 'MRR', 'MRR_err', \n",
        "                             'HR@5', 'HR@5_err', 'HR@10', 'HR@10_err', \n",
        "                             'HR@20', 'HR@20_err'])\n",
        "for city in predictions_neut_testset.keys():\n",
        "    y_true = ground_truth_neut_testset[city]\n",
        "    y_pred = predictions_neut_testset[city]\n",
        "    performance = metrics.get_performance(y_true, y_pred)\n",
        "    data_neut_testset = data_neut_testset.append(pd.DataFrame([[city,\n",
        "                                                performance['Precision'],\n",
        "                                                performance['Recall'],\n",
        "                                                performance['F1-Score'],\n",
        "                                                performance['Accuracy'][0], performance['Accuracy'][1],\n",
        "                                                performance['MRR'][0], performance['MRR'][1],\n",
        "                                                performance['HR@5'][0], performance['HR@5'][1],\n",
        "                                                performance['HR@10'][0], performance['HR@10'][1],\n",
        "                                                performance['HR@20'][0], performance['HR@20'][1]]],\n",
        "                                                columns=['City','Precision', 'Recall', 'F1-Score', \n",
        "                                                        'Accuracy', 'Accuracy_err', 'MRR', 'MRR_err', \n",
        "                                                        'HR@5', 'HR@5_err', 'HR@10', 'HR@10_err', \n",
        "                                                        'HR@20', 'HR@20_err']),ignore_index=True)\n",
        "    \n",
        "data_neut_testset\n"
      ],
      "metadata": {
        "id": "9PIzbaFMYHuX",
        "outputId": "4e12d62a-0edb-4667-fbd0-ddff1e89adcf",
        "colab": {
          "base_uri": "https://localhost:8080/",
          "height": 663
        }
      },
      "id": "9PIzbaFMYHuX",
      "execution_count": 15,
      "outputs": [
        {
          "output_type": "stream",
          "name": "stderr",
          "text": [
            "/usr/local/lib/python3.7/dist-packages/sklearn/metrics/_classification.py:1318: UndefinedMetricWarning: Precision is ill-defined and being set to 0.0 in labels with no predicted samples. Use `zero_division` parameter to control this behavior.\n",
            "  _warn_prf(average, modifier, msg_start, len(result))\n",
            "/usr/local/lib/python3.7/dist-packages/sklearn/metrics/_classification.py:1318: UndefinedMetricWarning: Precision is ill-defined and being set to 0.0 in labels with no predicted samples. Use `zero_division` parameter to control this behavior.\n",
            "  _warn_prf(average, modifier, msg_start, len(result))\n",
            "/usr/local/lib/python3.7/dist-packages/sklearn/metrics/_classification.py:1318: UndefinedMetricWarning: Recall is ill-defined and being set to 0.0 in labels with no true samples. Use `zero_division` parameter to control this behavior.\n",
            "  _warn_prf(average, modifier, msg_start, len(result))\n",
            "/usr/local/lib/python3.7/dist-packages/sklearn/metrics/_classification.py:1318: UndefinedMetricWarning: Precision is ill-defined and being set to 0.0 in labels with no predicted samples. Use `zero_division` parameter to control this behavior.\n",
            "  _warn_prf(average, modifier, msg_start, len(result))\n",
            "/usr/local/lib/python3.7/dist-packages/sklearn/metrics/_classification.py:1318: UndefinedMetricWarning: Precision is ill-defined and being set to 0.0 in labels with no predicted samples. Use `zero_division` parameter to control this behavior.\n",
            "  _warn_prf(average, modifier, msg_start, len(result))\n",
            "/usr/local/lib/python3.7/dist-packages/sklearn/metrics/_classification.py:1318: UndefinedMetricWarning: Precision is ill-defined and being set to 0.0 in labels with no predicted samples. Use `zero_division` parameter to control this behavior.\n",
            "  _warn_prf(average, modifier, msg_start, len(result))\n",
            "/usr/local/lib/python3.7/dist-packages/sklearn/metrics/_classification.py:1318: UndefinedMetricWarning: Precision is ill-defined and being set to 0.0 in labels with no predicted samples. Use `zero_division` parameter to control this behavior.\n",
            "  _warn_prf(average, modifier, msg_start, len(result))\n",
            "/usr/local/lib/python3.7/dist-packages/sklearn/metrics/_classification.py:1318: UndefinedMetricWarning: Recall is ill-defined and being set to 0.0 in labels with no true samples. Use `zero_division` parameter to control this behavior.\n",
            "  _warn_prf(average, modifier, msg_start, len(result))\n",
            "/usr/local/lib/python3.7/dist-packages/sklearn/metrics/_classification.py:1318: UndefinedMetricWarning: Precision is ill-defined and being set to 0.0 in labels with no predicted samples. Use `zero_division` parameter to control this behavior.\n",
            "  _warn_prf(average, modifier, msg_start, len(result))\n"
          ]
        },
        {
          "output_type": "execute_result",
          "data": {
            "text/html": [
              "\n",
              "  <div id=\"df-c852f70b-c601-47c8-8394-29bafeac16fb\">\n",
              "    <div class=\"colab-df-container\">\n",
              "      <div>\n",
              "<style scoped>\n",
              "    .dataframe tbody tr th:only-of-type {\n",
              "        vertical-align: middle;\n",
              "    }\n",
              "\n",
              "    .dataframe tbody tr th {\n",
              "        vertical-align: top;\n",
              "    }\n",
              "\n",
              "    .dataframe thead th {\n",
              "        text-align: right;\n",
              "    }\n",
              "</style>\n",
              "<table border=\"1\" class=\"dataframe\">\n",
              "  <thead>\n",
              "    <tr style=\"text-align: right;\">\n",
              "      <th></th>\n",
              "      <th>City</th>\n",
              "      <th>Precision</th>\n",
              "      <th>Recall</th>\n",
              "      <th>F1-Score</th>\n",
              "      <th>Accuracy</th>\n",
              "      <th>Accuracy_err</th>\n",
              "      <th>MRR</th>\n",
              "      <th>MRR_err</th>\n",
              "      <th>HR@5</th>\n",
              "      <th>HR@5_err</th>\n",
              "      <th>HR@10</th>\n",
              "      <th>HR@10_err</th>\n",
              "      <th>HR@20</th>\n",
              "      <th>HR@20_err</th>\n",
              "    </tr>\n",
              "  </thead>\n",
              "  <tbody>\n",
              "    <tr>\n",
              "      <th>0</th>\n",
              "      <td>atlanta</td>\n",
              "      <td>0.459526</td>\n",
              "      <td>0.287907</td>\n",
              "      <td>0.313084</td>\n",
              "      <td>0.287907</td>\n",
              "      <td>0.003219</td>\n",
              "      <td>0.383744</td>\n",
              "      <td>0.002956</td>\n",
              "      <td>0.485061</td>\n",
              "      <td>0.003553</td>\n",
              "      <td>0.569260</td>\n",
              "      <td>0.003520</td>\n",
              "      <td>0.653066</td>\n",
              "      <td>0.003384</td>\n",
              "    </tr>\n",
              "    <tr>\n",
              "      <th>1</th>\n",
              "      <td>austin</td>\n",
              "      <td>0.420611</td>\n",
              "      <td>0.263684</td>\n",
              "      <td>0.284296</td>\n",
              "      <td>0.263684</td>\n",
              "      <td>0.002665</td>\n",
              "      <td>0.360618</td>\n",
              "      <td>0.002465</td>\n",
              "      <td>0.462225</td>\n",
              "      <td>0.003015</td>\n",
              "      <td>0.548223</td>\n",
              "      <td>0.003010</td>\n",
              "      <td>0.633653</td>\n",
              "      <td>0.002914</td>\n",
              "    </tr>\n",
              "    <tr>\n",
              "      <th>2</th>\n",
              "      <td>boston</td>\n",
              "      <td>0.506146</td>\n",
              "      <td>0.390377</td>\n",
              "      <td>0.401387</td>\n",
              "      <td>0.390377</td>\n",
              "      <td>0.003733</td>\n",
              "      <td>0.491644</td>\n",
              "      <td>0.003288</td>\n",
              "      <td>0.604277</td>\n",
              "      <td>0.003742</td>\n",
              "      <td>0.683079</td>\n",
              "      <td>0.003561</td>\n",
              "      <td>0.756731</td>\n",
              "      <td>0.003284</td>\n",
              "    </tr>\n",
              "    <tr>\n",
              "      <th>3</th>\n",
              "      <td>columbus</td>\n",
              "      <td>0.448828</td>\n",
              "      <td>0.349264</td>\n",
              "      <td>0.362443</td>\n",
              "      <td>0.349264</td>\n",
              "      <td>0.005983</td>\n",
              "      <td>0.448149</td>\n",
              "      <td>0.005368</td>\n",
              "      <td>0.556144</td>\n",
              "      <td>0.006236</td>\n",
              "      <td>0.634728</td>\n",
              "      <td>0.006043</td>\n",
              "      <td>0.712614</td>\n",
              "      <td>0.005680</td>\n",
              "    </tr>\n",
              "    <tr>\n",
              "      <th>4</th>\n",
              "      <td>orlando</td>\n",
              "      <td>0.467744</td>\n",
              "      <td>0.332859</td>\n",
              "      <td>0.355817</td>\n",
              "      <td>0.332859</td>\n",
              "      <td>0.003906</td>\n",
              "      <td>0.428395</td>\n",
              "      <td>0.003534</td>\n",
              "      <td>0.532859</td>\n",
              "      <td>0.004135</td>\n",
              "      <td>0.615586</td>\n",
              "      <td>0.004032</td>\n",
              "      <td>0.694530</td>\n",
              "      <td>0.003817</td>\n",
              "    </tr>\n",
              "    <tr>\n",
              "      <th>5</th>\n",
              "      <td>portland</td>\n",
              "      <td>0.433502</td>\n",
              "      <td>0.297040</td>\n",
              "      <td>0.314276</td>\n",
              "      <td>0.297040</td>\n",
              "      <td>0.002863</td>\n",
              "      <td>0.390443</td>\n",
              "      <td>0.002631</td>\n",
              "      <td>0.489666</td>\n",
              "      <td>0.003132</td>\n",
              "      <td>0.569800</td>\n",
              "      <td>0.003102</td>\n",
              "      <td>0.649078</td>\n",
              "      <td>0.002990</td>\n",
              "    </tr>\n",
              "    <tr>\n",
              "      <th>6</th>\n",
              "      <td>toronto</td>\n",
              "      <td>0.495117</td>\n",
              "      <td>0.430150</td>\n",
              "      <td>0.434204</td>\n",
              "      <td>0.430150</td>\n",
              "      <td>0.005372</td>\n",
              "      <td>0.536142</td>\n",
              "      <td>0.004618</td>\n",
              "      <td>0.657994</td>\n",
              "      <td>0.005147</td>\n",
              "      <td>0.736611</td>\n",
              "      <td>0.004779</td>\n",
              "      <td>0.806178</td>\n",
              "      <td>0.004289</td>\n",
              "    </tr>\n",
              "  </tbody>\n",
              "</table>\n",
              "</div>\n",
              "      <button class=\"colab-df-convert\" onclick=\"convertToInteractive('df-c852f70b-c601-47c8-8394-29bafeac16fb')\"\n",
              "              title=\"Convert this dataframe to an interactive table.\"\n",
              "              style=\"display:none;\">\n",
              "        \n",
              "  <svg xmlns=\"http://www.w3.org/2000/svg\" height=\"24px\"viewBox=\"0 0 24 24\"\n",
              "       width=\"24px\">\n",
              "    <path d=\"M0 0h24v24H0V0z\" fill=\"none\"/>\n",
              "    <path d=\"M18.56 5.44l.94 2.06.94-2.06 2.06-.94-2.06-.94-.94-2.06-.94 2.06-2.06.94zm-11 1L8.5 8.5l.94-2.06 2.06-.94-2.06-.94L8.5 2.5l-.94 2.06-2.06.94zm10 10l.94 2.06.94-2.06 2.06-.94-2.06-.94-.94-2.06-.94 2.06-2.06.94z\"/><path d=\"M17.41 7.96l-1.37-1.37c-.4-.4-.92-.59-1.43-.59-.52 0-1.04.2-1.43.59L10.3 9.45l-7.72 7.72c-.78.78-.78 2.05 0 2.83L4 21.41c.39.39.9.59 1.41.59.51 0 1.02-.2 1.41-.59l7.78-7.78 2.81-2.81c.8-.78.8-2.07 0-2.86zM5.41 20L4 18.59l7.72-7.72 1.47 1.35L5.41 20z\"/>\n",
              "  </svg>\n",
              "      </button>\n",
              "      \n",
              "  <style>\n",
              "    .colab-df-container {\n",
              "      display:flex;\n",
              "      flex-wrap:wrap;\n",
              "      gap: 12px;\n",
              "    }\n",
              "\n",
              "    .colab-df-convert {\n",
              "      background-color: #E8F0FE;\n",
              "      border: none;\n",
              "      border-radius: 50%;\n",
              "      cursor: pointer;\n",
              "      display: none;\n",
              "      fill: #1967D2;\n",
              "      height: 32px;\n",
              "      padding: 0 0 0 0;\n",
              "      width: 32px;\n",
              "    }\n",
              "\n",
              "    .colab-df-convert:hover {\n",
              "      background-color: #E2EBFA;\n",
              "      box-shadow: 0px 1px 2px rgba(60, 64, 67, 0.3), 0px 1px 3px 1px rgba(60, 64, 67, 0.15);\n",
              "      fill: #174EA6;\n",
              "    }\n",
              "\n",
              "    [theme=dark] .colab-df-convert {\n",
              "      background-color: #3B4455;\n",
              "      fill: #D2E3FC;\n",
              "    }\n",
              "\n",
              "    [theme=dark] .colab-df-convert:hover {\n",
              "      background-color: #434B5C;\n",
              "      box-shadow: 0px 1px 3px 1px rgba(0, 0, 0, 0.15);\n",
              "      filter: drop-shadow(0px 1px 2px rgba(0, 0, 0, 0.3));\n",
              "      fill: #FFFFFF;\n",
              "    }\n",
              "  </style>\n",
              "\n",
              "      <script>\n",
              "        const buttonEl =\n",
              "          document.querySelector('#df-c852f70b-c601-47c8-8394-29bafeac16fb button.colab-df-convert');\n",
              "        buttonEl.style.display =\n",
              "          google.colab.kernel.accessAllowed ? 'block' : 'none';\n",
              "\n",
              "        async function convertToInteractive(key) {\n",
              "          const element = document.querySelector('#df-c852f70b-c601-47c8-8394-29bafeac16fb');\n",
              "          const dataTable =\n",
              "            await google.colab.kernel.invokeFunction('convertToInteractive',\n",
              "                                                     [key], {});\n",
              "          if (!dataTable) return;\n",
              "\n",
              "          const docLinkHtml = 'Like what you see? Visit the ' +\n",
              "            '<a target=\"_blank\" href=https://colab.research.google.com/notebooks/data_table.ipynb>data table notebook</a>'\n",
              "            + ' to learn more about interactive tables.';\n",
              "          element.innerHTML = '';\n",
              "          dataTable['output_type'] = 'display_data';\n",
              "          await google.colab.output.renderOutput(dataTable, element);\n",
              "          const docLink = document.createElement('div');\n",
              "          docLink.innerHTML = docLinkHtml;\n",
              "          element.appendChild(docLink);\n",
              "        }\n",
              "      </script>\n",
              "    </div>\n",
              "  </div>\n",
              "  "
            ],
            "text/plain": [
              "       City  Precision    Recall  ...  HR@10_err     HR@20  HR@20_err\n",
              "0   atlanta   0.459526  0.287907  ...   0.003520  0.653066   0.003384\n",
              "1    austin   0.420611  0.263684  ...   0.003010  0.633653   0.002914\n",
              "2    boston   0.506146  0.390377  ...   0.003561  0.756731   0.003284\n",
              "3  columbus   0.448828  0.349264  ...   0.006043  0.712614   0.005680\n",
              "4   orlando   0.467744  0.332859  ...   0.004032  0.694530   0.003817\n",
              "5  portland   0.433502  0.297040  ...   0.003102  0.649078   0.002990\n",
              "6   toronto   0.495117  0.430150  ...   0.004779  0.806178   0.004289\n",
              "\n",
              "[7 rows x 14 columns]"
            ]
          },
          "metadata": {},
          "execution_count": 15
        }
      ]
    },
    {
      "cell_type": "code",
      "execution_count": null,
      "id": "d5295d39",
      "metadata": {
        "colab": {
          "base_uri": "https://localhost:8080/",
          "height": 304
        },
        "id": "d5295d39",
        "outputId": "0fa81e04-c0b9-4d7c-f10f-bb8226450a41"
      },
      "outputs": [
        {
          "output_type": "stream",
          "name": "stderr",
          "text": [
            "The PostScript backend does not support transparency; partially transparent artists will be rendered opaque.\n",
            "The PostScript backend does not support transparency; partially transparent artists will be rendered opaque.\n"
          ]
        },
        {
          "output_type": "display_data",
          "data": {
            "image/png": "[encoded data removed]",
            "text/plain": [
              "<Figure size 432x288 with 1 Axes>"
            ]
          },
          "metadata": {
            "needs_background": "light"
          }
        }
      ],
      "source": [
        "plt.figure(figsize=(6,4))\n",
        "x = np.array(range(len(data['City'])))\n",
        "y = np.array(data['MRR'])\n",
        "yerr = np.array(data['MRR_err'])\n",
        "plt.errorbar(x, y, yerr=yerr, label='Original')\n",
        "\n",
        "y = np.array(data_neut['MRR'])\n",
        "yerr = np.array(data_neut['MRR_err'])\n",
        "plt.errorbar(x, y, yerr=yerr, label='Neut')\n",
        "plt.ylabel(\"Mean Reciprocal Rank\")\n",
        "plt.legend(loc='lower right')\n",
        "plt.tick_params(labelsize=14)\n",
        "plt.gca().legend().set_title('')\n",
        "params = {'legend.fontsize': 'large',\n",
        "          'axes.labelsize': 14,\n",
        "          'axes.titlesize': 14,\n",
        "          'xtick.labelsize': 14,\n",
        "          'ytick.labelsize': 14,\n",
        "          'axes.grid': False,\n",
        "          'axes.titlepad': 25}\n",
        "plt.rcParams.update(params)\n",
        "plt.xticks(x, np.array([x[:4].upper() for x in data['City']]))\n",
        "plt.savefig('mrr.eps', bbox_inches = 'tight')\n",
        "plt.show()\n"
      ]
    },
    {
      "cell_type": "code",
      "source": [
        "plt.figure(figsize=(6,4))\n",
        "x = np.array(range(len(data['City'])))\n",
        "y = np.array(data['Accuracy'])\n",
        "yerr = np.array(data['Accuracy_err'])\n",
        "plt.errorbar(x, y, yerr=yerr, label='Original')\n",
        "\n",
        "y = np.array(data_neut['Accuracy'])\n",
        "yerr = np.array(data_neut['Accuracy_err'])\n",
        "plt.errorbar(x, y, yerr=yerr, label='Neut')\n",
        "plt.ylabel(\"Accuracy\")\n",
        "plt.legend(loc='lower right')\n",
        "plt.tick_params(labelsize=14)\n",
        "plt.gca().legend().set_title('')\n",
        "params = {'legend.fontsize': 'large',\n",
        "          'axes.labelsize': 14,\n",
        "          'axes.titlesize': 14,\n",
        "          'xtick.labelsize': 14,\n",
        "          'ytick.labelsize': 14,\n",
        "          'axes.grid': False,\n",
        "          'axes.titlepad': 25}\n",
        "plt.rcParams.update(params)\n",
        "plt.xticks(x, np.array([x[:4].upper() for x in data['City']]))\n",
        "plt.savefig('accuracy.eps', bbox_inches = 'tight')\n",
        "plt.show()\n"
      ],
      "metadata": {
        "colab": {
          "base_uri": "https://localhost:8080/",
          "height": 310
        },
        "id": "jBtWaePQwTvZ",
        "outputId": "49c3dea7-2984-46de-9538-fd605ec422bc"
      },
      "id": "jBtWaePQwTvZ",
      "execution_count": null,
      "outputs": [
        {
          "output_type": "stream",
          "name": "stderr",
          "text": [
            "The PostScript backend does not support transparency; partially transparent artists will be rendered opaque.\n",
            "The PostScript backend does not support transparency; partially transparent artists will be rendered opaque.\n"
          ]
        },
        {
          "output_type": "display_data",
          "data": {
            "image/png": "[encoded data removed]",
            "text/plain": [
              "<Figure size 432x288 with 1 Axes>"
            ]
          },
          "metadata": {
            "needs_background": "light"
          }
        }
      ]
    },
    {
      "cell_type": "code",
      "source": [
        "plt.figure(figsize=(6,4))\n",
        "x = np.array(range(len(data['City'])))\n",
        "y = np.array(data['HR@5'])\n",
        "yerr = np.array(data['HR@5_err'])\n",
        "plt.errorbar(x, y, yerr=yerr, label='Original')\n",
        "\n",
        "y = np.array(data_neut['HR@5'])\n",
        "yerr = np.array(data_neut['HR@5_err'])\n",
        "plt.errorbar(x, y, yerr=yerr, label='Neut')\n",
        "plt.ylabel(\"HR@5\")\n",
        "plt.legend(loc='lower right')\n",
        "plt.tick_params(labelsize=14)\n",
        "plt.gca().legend().set_title('')\n",
        "params = {'legend.fontsize': 'large',\n",
        "          'axes.labelsize': 14,\n",
        "          'axes.titlesize': 14,\n",
        "          'xtick.labelsize': 14,\n",
        "          'ytick.labelsize': 14,\n",
        "          'axes.grid': False,\n",
        "          'axes.titlepad': 25}\n",
        "plt.rcParams.update(params)\n",
        "plt.xticks(x, np.array([x[:4].upper() for x in data['City']]))\n",
        "plt.savefig('HR5.eps', bbox_inches = 'tight')\n",
        "plt.show()\n"
      ],
      "metadata": {
        "colab": {
          "base_uri": "https://localhost:8080/",
          "height": 304
        },
        "id": "dMOSnhMSv66d",
        "outputId": "71abc108-01d2-4e82-958f-ef4fb0971659"
      },
      "id": "dMOSnhMSv66d",
      "execution_count": null,
      "outputs": [
        {
          "output_type": "stream",
          "name": "stderr",
          "text": [
            "The PostScript backend does not support transparency; partially transparent artists will be rendered opaque.\n",
            "The PostScript backend does not support transparency; partially transparent artists will be rendered opaque.\n"
          ]
        },
        {
          "output_type": "display_data",
          "data": {
            "image/png": "[encoded data removed]",
            "text/plain": [
              "<Figure size 432x288 with 1 Axes>"
            ]
          },
          "metadata": {
            "needs_background": "light"
          }
        }
      ]
    },
    {
      "cell_type": "code",
      "source": [
        "plt.figure(figsize=(6,4))\n",
        "x = np.array(range(len(data['City'])))\n",
        "y = np.array(data['HR@10'])\n",
        "yerr = np.array(data['HR@10_err'])\n",
        "plt.errorbar(x, y, yerr=yerr, label='Original')\n",
        "\n",
        "y = np.array(data_neut['HR@10'])\n",
        "yerr = np.array(data_neut['HR@10_err'])\n",
        "plt.errorbar(x, y, yerr=yerr, label='Neut')\n",
        "plt.ylabel(\"HR@10\")\n",
        "plt.legend(loc='lower right')\n",
        "plt.tick_params(labelsize=14)\n",
        "plt.gca().legend().set_title('')\n",
        "params = {'legend.fontsize': 'large',\n",
        "          'axes.labelsize': 14,\n",
        "          'axes.titlesize': 14,\n",
        "          'xtick.labelsize': 14,\n",
        "          'ytick.labelsize': 14,\n",
        "          'axes.grid': False,\n",
        "          'axes.titlepad': 25}\n",
        "plt.rcParams.update(params)\n",
        "plt.xticks(x, np.array([x[:4].upper() for x in data['City']]))\n",
        "plt.savefig('HR10.eps', bbox_inches = 'tight')\n",
        "plt.show()\n"
      ],
      "metadata": {
        "colab": {
          "base_uri": "https://localhost:8080/",
          "height": 306
        },
        "id": "5TWRRAl_wst0",
        "outputId": "2564f43c-c1bc-4c1d-df8e-c137fca5ecab"
      },
      "id": "5TWRRAl_wst0",
      "execution_count": null,
      "outputs": [
        {
          "output_type": "stream",
          "name": "stderr",
          "text": [
            "The PostScript backend does not support transparency; partially transparent artists will be rendered opaque.\n",
            "The PostScript backend does not support transparency; partially transparent artists will be rendered opaque.\n"
          ]
        },
        {
          "output_type": "display_data",
          "data": {
            "image/png": "[encoded data removed]",
            "text/plain": [
              "<Figure size 432x288 with 1 Axes>"
            ]
          },
          "metadata": {
            "needs_background": "light"
          }
        }
      ]
    },
    {
      "cell_type": "code",
      "source": [
        "plt.figure(figsize=(6,4))\n",
        "x = np.array(range(len(data['City'])))\n",
        "y = np.array(data['HR@20'])\n",
        "yerr = np.array(data['HR@20_err'])\n",
        "plt.errorbar(x, y, yerr=yerr, label='Original')\n",
        "\n",
        "y = np.array(data_neut['HR@20'])\n",
        "yerr = np.array(data_neut['HR@20_err'])\n",
        "plt.errorbar(x, y, yerr=yerr, label='Neut')\n",
        "plt.ylabel(\"HR@20\")\n",
        "plt.legend(loc='lower right')\n",
        "plt.tick_params(labelsize=14)\n",
        "plt.gca().legend().set_title('')\n",
        "params = {'legend.fontsize': 'large',\n",
        "          'axes.labelsize': 14,\n",
        "          'axes.titlesize': 14,\n",
        "          'xtick.labelsize': 14,\n",
        "          'ytick.labelsize': 14,\n",
        "          'axes.grid': False,\n",
        "          'axes.titlepad': 25}\n",
        "plt.rcParams.update(params)\n",
        "plt.xticks(x, np.array([x[:4].upper() for x in data['City']]))\n",
        "plt.savefig('HR20.eps', bbox_inches = 'tight')\n",
        "plt.show()\n"
      ],
      "metadata": {
        "colab": {
          "base_uri": "https://localhost:8080/",
          "height": 304
        },
        "id": "4bDCJlikwxJc",
        "outputId": "4ef6bf8d-4404-494d-91db-fe59fb5ce4ea"
      },
      "id": "4bDCJlikwxJc",
      "execution_count": null,
      "outputs": [
        {
          "output_type": "stream",
          "name": "stderr",
          "text": [
            "The PostScript backend does not support transparency; partially transparent artists will be rendered opaque.\n",
            "The PostScript backend does not support transparency; partially transparent artists will be rendered opaque.\n"
          ]
        },
        {
          "output_type": "display_data",
          "data": {
            "image/png": "[encoded data removed]",
            "text/plain": [
              "<Figure size 432x288 with 1 Axes>"
            ]
          },
          "metadata": {
            "needs_background": "light"
          }
        }
      ]
    },
    {
      "cell_type": "code",
      "source": [
        "fig = plt.figure(figsize=(6,3))\n",
        "ax = fig.add_subplot(111)\n",
        "\n",
        "## necessary variables\n",
        "width = 0.25                      # the width of the bars\n",
        "\n",
        "## the bars\n",
        "x = np.array(range(len(data['City'])))\n",
        "y = np.array(data['MRR'])\n",
        "yerr = np.array(data['MRR_err'])\n",
        "rects1 = ax.bar(x, y, width,\n",
        "                yerr=yerr,\n",
        "                error_kw=dict(elinewidth=2,ecolor='black'))\n",
        "\n",
        "y = np.array(data_neut['MRR'])\n",
        "yerr = np.array(data_neut['MRR_err'])\n",
        "rects2 = ax.bar(x+width, y, width,\n",
        "                    yerr=yerr,\n",
        "                    error_kw=dict(elinewidth=2,ecolor='black'))\n",
        "\n",
        "y = np.array(data_neut_testset['MRR'])\n",
        "yerr = np.array(data_neut_testset['MRR_err'])\n",
        "rects3 = ax.bar(x+width+width, y, width,\n",
        "                    yerr=yerr,\n",
        "                    error_kw=dict(elinewidth=2,ecolor='black'))\n",
        "\n",
        "# axes and labels\n",
        "ax.set_ylim(0,0.7)\n",
        "ax.set_ylabel('MRR')\n",
        "plt.xticks(x+0.15, np.array([x.capitalize() for x in data['City']]), rotation=45)\n",
        "\n",
        "## add a legend\n",
        "ax.legend( (rects1[0], rects2[0], rects3[0]), ('Original', 'Neut', 'Neut Test') )\n",
        "params = {'legend.fontsize': 'large',\n",
        "          'axes.labelsize': 14,\n",
        "          'axes.titlesize': 14,\n",
        "          'xtick.labelsize': 14,\n",
        "          'ytick.labelsize': 14,\n",
        "          'axes.grid': False,\n",
        "          'axes.titlepad': 25}\n",
        "plt.rcParams.update(params)\n",
        "plt.savefig('mrr_histo_3bars.eps', bbox_inches = 'tight')\n",
        "\n",
        "plt.show()"
      ],
      "metadata": {
        "id": "ueo7lgl6H32o",
        "outputId": "e3e2f8ee-a6c0-4099-ca49-dbf3f4754355",
        "colab": {
          "base_uri": "https://localhost:8080/",
          "height": 295
        }
      },
      "id": "ueo7lgl6H32o",
      "execution_count": 24,
      "outputs": [
        {
          "output_type": "stream",
          "name": "stderr",
          "text": [
            "The PostScript backend does not support transparency; partially transparent artists will be rendered opaque.\n",
            "The PostScript backend does not support transparency; partially transparent artists will be rendered opaque.\n"
          ]
        },
        {
          "output_type": "display_data",
          "data": {
            "image/png": "[encoded data removed]",
            "text/plain": [
              "<Figure size 432x216 with 1 Axes>"
            ]
          },
          "metadata": {
            "needs_background": "light"
          }
        }
      ]
    },
    {
      "cell_type": "code",
      "source": [
        "fig = plt.figure(figsize=(6,3))\n",
        "ax = fig.add_subplot(111)\n",
        "\n",
        "## necessary variables\n",
        "width = 0.25                      # the width of the bars\n",
        "\n",
        "## the bars\n",
        "x = np.array(range(len(data['City'])))\n",
        "y = np.array(data['Accuracy'])\n",
        "yerr = np.array(data['Accuracy_err'])\n",
        "rects1 = ax.bar(x, y, width,\n",
        "                yerr=yerr,\n",
        "                error_kw=dict(elinewidth=2,ecolor='black'))\n",
        "\n",
        "y = np.array(data_neut['Accuracy'])\n",
        "yerr = np.array(data_neut['Accuracy_err'])\n",
        "rects2 = ax.bar(x+width, y, width,\n",
        "                    yerr=yerr,\n",
        "                    error_kw=dict(elinewidth=2,ecolor='black'))\n",
        "\n",
        "y = np.array(data_neut_testset['Accuracy'])\n",
        "yerr = np.array(data_neut_testset['Accuracy_err'])\n",
        "rects3 = ax.bar(x+width+width, y, width,\n",
        "                    yerr=yerr,\n",
        "                    error_kw=dict(elinewidth=2,ecolor='black'))\n",
        "# axes and labels\n",
        "ax.set_ylim(0,0.6)\n",
        "ax.set_ylabel('Accuracy')\n",
        "plt.xticks(x+0.15, np.array([x.capitalize() for x in data['City']]), rotation=45)\n",
        "\n",
        "## add a legend\n",
        "ax.legend( (rects1[0], rects2[0], rects3[0]), ('Original', 'Neut', 'Neut Test') )\n",
        "plt.savefig('accuracy_histo_3bars.eps', bbox_inches = 'tight')\n",
        "\n",
        "plt.show()"
      ],
      "metadata": {
        "id": "jQkR-fLWH4AA",
        "outputId": "9dbe4c2e-1201-4966-a54c-37471d45c6e3",
        "colab": {
          "base_uri": "https://localhost:8080/",
          "height": 301
        }
      },
      "id": "jQkR-fLWH4AA",
      "execution_count": 25,
      "outputs": [
        {
          "output_type": "stream",
          "name": "stderr",
          "text": [
            "The PostScript backend does not support transparency; partially transparent artists will be rendered opaque.\n",
            "The PostScript backend does not support transparency; partially transparent artists will be rendered opaque.\n"
          ]
        },
        {
          "output_type": "display_data",
          "data": {
            "image/png": "[encoded data removed]",
            "text/plain": [
              "<Figure size 432x216 with 1 Axes>"
            ]
          },
          "metadata": {
            "needs_background": "light"
          }
        }
      ]
    },
    {
      "cell_type": "code",
      "source": [
        "fig = plt.figure(figsize=(6,3))\n",
        "ax = fig.add_subplot(111)\n",
        "\n",
        "## necessary variables\n",
        "width = 0.25                      # the width of the bars\n",
        "\n",
        "## the bars\n",
        "x = np.array(range(len(data['City'])))\n",
        "y = np.array(data['HR@5'])\n",
        "yerr = np.array(data['HR@5_err'])\n",
        "rects1 = ax.bar(x, y, width,\n",
        "                yerr=yerr,\n",
        "                error_kw=dict(elinewidth=2,ecolor='black'))\n",
        "\n",
        "y = np.array(data_neut['HR@5'])\n",
        "yerr = np.array(data_neut['HR@5_err'])\n",
        "rects2 = ax.bar(x+width, y, width,\n",
        "                    yerr=yerr,\n",
        "                    error_kw=dict(elinewidth=2,ecolor='black'))\n",
        "\n",
        "y = np.array(data_neut_testset['HR@5'])\n",
        "yerr = np.array(data_neut_testset['HR@5_err'])\n",
        "rects3 = ax.bar(x+width+width, y, width,\n",
        "                    yerr=yerr,\n",
        "                    error_kw=dict(elinewidth=2,ecolor='black'))\n",
        "\n",
        "# axes and labels\n",
        "ax.set_ylim(0,0.9)\n",
        "ax.set_ylabel('HR@5')\n",
        "plt.xticks(x+0.15, np.array([x.capitalize() for x in data['City']]), rotation=45)\n",
        "\n",
        "\n",
        "## add a legend\n",
        "ax.legend( (rects1[0], rects2[0], rects3[0]), ('Original', 'Neut', 'Neut Test') )\n",
        "plt.savefig('HR5_histo_3bars.eps', bbox_inches = 'tight')\n",
        "\n",
        "plt.show()"
      ],
      "metadata": {
        "id": "XKtwdILMH4GO",
        "outputId": "6228dc5b-4605-4aab-e85a-9c039ba3de39",
        "colab": {
          "base_uri": "https://localhost:8080/",
          "height": 295
        }
      },
      "id": "XKtwdILMH4GO",
      "execution_count": 26,
      "outputs": [
        {
          "output_type": "stream",
          "name": "stderr",
          "text": [
            "The PostScript backend does not support transparency; partially transparent artists will be rendered opaque.\n",
            "The PostScript backend does not support transparency; partially transparent artists will be rendered opaque.\n"
          ]
        },
        {
          "output_type": "display_data",
          "data": {
            "image/png": "[encoded data removed]",
            "text/plain": [
              "<Figure size 432x216 with 1 Axes>"
            ]
          },
          "metadata": {
            "needs_background": "light"
          }
        }
      ]
    },
    {
      "cell_type": "code",
      "source": [
        "fig = plt.figure(figsize=(6,3))\n",
        "ax = fig.add_subplot(111)\n",
        "\n",
        "## necessary variables\n",
        "width = 0.25                      # the width of the bars\n",
        "\n",
        "## the bars\n",
        "x = np.array(range(len(data['City'])))\n",
        "y = np.array(data['HR@10'])\n",
        "yerr = np.array(data['HR@10_err'])\n",
        "rects1 = ax.bar(x, y, width,\n",
        "                yerr=yerr,\n",
        "                error_kw=dict(elinewidth=2,ecolor='black'))\n",
        "\n",
        "y = np.array(data_neut['HR@10'])\n",
        "yerr = np.array(data_neut['HR@10_err'])\n",
        "rects2 = ax.bar(x+width, y, width,\n",
        "                    yerr=yerr,\n",
        "                    error_kw=dict(elinewidth=2,ecolor='black'))\n",
        "\n",
        "y = np.array(data_neut_testset['HR@10'])\n",
        "yerr = np.array(data_neut_testset['HR@10_err'])\n",
        "rects3 = ax.bar(x+width+width, y, width,\n",
        "                    yerr=yerr,\n",
        "                    error_kw=dict(elinewidth=2,ecolor='black'))\n",
        "\n",
        "# axes and labels\n",
        "ax.set_ylim(0,0.9)\n",
        "ax.set_ylabel('HR@10')\n",
        "plt.xticks(x+0.15, np.array([x.capitalize() for x in data['City']]), rotation=45)\n",
        "\n",
        "## add a legend\n",
        "ax.legend( (rects1[0], rects2[0], rects3[0]), ('Original', 'Neut', 'Neut Test') )\n",
        "plt.savefig('HR10_histo_3bars.eps', bbox_inches = 'tight')\n",
        "\n",
        "plt.show()"
      ],
      "metadata": {
        "id": "LtCPK4WRH4Ls",
        "outputId": "fc5acf09-f724-4d18-a337-4f7b053d102e",
        "colab": {
          "base_uri": "https://localhost:8080/",
          "height": 295
        }
      },
      "id": "LtCPK4WRH4Ls",
      "execution_count": 27,
      "outputs": [
        {
          "output_type": "stream",
          "name": "stderr",
          "text": [
            "The PostScript backend does not support transparency; partially transparent artists will be rendered opaque.\n",
            "The PostScript backend does not support transparency; partially transparent artists will be rendered opaque.\n"
          ]
        },
        {
          "output_type": "display_data",
          "data": {
            "image/png": "[encoded data removed]",
            "text/plain": [
              "<Figure size 432x216 with 1 Axes>"
            ]
          },
          "metadata": {
            "needs_background": "light"
          }
        }
      ]
    },
    {
      "cell_type": "code",
      "source": [
        "fig = plt.figure(figsize=(6,3))\n",
        "ax = fig.add_subplot(111)\n",
        "\n",
        "## necessary variables\n",
        "width = 0.25                      # the width of the bars\n",
        "\n",
        "## the bars\n",
        "x = np.array(range(len(data['City'])))\n",
        "y = np.array(data['HR@20'])\n",
        "yerr = np.array(data['HR@20_err'])\n",
        "rects1 = ax.bar(x, y, width,\n",
        "                yerr=yerr,\n",
        "                error_kw=dict(elinewidth=2,ecolor='black'))\n",
        "\n",
        "y = np.array(data_neut['HR@20'])\n",
        "yerr = np.array(data_neut['HR@20_err'])\n",
        "rects2 = ax.bar(x+width, y, width,\n",
        "                    yerr=yerr,\n",
        "                    error_kw=dict(elinewidth=2,ecolor='black'))\n",
        "\n",
        "y = np.array(data_neut_testset['HR@20'])\n",
        "yerr = np.array(data_neut_testset['HR@20_err'])\n",
        "rects3 = ax.bar(x+width+width, y, width,\n",
        "                    yerr=yerr,\n",
        "                    error_kw=dict(elinewidth=2,ecolor='black'))\n",
        "# axes and labels\n",
        "ax.set_ylim(0,0.9)\n",
        "ax.set_ylabel('HR@20')\n",
        "plt.xticks(x+0.15, np.array([x.capitalize() for x in data['City']]), rotation=45)\n",
        "\n",
        "## add a legend\n",
        "ax.legend( (rects1[0], rects2[0], rects3[0]), ('Original', 'Neut', 'Neut Test') )\n",
        "plt.savefig('HR20_histo_3bars.eps', bbox_inches = 'tight')\n",
        "\n",
        "plt.show()"
      ],
      "metadata": {
        "id": "RVRuQCS0AZDC",
        "outputId": "c6962ca9-33a1-4f62-d0ca-84355f634220",
        "colab": {
          "base_uri": "https://localhost:8080/",
          "height": 295
        }
      },
      "id": "RVRuQCS0AZDC",
      "execution_count": 28,
      "outputs": [
        {
          "output_type": "stream",
          "name": "stderr",
          "text": [
            "The PostScript backend does not support transparency; partially transparent artists will be rendered opaque.\n",
            "The PostScript backend does not support transparency; partially transparent artists will be rendered opaque.\n"
          ]
        },
        {
          "output_type": "display_data",
          "data": {
            "image/png": "[encoded data removed]",
            "text/plain": [
              "<Figure size 432x216 with 1 Axes>"
            ]
          },
          "metadata": {
            "needs_background": "light"
          }
        }
      ]
    },
    {
      "cell_type": "code",
      "source": [
        "print('reda')"
      ],
      "metadata": {
        "id": "yxozZZ8dBHp6",
        "outputId": "a7ac71c1-e5ca-4b9e-9ae6-6e2d43167a5b",
        "colab": {
          "base_uri": "https://localhost:8080/"
        }
      },
      "id": "yxozZZ8dBHp6",
      "execution_count": 29,
      "outputs": [
        {
          "output_type": "stream",
          "name": "stdout",
          "text": [
            "reda\n"
          ]
        }
      ]
    },
    {
      "cell_type": "code",
      "source": [
        ""
      ],
      "metadata": {
        "id": "bVkkQCCE4kAZ"
      },
      "id": "bVkkQCCE4kAZ",
      "execution_count": 29,
      "outputs": []
    }
  ],
  "metadata": {
    "kernelspec": {
      "display_name": "Python 3",
      "language": "python",
      "name": "python3"
    },
    "language_info": {
      "codemirror_mode": {
        "name": "ipython",
        "version": 3
      },
      "file_extension": ".py",
      "mimetype": "text/x-python",
      "name": "python",
      "nbconvert_exporter": "python",
      "pygments_lexer": "ipython3",
      "version": "3.8.10"
    },
    "colab": {
      "name": "Analysis.ipynb",
      "provenance": [],
      "machine_shape": "hm"
    },
    "accelerator": "GPU"
  },
  "nbformat": 4,
  "nbformat_minor": 5
}