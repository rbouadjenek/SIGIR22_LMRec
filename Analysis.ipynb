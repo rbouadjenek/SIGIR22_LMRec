{
 "cells": [
  {
   "cell_type": "code",
   "execution_count": 9,
   "id": "dab65d7a",
   "metadata": {},
   "outputs": [],
   "source": [
    "import tensorflow as tf\n",
    "from tensorflow import keras\n",
    "from utoronto.edu.ca.data import Dataset\n",
    "import utoronto.edu.ca.models as models\n",
    "import utoronto.edu.ca.utils as utils\n",
    "import utoronto.edu.ca.metrics as metrics\n",
    "import matplotlib.pyplot as plt\n",
    "import pandas as pd\n",
    "import pytrec_eval\n",
    "import numpy as np\n",
    "import seaborn as sns\n",
    "import  metrics_eval\n",
    "from tqdm import tqdm\n",
    "\n",
    "%matplotlib inline\n",
    "%load_ext autoreload\n",
    "%autoreload 2\n",
    "%load_ext tensorboard\n"
   ]
  },
  {
   "cell_type": "code",
   "execution_count": 2,
   "id": "fc784a87",
   "metadata": {},
   "outputs": [],
   "source": [
    "yelp_cities = [#'atlanta',\n",
    "#                'austin',\n",
    "#                'boston',\n",
    "               'columbus',\n",
    "               'orlando',\n",
    "#                'portland',\n",
    "               'toronto'\n",
    "]"
   ]
  },
  {
   "cell_type": "code",
   "execution_count": 3,
   "id": "f71ef256",
   "metadata": {
    "scrolled": true
   },
   "outputs": [
    {
     "name": "stdout",
     "output_type": "stream",
     "text": [
      "Data in:  /home/reda/.keras/datasets/Columbus_reviews.csv\n"
     ]
    },
    {
     "name": "stderr",
     "output_type": "stream",
     "text": [
      "100%|█████████████████████████████████████████████████████████████████████████████████████████████████████████████████████████████████████████████████████████| 198099/198099 [00:00<00:00, 1522022.73it/s]\n",
      "100%|████████████████████████████████████████████████████████████████████████████████████████████████████████████████████████████████████████████████████████████| 198099/198099 [01:14<00:00, 2667.03it/s]\n",
      "2021-10-17 15:14:15.573596: I tensorflow/core/platform/cpu_feature_guard.cc:142] This TensorFlow binary is optimized with oneAPI Deep Neural Network Library (oneDNN) to use the following CPU instructions in performance-critical operations:  AVX2 AVX512F FMA\n",
      "To enable them in other operations, rebuild TensorFlow with the appropriate compiler flags.\n",
      "2021-10-17 15:14:15.997336: W tensorflow/core/common_runtime/gpu/gpu_bfc_allocator.cc:39] Overriding allow_growth setting because the TF_FORCE_GPU_ALLOW_GROWTH environment variable is set. Original config value was 0.\n",
      "2021-10-17 15:14:15.997370: I tensorflow/core/common_runtime/gpu/gpu_device.cc:1510] Created device /job:localhost/replica:0/task:0/device:GPU:0 with 8806 MB memory:  -> device: 0, name: GeForce RTX 2080 Ti, pci bus id: 0000:65:00.0, compute capability: 7.5\n",
      "Some layers from the model checkpoint at bert-base-uncased were not used when initializing TFBertModel: ['nsp___cls', 'mlm___cls']\n",
      "- This IS expected if you are initializing TFBertModel from the checkpoint of a model trained on another task or with another architecture (e.g. initializing a BertForSequenceClassification model from a BertForPreTraining model).\n",
      "- This IS NOT expected if you are initializing TFBertModel from the checkpoint of a model that you expect to be exactly identical (initializing a BertForSequenceClassification model from a BertForSequenceClassification model).\n",
      "All the layers of TFBertModel were initialized from the model checkpoint at bert-base-uncased.\n",
      "If your task is similar to the task the model of the checkpoint was trained on, you can already use TFBertModel for predictions without further training.\n",
      "2021-10-17 15:14:20.045512: I tensorflow/compiler/mlir/mlir_graph_optimization_pass.cc:185] None of the MLIR Optimization Passes are enabled (registered 2)\n"
     ]
    },
    {
     "name": "stdout",
     "output_type": "stream",
     "text": [
      "135/135 [==============================] - 194s 1s/step\n",
      "Data in:  /home/reda/.keras/datasets/Orlando_reviews.csv\n"
     ]
    },
    {
     "name": "stderr",
     "output_type": "stream",
     "text": [
      "100%|█████████████████████████████████████████████████████████████████████████████████████████████████████████████████████████████████████████████████████████| 440949/440949 [00:00<00:00, 2091304.21it/s]\n",
      "100%|████████████████████████████████████████████████████████████████████████████████████████████████████████████████████████████████████████████████████████████| 440949/440949 [02:45<00:00, 2659.87it/s]\n",
      "Some layers from the model checkpoint at bert-base-uncased were not used when initializing TFBertModel: ['nsp___cls', 'mlm___cls']\n",
      "- This IS expected if you are initializing TFBertModel from the checkpoint of a model trained on another task or with another architecture (e.g. initializing a BertForSequenceClassification model from a BertForPreTraining model).\n",
      "- This IS NOT expected if you are initializing TFBertModel from the checkpoint of a model that you expect to be exactly identical (initializing a BertForSequenceClassification model from a BertForSequenceClassification model).\n",
      "All the layers of TFBertModel were initialized from the model checkpoint at bert-base-uncased.\n",
      "If your task is similar to the task the model of the checkpoint was trained on, you can already use TFBertModel for predictions without further training.\n"
     ]
    },
    {
     "name": "stdout",
     "output_type": "stream",
     "text": [
      "308/308 [==============================] - 444s 1s/step\n",
      "Data in:  /home/reda/.keras/datasets/Toronto_reviews.csv\n"
     ]
    },
    {
     "name": "stderr",
     "output_type": "stream",
     "text": [
      "100%|█████████████████████████████████████████████████████████████████████████████████████████████████████████████████████████████████████████████████████████| 402927/402927 [00:00<00:00, 1991030.14it/s]\n",
      "100%|████████████████████████████████████████████████████████████████████████████████████████████████████████████████████████████████████████████████████████████| 402927/402927 [01:53<00:00, 3537.82it/s]\n",
      "Some layers from the model checkpoint at bert-base-uncased were not used when initializing TFBertModel: ['nsp___cls', 'mlm___cls']\n",
      "- This IS expected if you are initializing TFBertModel from the checkpoint of a model trained on another task or with another architecture (e.g. initializing a BertForSequenceClassification model from a BertForPreTraining model).\n",
      "- This IS NOT expected if you are initializing TFBertModel from the checkpoint of a model that you expect to be exactly identical (initializing a BertForSequenceClassification model from a BertForSequenceClassification model).\n",
      "All the layers of TFBertModel were initialized from the model checkpoint at bert-base-uncased.\n",
      "If your task is similar to the task the model of the checkpoint was trained on, you can already use TFBertModel for predictions without further training.\n"
     ]
    },
    {
     "name": "stdout",
     "output_type": "stream",
     "text": [
      "180/180 [==============================] - 261s 1s/step\n"
     ]
    }
   ],
   "source": [
    "predictions = {}\n",
    "ground_truth = {}\n",
    "for city in yelp_cities:\n",
    "    # Load data\n",
    "    dataset = Dataset(city)\n",
    "    ground_truth[city] = dataset.y_test\n",
    "    # Create the model\n",
    "    model = models.get_model(dataset.max_len, dataset.num_labels, tpu=False)\n",
    "    file_name = 'models/saved_weights_' + dataset.dataset + '.h5'\n",
    "    model.load_weights(file_name)\n",
    "    preds = model.predict(dataset.X_test, verbose=1, batch_size=128)\n",
    "    predictions[city] = preds\n"
   ]
  },
  {
   "cell_type": "code",
   "execution_count": 10,
   "id": "4a98a358",
   "metadata": {},
   "outputs": [
    {
     "name": "stderr",
     "output_type": "stream",
     "text": [
      "/home/reda/PycharmProjects/WWW22_LMRec/python3.8_WWW22_LMRec/lib/python3.8/site-packages/sklearn/metrics/_classification.py:1308: UndefinedMetricWarning: Precision is ill-defined and being set to 0.0 in labels with no predicted samples. Use `zero_division` parameter to control this behavior.\n",
      "  _warn_prf(average, modifier, msg_start, len(result))\n"
     ]
    },
    {
     "ename": "TypeError",
     "evalue": "can only concatenate str (not \"int\") to str",
     "output_type": "error",
     "traceback": [
      "\u001b[0;31m---------------------------------------------------------------------------\u001b[0m",
      "\u001b[0;31mTypeError\u001b[0m                                 Traceback (most recent call last)",
      "\u001b[0;32m/tmp/ipykernel_2924452/4248392669.py\u001b[0m in \u001b[0;36m<module>\u001b[0;34m\u001b[0m\n\u001b[1;32m      4\u001b[0m     \u001b[0my_true\u001b[0m \u001b[0;34m=\u001b[0m \u001b[0mground_truth\u001b[0m\u001b[0;34m[\u001b[0m\u001b[0mcity\u001b[0m\u001b[0;34m]\u001b[0m\u001b[0;34m\u001b[0m\u001b[0;34m\u001b[0m\u001b[0m\n\u001b[1;32m      5\u001b[0m     \u001b[0my_pred\u001b[0m \u001b[0;34m=\u001b[0m \u001b[0mpredictions\u001b[0m\u001b[0;34m[\u001b[0m\u001b[0mcity\u001b[0m\u001b[0;34m]\u001b[0m\u001b[0;34m\u001b[0m\u001b[0;34m\u001b[0m\u001b[0m\n\u001b[0;32m----> 6\u001b[0;31m     \u001b[0mperformance\u001b[0m \u001b[0;34m=\u001b[0m \u001b[0mmetrics\u001b[0m\u001b[0;34m.\u001b[0m\u001b[0mget_performance\u001b[0m\u001b[0;34m(\u001b[0m\u001b[0my_true\u001b[0m\u001b[0;34m,\u001b[0m \u001b[0my_pred\u001b[0m\u001b[0;34m)\u001b[0m\u001b[0;34m\u001b[0m\u001b[0;34m\u001b[0m\u001b[0m\n\u001b[0m\u001b[1;32m      7\u001b[0m     data = data.append(pd.DataFrame([[performance['Precision'],\n\u001b[1;32m      8\u001b[0m                                       \u001b[0mperformance\u001b[0m\u001b[0;34m[\u001b[0m\u001b[0;34m'Recall'\u001b[0m\u001b[0;34m]\u001b[0m\u001b[0;34m,\u001b[0m\u001b[0;34m\u001b[0m\u001b[0;34m\u001b[0m\u001b[0m\n",
      "\u001b[0;32m~/PycharmProjects/WWW22_LMRec/utoronto/edu/ca/metrics.py\u001b[0m in \u001b[0;36mget_performance\u001b[0;34m(y_true, y_pred)\u001b[0m\n\u001b[1;32m     30\u001b[0m            'MRR': mrr}\n\u001b[1;32m     31\u001b[0m     \u001b[0;32mfor\u001b[0m \u001b[0mi\u001b[0m \u001b[0;32min\u001b[0m \u001b[0mrange\u001b[0m\u001b[0;34m(\u001b[0m\u001b[0mlen\u001b[0m\u001b[0;34m(\u001b[0m\u001b[0mtop_k_accuracy_score\u001b[0m\u001b[0;34m)\u001b[0m\u001b[0;34m)\u001b[0m\u001b[0;34m:\u001b[0m\u001b[0;34m\u001b[0m\u001b[0;34m\u001b[0m\u001b[0m\n\u001b[0;32m---> 32\u001b[0;31m         \u001b[0mout\u001b[0m\u001b[0;34m[\u001b[0m\u001b[0;34m'HR@'\u001b[0m \u001b[0;34m+\u001b[0m \u001b[0mstr\u001b[0m\u001b[0;34m(\u001b[0m\u001b[0mi\u001b[0m\u001b[0;34m)\u001b[0m\u001b[0;34m]\u001b[0m \u001b[0;34m=\u001b[0m \u001b[0mtop_k_accuracy_score\u001b[0m\u001b[0;34m[\u001b[0m\u001b[0mi\u001b[0m\u001b[0;34m]\u001b[0m\u001b[0;34m\u001b[0m\u001b[0;34m\u001b[0m\u001b[0m\n\u001b[0m\u001b[1;32m     33\u001b[0m     \u001b[0;32mreturn\u001b[0m \u001b[0mout\u001b[0m\u001b[0;34m\u001b[0m\u001b[0;34m\u001b[0m\u001b[0m\n\u001b[1;32m     34\u001b[0m \u001b[0;34m\u001b[0m\u001b[0m\n",
      "\u001b[0;31mTypeError\u001b[0m: can only concatenate str (not \"int\") to str"
     ]
    }
   ],
   "source": [
    "data = pd.DataFrame(columns=['City','Precision', 'Recall', 'F1-Score', 'Accuracy', 'MRR', \n",
    "                             'HR@5', 'HR@10', 'HR@20'])\n",
    "for city in predictions.keys():\n",
    "    y_true = ground_truth[city]\n",
    "    y_pred = predictions[city]\n",
    "    performance = metrics.get_performance(y_true, y_pred)\n",
    "    data = data.append(pd.DataFrame([[performance['Precision'],\n",
    "                                      performance['Recall'],\n",
    "                                      performance['F1-Score'],\n",
    "                                      performance['Accuracy'],\n",
    "                                      performance['MRR'],\n",
    "                                      performance['HR@5'],\n",
    "                                      performance['HR@10'],\n",
    "                                      performance['HR@20']]],\n",
    "                                    columns=['City','Precision', 'Recall', 'F1-Score', 'Accuracy', 'MRR', \n",
    "                                             'HR@5', 'HR@10', 'HR@20']),ignore_index=True)\n",
    "    \n",
    "    "
   ]
  },
  {
   "cell_type": "code",
   "execution_count": 82,
   "id": "560d6578",
   "metadata": {},
   "outputs": [
    {
     "data": {
      "text/plain": [
       "{'Precision': 0.49893281285154034,\n",
       " 'Recall': 0.4675475871703824,\n",
       " 'F1-Score': 0.4672784657221058,\n",
       " 'Accuracy': 0.4675475871703824,\n",
       " 'MRR': 0.5604930172768744,\n",
       " 'HR@1-20': [0.0,\n",
       "  0.4675475871703824,\n",
       "  0.5652831945980558,\n",
       "  0.6133069445252926,\n",
       "  0.6439257232667792,\n",
       "  0.6653472262646254,\n",
       "  0.6822283019966238,\n",
       "  0.6960242156120845,\n",
       "  0.7095872868036557,\n",
       "  0.7208801443623029,\n",
       "  0.7300774201059433,\n",
       "  0.7375283776704116,\n",
       "  0.7448047034169626,\n",
       "  0.7514989231037895,\n",
       "  0.7580767215786717,\n",
       "  0.7638395715699401,\n",
       "  0.7689038942895395,\n",
       "  0.7730368473135806,\n",
       "  0.778799697304849,\n",
       "  0.7843879154782001]}"
      ]
     },
     "execution_count": 82,
     "metadata": {},
     "output_type": "execute_result"
    }
   ],
   "source": [
    "performance"
   ]
  },
  {
   "cell_type": "code",
   "execution_count": null,
   "id": "d5295d39",
   "metadata": {},
   "outputs": [],
   "source": [
    "data\n"
   ]
  },
  {
   "cell_type": "code",
   "execution_count": 28,
   "id": "299111bc",
   "metadata": {},
   "outputs": [
    {
     "name": "stderr",
     "output_type": "stream",
     "text": [
      "/home/reda/PycharmProjects/WWW22_LMRec/python3.8_WWW22_LMRec/lib/python3.8/site-packages/sklearn/metrics/_classification.py:1308: UndefinedMetricWarning: Precision is ill-defined and being set to 0.0 in labels with no predicted samples. Use `zero_division` parameter to control this behavior.\n",
      "  _warn_prf(average, modifier, msg_start, len(result))\n"
     ]
    }
   ],
   "source": [
    "precision_score = metrics.precision_score(dataset.y_test, np.argmax(preds, axis=1), average='weighted')\n",
    "recall_score = metrics.recall_score(dataset.y_test, np.argmax(preds, axis=1), average='weighted')\n",
    "f1_score = metrics.f1_score(dataset.y_test, np.argmax(preds, axis=1), average='weighted')\n",
    "top_k_accuracy_score = [metrics.top_k_accuracy_score(dataset.y_test, preds, k=k) for k in range(20)]\n",
    "accuracy = metrics.accuracy_score(dataset.y_test, np.argmax(preds, axis=1))\n",
    "mrr = metrics_eval.mrr(np.array([[x] for x in dataset.y_test]), np.argsort(-1*preds, axis=1))\n",
    "metric_names = ['Precision', 'Recall', 'F1-Score', 'Accuracy', 'MRR']\n",
    "metric_values = [precision_score, recall_score, f1_score, accuracy, mrr]\n"
   ]
  },
  {
   "cell_type": "code",
   "execution_count": 29,
   "id": "84919735",
   "metadata": {},
   "outputs": [
    {
     "data": {
      "text/html": [
       "<div>\n",
       "<style scoped>\n",
       "    .dataframe tbody tr th:only-of-type {\n",
       "        vertical-align: middle;\n",
       "    }\n",
       "\n",
       "    .dataframe tbody tr th {\n",
       "        vertical-align: top;\n",
       "    }\n",
       "\n",
       "    .dataframe thead th {\n",
       "        text-align: right;\n",
       "    }\n",
       "</style>\n",
       "<table border=\"1\" class=\"dataframe\">\n",
       "  <thead>\n",
       "    <tr style=\"text-align: right;\">\n",
       "      <th></th>\n",
       "      <th>metric</th>\n",
       "      <th>value</th>\n",
       "    </tr>\n",
       "  </thead>\n",
       "  <tbody>\n",
       "    <tr>\n",
       "      <th>0</th>\n",
       "      <td>Precision</td>\n",
       "      <td>0.498933</td>\n",
       "    </tr>\n",
       "    <tr>\n",
       "      <th>1</th>\n",
       "      <td>Recall</td>\n",
       "      <td>0.467548</td>\n",
       "    </tr>\n",
       "    <tr>\n",
       "      <th>2</th>\n",
       "      <td>F1-Score</td>\n",
       "      <td>0.467278</td>\n",
       "    </tr>\n",
       "    <tr>\n",
       "      <th>3</th>\n",
       "      <td>Accuracy</td>\n",
       "      <td>0.467548</td>\n",
       "    </tr>\n",
       "    <tr>\n",
       "      <th>4</th>\n",
       "      <td>MRR</td>\n",
       "      <td>0.560493</td>\n",
       "    </tr>\n",
       "  </tbody>\n",
       "</table>\n",
       "</div>"
      ],
      "text/plain": [
       "      metric     value\n",
       "0  Precision  0.498933\n",
       "1     Recall  0.467548\n",
       "2   F1-Score  0.467278\n",
       "3   Accuracy  0.467548\n",
       "4        MRR  0.560493"
      ]
     },
     "execution_count": 29,
     "metadata": {},
     "output_type": "execute_result"
    }
   ],
   "source": [
    "data = pd.DataFrame(columns=['metric','value'])\n",
    "data_list = list(zip(metric_names, metric_values))\n",
    "\n",
    "data = data.append(pd.DataFrame(data_list, columns=['metric','value']),ignore_index=True)\n",
    "data"
   ]
  },
  {
   "cell_type": "code",
   "execution_count": 30,
   "id": "79f5b211",
   "metadata": {},
   "outputs": [
    {
     "data": {
      "image/png": "[encoded data removed]",
      "text/plain": [
       "<Figure size 460.8x273.6 with 1 Axes>"
      ]
     },
     "metadata": {
      "needs_background": "light"
     },
     "output_type": "display_data"
    }
   ],
   "source": [
    "# statistic, pvalue = stats.ttest_ind(acc2, acc_baseline2)\n",
    "plt.figure(figsize=(6.4, 3.8))\n",
    "\n",
    "ax = sns.barplot(x=\"metric\", y=\"value\", data=data, ci=95, capsize=.2)\n",
    "ax.grid(color='black', linestyle='--', linewidth=1)\n",
    "ax.set_axisbelow(True)\n",
    "\n",
    "plt.xlabel(\"\")\n",
    "plt.ylabel(\"\")\n",
    "# plt.title(\"Box plot of #candidates per cycle and system\")\n",
    "params = {'legend.fontsize': 18,\n",
    "          'axes.labelsize': 20,\n",
    "          'axes.titlesize': 14,\n",
    "          'xtick.labelsize': 20,\n",
    "          'ytick.labelsize': 18,\n",
    "          'axes.titlepad': 25,\n",
    "          'font.size': 24}\n",
    "plt.rcParams.update(params)\n",
    "plt.ylim(0.46, 0.6)\n",
    "plt.xticks(rotation=30)\n",
    "# plt.savefig('plots/em_SQuAD2.0.eps', bbox_inches = 'tight')\n",
    "plt.show()\n"
   ]
  },
  {
   "cell_type": "code",
   "execution_count": 31,
   "id": "307bb063",
   "metadata": {},
   "outputs": [
    {
     "data": {
      "image/png": "[encoded data removed]",
      "text/plain": [
       "<Figure size 460.8x273.6 with 1 Axes>"
      ]
     },
     "metadata": {
      "needs_background": "light"
     },
     "output_type": "display_data"
    }
   ],
   "source": [
    "plt.figure(figsize=(6.4, 3.8))\n",
    "plt.plot([x for x in range(1 , len(top_k_accuracy_score)+1)], top_k_accuracy_score)\n",
    "plt.grid(color='black', linestyle='--', linewidth=1)\n",
    "# plt.set_axisbelow(True)\n",
    "\n",
    "plt.xlabel(\"Values of k\")\n",
    "plt.ylabel(\"HR@K\")\n",
    "# plt.title(\"Box plot of #candidates per cycle and system\")\n",
    "params = {'legend.fontsize': 18,\n",
    "          'axes.labelsize': 20,\n",
    "          'axes.titlesize': 14,\n",
    "          'xtick.labelsize': 20,\n",
    "          'ytick.labelsize': 18,\n",
    "          'axes.titlepad': 25,\n",
    "          'font.size': 24}\n",
    "plt.rcParams.update(params)\n",
    "plt.ylim(0, 1)\n",
    "plt.xlim(1, 20)\n",
    "plt.xticks(rotation=30)\n",
    "# plt.savefig('plots/em_SQuAD2.0.eps', bbox_inches = 'tight')\n",
    "plt.show()\n"
   ]
  },
  {
   "cell_type": "markdown",
   "id": "22d2ed86",
   "metadata": {},
   "source": [
    "# Category-based performance"
   ]
  },
  {
   "cell_type": "code",
   "execution_count": 32,
   "id": "ed0c04fc",
   "metadata": {},
   "outputs": [
    {
     "name": "stderr",
     "output_type": "stream",
     "text": [
      "100%|██████████████████████████████████████████████████████████████████████████████████████████████████████████████████████████████████████████████████████████████| 17179/17179 [00:06<00:00, 2488.17it/s]\n"
     ]
    }
   ],
   "source": [
    "# Prepare the qrels\n",
    "qrel= {}\n",
    "with tqdm(total=len(preds)) as pbar:\n",
    "    for i in range(len(dataset.y_test)):\n",
    "        r = {}\n",
    "        business_id = dataset.labels[dataset.y_test[i]]\n",
    "        categories1 = dataset.business_to_categories[business_id]\n",
    "            \n",
    "        for business_id in dataset.labels:\n",
    "            categories2 = dataset.business_to_categories[business_id]\n",
    "            if len(categories1.intersection(categories2)) != 0:\n",
    "                r[business_id] = int(1)\n",
    "        qrel['r'+str(i)] = r\n",
    "        pbar.update(1)      \n",
    "\n",
    "\n"
   ]
  },
  {
   "cell_type": "code",
   "execution_count": 33,
   "id": "cbb27ee6",
   "metadata": {},
   "outputs": [
    {
     "name": "stderr",
     "output_type": "stream",
     "text": [
      "100%|██████████████████████████████████████████████████████████████████████████████████████████████████████████████████████████████████████████████████████████████| 17179/17179 [00:06<00:00, 2544.64it/s]\n"
     ]
    }
   ],
   "source": [
    "# Prepare the results\n",
    "run = {}\n",
    "with tqdm(total=len(preds)) as pbar:\n",
    "    for i in range(len(preds)):\n",
    "        rec = preds[i]  \n",
    "        r = {}\n",
    "        for j in range(len(rec)):\n",
    "            p = rec[j]\n",
    "            business_id = dataset.labels[j]\n",
    "            r[business_id] = float(p)\n",
    "        run['r'+str(i)] = r            \n",
    "        \n",
    "        pbar.update(1)\n"
   ]
  },
  {
   "cell_type": "code",
   "execution_count": 34,
   "id": "cd02c2b5",
   "metadata": {},
   "outputs": [],
   "source": [
    "evaluator = pytrec_eval.RelevanceEvaluator(qrel, {'map','P', 'recall', 'ndcg', 'recip_rank', 'Rprec',\n",
    "                                                 'success_1', 'success_5', 'success_10',\n",
    "                                                 'num_q','num_rel','num_rel_ret','num_ret'})\n",
    "res = evaluator.evaluate(run)\n"
   ]
  },
  {
   "cell_type": "code",
   "execution_count": 35,
   "id": "da021410",
   "metadata": {},
   "outputs": [],
   "source": [
    "# Averaging\n",
    "out = {}\n",
    "for k in res:\n",
    "    for m in res[k]:\n",
    "        out[m] = 0\n",
    "for k in res:\n",
    "    for m in res[k]:\n",
    "        if m not in ['num_q','num_rel','num_rel_ret','num_ret']:\n",
    "            out[m] = out[m] + (res[k][m] / len(res))\n",
    "        else:\n",
    "            out[m] = int(out[m] + res[k][m])\n"
   ]
  },
  {
   "cell_type": "code",
   "execution_count": 43,
   "id": "f284cd63",
   "metadata": {},
   "outputs": [
    {
     "data": {
      "image/png": "[encoded data removed]",
      "text/plain": [
       "<Figure size 460.8x273.6 with 1 Axes>"
      ]
     },
     "metadata": {
      "needs_background": "light"
     },
     "output_type": "display_data"
    }
   ],
   "source": [
    "# Averaging\n",
    "y = [out['P_5'], out['P_10'], out['P_15'], out['P_20'], \n",
    "     out['P_30'], out['P_100'], out['P_200'], out['P_500'], out['P_1000'], ]\n",
    "\n",
    "x = [out['recall_5'], out['recall_10'], out['recall_15'], out['recall_20'], \n",
    "     out['recall_30'], out['recall_100'], out['recall_200'], out['recall_500'], out['recall_1000'], ]\n",
    "\n",
    "plt.figure(figsize=(6.4, 3.8))\n",
    "plt.plot(x, y)\n",
    "plt.grid(color='black', linestyle='--', linewidth=1)\n",
    "# plt.set_axisbelow(True)\n",
    "\n",
    "plt.xlabel(\"Recall\")\n",
    "plt.ylabel(\"Precision\")\n",
    "# plt.title(\"Box plot of #candidates per cycle and system\")\n",
    "params = {'legend.fontsize': 18,\n",
    "          'axes.labelsize': 20,\n",
    "          'axes.titlesize': 14,\n",
    "          'xtick.labelsize': 20,\n",
    "          'ytick.labelsize': 18,\n",
    "          'axes.titlepad': 25,\n",
    "          'font.size': 24}\n",
    "plt.rcParams.update(params)\n",
    "plt.ylim(0.2, 0.9)\n",
    "plt.xlim(0., 1)\n",
    "plt.xticks(rotation=30)\n",
    "# plt.savefig('plots/em_SQuAD2.0.eps', bbox_inches = 'tight')\n",
    "plt.show()\n",
    "\n",
    "for k in res:\n",
    "    for m in res[k]:\n",
    "        out[m] = 0\n",
    "for k in res:\n",
    "    for m in res[k]:\n",
    "        if m not in ['num_q','num_rel','num_rel_ret','num_ret']:\n",
    "            out[m] = out[m] + (res[k][m] / len(res))\n",
    "        else:\n",
    "            out[m] = int(out[m] + res[k][m])\n"
   ]
  },
  {
   "cell_type": "code",
   "execution_count": 51,
   "id": "e25b0e27",
   "metadata": {},
   "outputs": [
    {
     "data": {
      "text/plain": [
       "[('num_q', 17179),\n",
       " ('num_ret', 17831802),\n",
       " ('num_rel', 6181634),\n",
       " ('num_rel_ret', 6181634),\n",
       " ('map', 0.5276244396914725),\n",
       " ('Rprec', 0.4963272958741358),\n",
       " ('recip_rank', 0.9339682230997245),\n",
       " ('P_5', 0.8254147505676146),\n",
       " ('P_10', 0.7809011001804387),\n",
       " ('P_15', 0.7522750645168021),\n",
       " ('P_20', 0.7307031841201657),\n",
       " ('P_30', 0.6976056037409972),\n",
       " ('P_100', 0.5870289306711771),\n",
       " ('P_200', 0.522666627859598),\n",
       " ('P_500', 0.4334988066825797),\n",
       " ('P_1000', 0.3527675068397451),\n",
       " ('recall_5', 0.021731734552552208),\n",
       " ('recall_10', 0.03792810621620064),\n",
       " ('recall_15', 0.0523312698484717),\n",
       " ('recall_20', 0.06550499820059043),\n",
       " ('recall_30', 0.08900063444534466),\n",
       " ('recall_100', 0.2101562768089297),\n",
       " ('recall_200', 0.34114454527151317),\n",
       " ('recall_500', 0.6398915809399848),\n",
       " ('recall_1000', 0.9826435387030246),\n",
       " ('ndcg', 0.8712977703551694),\n",
       " ('success_1', 0.9042435531755474),\n",
       " ('success_5', 0.9718260667095524),\n",
       " ('success_10', 0.9835263985100132)]"
      ]
     },
     "execution_count": 51,
     "metadata": {},
     "output_type": "execute_result"
    }
   ],
   "source": [
    "data_list2"
   ]
  },
  {
   "cell_type": "code",
   "execution_count": 45,
   "id": "f242e2a1",
   "metadata": {},
   "outputs": [
    {
     "data": {
      "text/html": [
       "<div>\n",
       "<style scoped>\n",
       "    .dataframe tbody tr th:only-of-type {\n",
       "        vertical-align: middle;\n",
       "    }\n",
       "\n",
       "    .dataframe tbody tr th {\n",
       "        vertical-align: top;\n",
       "    }\n",
       "\n",
       "    .dataframe thead th {\n",
       "        text-align: right;\n",
       "    }\n",
       "</style>\n",
       "<table border=\"1\" class=\"dataframe\">\n",
       "  <thead>\n",
       "    <tr style=\"text-align: right;\">\n",
       "      <th></th>\n",
       "      <th>metric</th>\n",
       "      <th>value</th>\n",
       "    </tr>\n",
       "  </thead>\n",
       "  <tbody>\n",
       "    <tr>\n",
       "      <th>4</th>\n",
       "      <td>map</td>\n",
       "      <td>0.527624</td>\n",
       "    </tr>\n",
       "    <tr>\n",
       "      <th>5</th>\n",
       "      <td>Rprec</td>\n",
       "      <td>0.496327</td>\n",
       "    </tr>\n",
       "    <tr>\n",
       "      <th>6</th>\n",
       "      <td>recip_rank</td>\n",
       "      <td>0.933968</td>\n",
       "    </tr>\n",
       "    <tr>\n",
       "      <th>25</th>\n",
       "      <td>ndcg</td>\n",
       "      <td>0.871298</td>\n",
       "    </tr>\n",
       "    <tr>\n",
       "      <th>26</th>\n",
       "      <td>success_1</td>\n",
       "      <td>0.904244</td>\n",
       "    </tr>\n",
       "    <tr>\n",
       "      <th>27</th>\n",
       "      <td>success_5</td>\n",
       "      <td>0.971826</td>\n",
       "    </tr>\n",
       "    <tr>\n",
       "      <th>28</th>\n",
       "      <td>success_10</td>\n",
       "      <td>0.983526</td>\n",
       "    </tr>\n",
       "  </tbody>\n",
       "</table>\n",
       "</div>"
      ],
      "text/plain": [
       "        metric     value\n",
       "4          map  0.527624\n",
       "5        Rprec  0.496327\n",
       "6   recip_rank  0.933968\n",
       "25        ndcg  0.871298\n",
       "26   success_1  0.904244\n",
       "27   success_5  0.971826\n",
       "28  success_10  0.983526"
      ]
     },
     "execution_count": 45,
     "metadata": {},
     "output_type": "execute_result"
    }
   ],
   "source": [
    "data2 = pd.DataFrame(columns=['metric','value'])\n",
    "data_list2 = list(zip(out.keys(), out.values()))\n",
    "\n",
    "data2 = data2.append(pd.DataFrame(data_list2, columns=['metric','value']),ignore_index=True)\n",
    "data2 = data2[~data2['metric'].isin(['num_q','num_ret','num_rel_ret','num_rel',\n",
    "                                     'P_5', 'P_10', 'P_15', 'P_20', \n",
    "                                     'P_30', 'P_100', 'P_200', 'P_500', 'P_1000',\n",
    "                                     'recall_5', 'recall_10', 'recall_15', 'recall_20', \n",
    "                                     'recall_30', 'recall_100', 'recall_200', 'recall_500', 'recall_1000'])]\n",
    "data2"
   ]
  },
  {
   "cell_type": "code",
   "execution_count": 46,
   "id": "6c3b5912",
   "metadata": {},
   "outputs": [
    {
     "data": {
      "image/png": "[encoded data removed]",
      "text/plain": [
       "<Figure size 1080x273.6 with 1 Axes>"
      ]
     },
     "metadata": {
      "needs_background": "light"
     },
     "output_type": "display_data"
    }
   ],
   "source": [
    "# statistic, pvalue = stats.ttest_ind(acc2, acc_baseline2)\n",
    "plt.figure(figsize=(15, 3.8))\n",
    "\n",
    "ax = sns.barplot(x=\"metric\", y=\"value\", data=data2, ci=95, capsize=.2)\n",
    "# ax.text(.5,.87,f\"p-value = {pvalue:.4f} ≮ 0.05\",\n",
    "#         horizontalalignment='center',\n",
    "#         transform=ax.transAxes,\n",
    "#        bbox=dict(facecolor='white', edgecolor='none'))\n",
    "ax.grid(color='black', linestyle='--', linewidth=1)\n",
    "ax.set_axisbelow(True)\n",
    "\n",
    "plt.xlabel(\"\")\n",
    "plt.ylabel(\"\")\n",
    "# plt.title(\"Box plot of #candidates per cycle and system\")\n",
    "params = {'legend.fontsize': 18,\n",
    "          'axes.labelsize': 20,\n",
    "          'axes.titlesize': 14,\n",
    "          'xtick.labelsize': 20,\n",
    "          'ytick.labelsize': 18,\n",
    "          'axes.titlepad': 25,\n",
    "          'font.size': 24}\n",
    "plt.rcParams.update(params)\n",
    "plt.ylim(0, 1)\n",
    "# plt.xticks(rotation=30)\n",
    "# plt.savefig('plots/em_SQuAD2.0.eps', bbox_inches = 'tight')\n",
    "plt.show()\n"
   ]
  },
  {
   "cell_type": "code",
   "execution_count": null,
   "id": "3fd6f898",
   "metadata": {},
   "outputs": [],
   "source": []
  }
 ],
 "metadata": {
  "kernelspec": {
   "display_name": "Python 3",
   "language": "python",
   "name": "python3"
  },
  "language_info": {
   "codemirror_mode": {
    "name": "ipython",
    "version": 3
   },
   "file_extension": ".py",
   "mimetype": "text/x-python",
   "name": "python",
   "nbconvert_exporter": "python",
   "pygments_lexer": "ipython3",
   "version": "3.8.10"
  }
 },
 "nbformat": 4,
 "nbformat_minor": 5
}
